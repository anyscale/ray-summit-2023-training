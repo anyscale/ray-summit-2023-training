{
 "cells": [
  {
   "cell_type": "markdown",
   "id": "14e33138-ee46-449b-bf06-d75fcd3e617d",
   "metadata": {},
   "source": [
    "# Anyscale Endpoints Lab"
   ]
  },
  {
   "cell_type": "markdown",
   "id": "d31d4db0-f500-4936-aed3-f853efcdc1c4",
   "metadata": {},
   "source": [
    "This lab is an opportunity to familiarize yourself with\n",
    "* Anyscale Endpoints -- a service similar to the OpenAI API ... except all of the models are open\n",
    "* LLM apps in general\n",
    "* How LLM apps change based on the models they use\n",
    "\n",
    "If you're new to LLM applications, focus on the intro level activity. If you've worked with LLM apps before, you may have time to try the additional activities."
   ]
  },
  {
   "cell_type": "markdown",
   "id": "7991c8d9-4f3f-4269-961b-728299e2fa6d",
   "metadata": {},
   "source": [
    "## Intro level activity\n",
    "\n",
    "The main activity in this lab is to duplicate the Intro_LLM_Apps notebook, and \n",
    "* switch the \"backend\" to Anyscale Endpoints by changing the API key and base URL as described at https://app.endpoints.anyscale.com/\n",
    "    * during Ray Summit, you can use a private Anyscale Endpoints instance by using `https://ray-summit-training-jrvwy.cld-kvedzwag2qa8i5bj.s.anyscaleuserdata-staging.com/v1` as the API base URL\n",
    "* switch the model to \"meta-llama/Llama-2-70b-chat-hf\" (the 70B Llama 2 chat-tuned model)\n",
    "* the open LLama-2-70b-chat model sometimes produces much longer responses (that also take more time)\n",
    "    * pass `max_tokens=200` to the `create()` call to get shorter faster answers\n",
    "    * you may need to allow more tokens to get properly formatted answers to the email (tool) questions\n",
    "\n",
    "Feel free to delete the extra explanatory cells, so that you can focus on keeping the code cells close together\n",
    "\n",
    "Notice that some of the model behavior is a bit different from the GPT-3.5-Turbo version"
   ]
  },
  {
   "cell_type": "markdown",
   "id": "bcb4e2da-74fe-431a-bcd7-e5ac5c01b90d",
   "metadata": {},
   "source": [
    "## Intermediate level activity\n",
    "\n",
    "Try to change the prompts in order to get this model to achieve the same level of functionality as GPT-3.5-Turbo"
   ]
  },
  {
   "cell_type": "markdown",
   "id": "a79c208f-18ba-4123-b59c-658bdd7de40f",
   "metadata": {},
   "source": [
    "## Advanced activity\n",
    "\n",
    "Alter the email tool/agent functionality to also include the destination email address (since sending a real email would of course require the target address).\n",
    "\n",
    "Hint: this will require altering the \"database\" as well as the prompts"
   ]
  }
 ],
 "metadata": {
  "kernelspec": {
   "display_name": "Python 3 (ipykernel)",
   "language": "python",
   "name": "python3"
  },
  "language_info": {
   "codemirror_mode": {
    "name": "ipython",
    "version": 3
   },
   "file_extension": ".py",
   "mimetype": "text/x-python",
   "name": "python",
   "nbconvert_exporter": "python",
   "pygments_lexer": "ipython3",
   "version": "3.10.8"
  }
 },
 "nbformat": 4,
 "nbformat_minor": 5
}
