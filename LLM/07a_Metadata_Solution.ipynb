{
 "cells": [
  {
   "cell_type": "markdown",
   "id": "f87c40d1-063c-4699-bdeb-cd9d2cb43832",
   "metadata": {},
   "source": [
    "# Metadata generation and querying lab"
   ]
  },
  {
   "cell_type": "markdown",
   "id": "a97cd4cd-d00b-4f90-bd0f-aeb818f9071d",
   "metadata": {},
   "source": [
    "This lab is an opportunity to familiarize yourself with\n",
    "* Ray datasets\n",
    "* `map_batches`\n",
    "* generating metadata and providing it to a vector store\n",
    "* using metadata to improve query results\n",
    "\n",
    "If you're new to LLMs and Ray applications, focus on the core activities. If you've worked with LLMs and/or Ray before, you may have time to try the advanced activity."
   ]
  },
  {
   "cell_type": "markdown",
   "id": "1fe28c07-a034-49ae-8271-d6c9020862ae",
   "metadata": {},
   "source": [
    "## Core activities\n",
    "\n",
    "Throughout this lab, we're going to work with additional metadata for each of our documents. The metadata we'll add here is simple: it's just the length of the document. But we'll see that having (and using) even trivial metadata like this allows us to improve our search results.\n",
    "\n",
    "1. Copy and modify the code that uses Ray datasets and `.map_batches` to generate embeddings. Add to the ouput of the existing processing operation a column that contains the length of each document. *Hint: it will be another key-value pair in the dictionary representing the batch-processing output*\n",
    "1. Set the actor pool to a fixed size of 4 instead of the autoscaling version we used before (just to explore the `map_batches` API further)\n",
    "1. Using the ChromaDB docs and our existing code, generate a new Chroma collection that includes metadata for each doc. *Hint: the metadata will be supplied in a list alongside the docs and IDs. Each metadata record is a Python dictionary.*\n",
    "1. Modify the calls to `collection.query` to handle a `where` condition that filters against the metadata. *Hint: since we have length metadata, we can query for shorter or longer documents*\n",
    "1. Find a query where having and using the metadata makes a difference in the results -- ideally, producing better results."
   ]
  },
  {
   "cell_type": "markdown",
   "id": "c2b6b4d0-3607-4ed0-8582-9794257892f3",
   "metadata": {},
   "source": [
    "## Advanced activity\n",
    "\n",
    "In this activity, we're not trying to produce any new output functionality.\n",
    "\n",
    "But instead of modifying the existing actor class that generates the embeddings to also generate metadata, we'll leave that code as-is and write a new function which adds the metadata and which we can use with `map_batches`\n",
    "\n",
    "1. Create a function (instead of a class) for transforming the batches of data. *Hint: the function signature will look like this: `add_metadata(batch: dict[str, np.ndarray]) -> dict[str, np.ndarray]`*\n",
    "1. We're going to use the original embedding generator first, and then apply this add_metadata transformation to the data batches after they emerge from the previous `map_batches` step (with the new schema including doc, id, and embedding)\n",
    "1. We'll apply this second transformation via another call to `map_batches` but the call will be simpler than the previous one, since we don't have actors and Ray can handle scaling tasks on its own. We also don't need to worry about GPUs for this operation or specifying batch size.\n",
    "1. Collect the output via `to_numpy_refs` and then `ray.get` one of those chunks of data, inspect it, and verify it has the same strucure as the actor-based implementation"
   ]
  },
  {
   "cell_type": "markdown",
   "id": "49e2e951-24e3-4684-b625-ea850bc690b6",
   "metadata": {},
   "source": [
    "## Core activity solution"
   ]
  },
  {
   "cell_type": "code",
   "execution_count": null,
   "id": "a0f93d84-1c88-4a30-817f-963f65deb37c",
   "metadata": {
    "tags": []
   },
   "outputs": [],
   "source": [
    "import uuid\n",
    "\n",
    "import chromadb\n",
    "import numpy as np\n",
    "import ray\n",
    "from InstructorEmbedding import INSTRUCTOR"
   ]
  },
  {
   "cell_type": "code",
   "execution_count": null,
   "id": "675e5226-55ab-4b3e-818c-12cd0c98acc7",
   "metadata": {
    "tags": []
   },
   "outputs": [],
   "source": [
    "paras_ds = ray.data.read_text(\"/mnt/cluster_storage/around.txt\", parallelism=4)"
   ]
  },
  {
   "cell_type": "code",
   "execution_count": null,
   "id": "afe83c18-d8f7-400e-948f-a3955ac8c48a",
   "metadata": {
    "tags": []
   },
   "outputs": [],
   "source": [
    "class DocEmbedderWithMetadata:\n",
    "    def __init__(self):\n",
    "        self._model = INSTRUCTOR('hkunlp/instructor-large')\n",
    "\n",
    "    def __call__(self, batch: dict[str, np.ndarray]) -> dict[str, np.ndarray]:\n",
    "        inputs = batch['text']\n",
    "        embeddings = self._model.encode(inputs, device='cuda:0')\n",
    "        ids = np.array([uuid.uuid1().hex for i in inputs])\n",
    "        lengths = np.array([len(i) for i in inputs])\n",
    "        return { 'doc' : inputs, 'vec' : embeddings, 'id' : ids, 'length' : lengths }"
   ]
  },
  {
   "cell_type": "code",
   "execution_count": null,
   "id": "4a618c95-719e-440e-8bf7-c55958bc82d2",
   "metadata": {
    "tags": []
   },
   "outputs": [],
   "source": [
    "vecs = paras_ds.map_batches(DocEmbedderWithMetadata, compute=ray.data.ActorPoolStrategy(size=4), num_gpus=0.25, batch_size=64)"
   ]
  },
  {
   "cell_type": "code",
   "execution_count": null,
   "id": "746386a0-305d-419a-9cb3-04cf9be674fa",
   "metadata": {
    "tags": []
   },
   "outputs": [],
   "source": [
    "numpy_refs = vecs.to_numpy_refs()"
   ]
  },
  {
   "cell_type": "code",
   "execution_count": null,
   "id": "bbe5d740-fc96-4fe4-abfc-f223b4eab2da",
   "metadata": {
    "tags": []
   },
   "outputs": [],
   "source": [
    "dicts = ray.get(numpy_refs)\n",
    "\n",
    "vecs = np.vstack([d['vec'] for d in dicts])\n",
    "ids = np.hstack([d['id'] for d in dicts])\n",
    "docs = np.hstack([d['doc'] for d in dicts])\n",
    "metadatas = sum( [ [{'length' : int(length) } for length in d['length']] for d in dicts ], [])"
   ]
  },
  {
   "cell_type": "code",
   "execution_count": null,
   "id": "b4c8337f-e8ea-4f70-ac2b-afed934dbaea",
   "metadata": {
    "tags": []
   },
   "outputs": [],
   "source": [
    "chroma_client = chromadb.Client()\n",
    "\n",
    "collection = chroma_client.get_or_create_collection(name=\"metadata_lab\")"
   ]
  },
  {
   "cell_type": "code",
   "execution_count": null,
   "id": "1b4e57f1-81a5-4d7e-9494-aef93e59889a",
   "metadata": {
    "tags": []
   },
   "outputs": [],
   "source": [
    "collection.upsert(\n",
    "    embeddings=vecs.tolist(),\n",
    "    documents=docs.tolist(),\n",
    "    ids=ids.tolist(),\n",
    "    metadatas=metadatas\n",
    ")"
   ]
  },
  {
   "cell_type": "code",
   "execution_count": null,
   "id": "89dfc9be-7d97-47f6-9e45-a49781e8212e",
   "metadata": {
    "tags": []
   },
   "outputs": [],
   "source": [
    "model = INSTRUCTOR('hkunlp/instructor-large')"
   ]
  },
  {
   "cell_type": "code",
   "execution_count": null,
   "id": "08c3fc52-5d17-4eca-85a0-3f389f32d2c0",
   "metadata": {
    "tags": []
   },
   "outputs": [],
   "source": [
    "utah_query_vec = model.encode(\"Describe the body of water in Utah\").tolist()"
   ]
  },
  {
   "cell_type": "code",
   "execution_count": null,
   "id": "ff3e73ca-f3f8-4b76-91a2-eb9df8021770",
   "metadata": {
    "tags": []
   },
   "outputs": [],
   "source": [
    "def results_with_and_without_length(query_vec, length):\n",
    "    where_filter =  { \"length\": { \"$gt\" : length  } }\n",
    "    results_without_length = collection.query(\n",
    "        query_embeddings=[query_vec],\n",
    "        n_results=3\n",
    "    )\n",
    "    results_with_length = collection.query(\n",
    "        query_embeddings=[query_vec],\n",
    "        n_results=3,\n",
    "        where=where_filter\n",
    "    )\n",
    "    return (results_without_length, results_with_length)"
   ]
  },
  {
   "cell_type": "markdown",
   "id": "e3b406e7-557f-4c8b-8f34-b7f77f7dae42",
   "metadata": {},
   "source": [
    "Adding this this specific metadata filter to this query does not make a difference..."
   ]
  },
  {
   "cell_type": "code",
   "execution_count": null,
   "id": "92fa419f-d4a0-4d21-a718-44c3a4431fdb",
   "metadata": {
    "tags": []
   },
   "outputs": [],
   "source": [
    "results_with_and_without_length(utah_query_vec, 200)"
   ]
  },
  {
   "cell_type": "markdown",
   "id": "3696de22-3837-4a31-a429-6465f3cd7802",
   "metadata": {},
   "source": [
    "Adding a metadata filter with this query __does__ make a difference and improves the results:"
   ]
  },
  {
   "cell_type": "code",
   "execution_count": null,
   "id": "ef68a85b-0b49-49f9-9183-a5ea1cec4602",
   "metadata": {
    "tags": []
   },
   "outputs": [],
   "source": [
    "bank_query = model.encode('bank robbery details').tolist()"
   ]
  },
  {
   "cell_type": "code",
   "execution_count": null,
   "id": "a7f82c4d-3b5f-4fa7-9d5e-8bb2bf171edb",
   "metadata": {
    "tags": []
   },
   "outputs": [],
   "source": [
    "results_with_and_without_length(bank_query, 200)"
   ]
  },
  {
   "cell_type": "markdown",
   "id": "66bf821a-9c2b-4f9c-aef6-c98defd6cbb1",
   "metadata": {},
   "source": [
    "## Advanced activity solution"
   ]
  },
  {
   "cell_type": "code",
   "execution_count": null,
   "id": "9256b569-52be-480d-aa54-625f546c3eec",
   "metadata": {
    "tags": []
   },
   "outputs": [],
   "source": [
    "class DocEmbedder:\n",
    "    def __init__(self):\n",
    "        self._model = INSTRUCTOR('hkunlp/instructor-large')\n",
    "\n",
    "    def __call__(self, batch: dict[str, np.ndarray]) -> dict[str, np.ndarray]:\n",
    "        inputs = batch['text']\n",
    "        embeddings = self._model.encode(inputs, device='cuda:0')\n",
    "        ids = np.array([uuid.uuid1().hex for i in range(len(inputs))])\n",
    "        return { 'doc' : inputs, 'vec' : embeddings, 'id' : ids }"
   ]
  },
  {
   "cell_type": "code",
   "execution_count": null,
   "id": "89409070-212f-42a1-9b99-71499e5b7fd1",
   "metadata": {
    "tags": []
   },
   "outputs": [],
   "source": [
    "def add_metadata(batch: dict[str, np.ndarray]) -> dict[str, np.ndarray]:\n",
    "    lengths = np.array([len(i) for i in batch['doc']])\n",
    "    batch['length'] = lengths\n",
    "    return batch"
   ]
  },
  {
   "cell_type": "code",
   "execution_count": null,
   "id": "bd1f503a-f46f-41b5-80d1-7cd9e4c24e76",
   "metadata": {
    "tags": []
   },
   "outputs": [],
   "source": [
    "vecs = paras_ds \\\n",
    "        .map_batches(DocEmbedder, compute=ray.data.ActorPoolStrategy(size=4), num_gpus=0.25, batch_size=64) \\\n",
    "        .map_batches(add_metadata)"
   ]
  },
  {
   "cell_type": "code",
   "execution_count": null,
   "id": "2b74efb3-ac90-465c-95ae-868cdb06b872",
   "metadata": {
    "tags": []
   },
   "outputs": [],
   "source": [
    "numpy_refs = vecs.to_numpy_refs()"
   ]
  },
  {
   "cell_type": "code",
   "execution_count": null,
   "id": "c5c373d1-55f3-4197-8cdb-d1bd81ef0dc1",
   "metadata": {
    "tags": []
   },
   "outputs": [],
   "source": [
    "ray.get(numpy_refs[0])"
   ]
  }
 ],
 "metadata": {
  "kernelspec": {
   "display_name": "Python 3 (ipykernel)",
   "language": "python",
   "name": "python3"
  },
  "language_info": {
   "codemirror_mode": {
    "name": "ipython",
    "version": 3
   },
   "file_extension": ".py",
   "mimetype": "text/x-python",
   "name": "python",
   "nbconvert_exporter": "python",
   "pygments_lexer": "ipython3",
   "version": "3.10.8"
  }
 },
 "nbformat": 4,
 "nbformat_minor": 5
}
