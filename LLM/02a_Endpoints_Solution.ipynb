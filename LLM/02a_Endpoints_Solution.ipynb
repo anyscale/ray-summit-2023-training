{
 "cells": [
  {
   "cell_type": "code",
   "execution_count": null,
   "id": "d2fd2a48-675e-4d53-b8b0-0e048876e79a",
   "metadata": {
    "tags": []
   },
   "outputs": [],
   "source": [
    "from pathlib import Path\n",
    "\n",
    "import openai"
   ]
  },
  {
   "cell_type": "code",
   "execution_count": null,
   "id": "e57935c2-74e7-48ce-96d5-e2d5828380e7",
   "metadata": {
    "tags": []
   },
   "outputs": [],
   "source": [
    "openaikey = Path('aetoken.txt').read_text()\n",
    "openai.api_key = openaikey\n",
    "openai.api_base = 'https://api.endpoints.anyscale.com/v1'\n",
    "model=\"meta-llama/Llama-2-70b-chat-hf\""
   ]
  },
  {
   "cell_type": "code",
   "execution_count": null,
   "id": "5b73ea4c-4561-427a-9cf7-7850c63d1e2f",
   "metadata": {
    "tags": []
   },
   "outputs": [],
   "source": [
    "# Define the system message\n",
    "system_msg = 'You are a helpful assistant.'\n",
    "\n",
    "# Define the user message -- i.e., the prompt\n",
    "user_msg = 'What is your favorite place to visit in San Francisco?'\n",
    "\n",
    "# call GPT\n",
    "response = openai.ChatCompletion.create(model=model, max_tokens=200,\n",
    "                                        messages=[{\"role\": \"system\", \"content\": system_msg},\n",
    "                                         {\"role\": \"user\", \"content\": user_msg}])\n",
    "\n",
    "response.choices[0].message[\"content\"]"
   ]
  },
  {
   "cell_type": "code",
   "execution_count": null,
   "id": "2435614d-7a6b-4f2c-a8e9-7386cf740ffa",
   "metadata": {
    "tags": []
   },
   "outputs": [],
   "source": [
    "def quick_chat(user, temp=1.0):\n",
    "    response = openai.ChatCompletion.create(model=model, temperature=temp, max_tokens=150,\n",
    "                                        messages=[{\"role\": \"system\", \"content\": 'You are a helpful assistant.'},\n",
    "                                         {\"role\": \"user\", \"content\": user}])\n",
    "    return response.choices[0].message[\"content\"]"
   ]
  },
  {
   "cell_type": "code",
   "execution_count": null,
   "id": "97e15f97-cef3-4660-8c8c-e572c0fc8a67",
   "metadata": {
    "tags": []
   },
   "outputs": [],
   "source": [
    "quick_chat(user_msg)"
   ]
  },
  {
   "cell_type": "code",
   "execution_count": null,
   "id": "6cfd9366-e648-4eaa-8542-077b8e588c82",
   "metadata": {
    "tags": []
   },
   "outputs": [],
   "source": [
    "quick_chat(user_msg, temp=0.1)"
   ]
  },
  {
   "cell_type": "code",
   "execution_count": null,
   "id": "147ba043-6235-4295-83c4-135dae3f7815",
   "metadata": {
    "tags": []
   },
   "outputs": [],
   "source": [
    "quick_chat(user_msg, temp=1.5)"
   ]
  },
  {
   "cell_type": "code",
   "execution_count": null,
   "id": "080f7f92-ab49-480e-96fd-b4b189049208",
   "metadata": {
    "tags": []
   },
   "outputs": [],
   "source": [
    "quick_chat(\"Who is the CFO of Monkeylanguage LLC?\")"
   ]
  },
  {
   "cell_type": "code",
   "execution_count": null,
   "id": "80821b31-687a-45ec-b782-347dd7e5b250",
   "metadata": {
    "tags": []
   },
   "outputs": [],
   "source": [
    "base_prompt = \"\"\"\n",
    "You are a helpful assistant who can answer questions about the team at Monkeylanguage LLC, an AI startup.\n",
    "\n",
    "When answering questions, use the following facts about Monkeylanguage LLC employees:\n",
    "\n",
    "1. Juan Williams is the CEO\n",
    "2. Linda Johnson is the CFO\n",
    "3. Robert Jordan is the CTO\n",
    "4. Aileen Xin is Engineering Lead\n",
    "\n",
    "If you don't have information to answer a question, please say you don't know. Don't make up an answer\n",
    "\n",
    "\"\"\""
   ]
  },
  {
   "cell_type": "code",
   "execution_count": null,
   "id": "20cedaf1-bdf7-4534-a64b-03c1ec36b26f",
   "metadata": {
    "tags": []
   },
   "outputs": [],
   "source": [
    "def chat(system, user):\n",
    "    response = openai.ChatCompletion.create(model=model, max_tokens=200,\n",
    "                                        messages=[{\"role\": \"system\", \"content\": system},\n",
    "                                         {\"role\": \"user\", \"content\": user}])\n",
    "    return response.choices[0].message[\"content\"]"
   ]
  },
  {
   "cell_type": "code",
   "execution_count": null,
   "id": "e1c25177-3615-464d-acd6-675b3a704a2c",
   "metadata": {
    "tags": []
   },
   "outputs": [],
   "source": [
    "chat(base_prompt, \"Who is the CFO of Monkeylanguage LLC?\")"
   ]
  },
  {
   "cell_type": "code",
   "execution_count": null,
   "id": "3614ab38-b04f-4c53-9913-5a07fdfac740",
   "metadata": {
    "tags": []
   },
   "outputs": [],
   "source": [
    "chat(base_prompt, \"Who are all of the technical staff members at Monkeylanguage LLC?\")"
   ]
  },
  {
   "cell_type": "code",
   "execution_count": null,
   "id": "6692e32a-df4c-42dd-9d64-ccf2109c4a95",
   "metadata": {
    "tags": []
   },
   "outputs": [],
   "source": [
    "database = {\n",
    "    'Monkeylanguage LLC' : ['Juan Williams is the CEO', 'Linda Johnson is the CFO', 'Robert Jordan is the CTO', 'Aileen Xin is Engineering Lead'],\n",
    "    'FurryRobot Corp' : ['Ana Gonzalez is the CEO', 'Corwin Hall is the CFO', 'FurryRobot employs no technical staff', 'All tech is produced by AI'],\n",
    "    'LangMagic Inc' : [\"Steve Jobs' ghost fulfills all roles in the company\"]\n",
    "}"
   ]
  },
  {
   "cell_type": "code",
   "execution_count": null,
   "id": "00eb178f-7312-4cf1-aa7d-5d7939cef5fe",
   "metadata": {
    "tags": []
   },
   "outputs": [],
   "source": [
    "prompt = 'Who is the CFO at Monkeylanguage LLC?'"
   ]
  },
  {
   "cell_type": "code",
   "execution_count": null,
   "id": "647acb15-bc2e-4169-8fa7-58c98d788fb4",
   "metadata": {
    "tags": []
   },
   "outputs": [],
   "source": [
    "def lookup(prompt, database):\n",
    "    for k in database.keys():\n",
    "        if k in prompt:\n",
    "            return database[k]"
   ]
  },
  {
   "cell_type": "code",
   "execution_count": null,
   "id": "7b7e0cd5-e9f0-40a6-85d6-36c1bf643f71",
   "metadata": {
    "tags": []
   },
   "outputs": [],
   "source": [
    "docs = lookup(prompt, database)\n",
    "\n",
    "docs"
   ]
  },
  {
   "cell_type": "code",
   "execution_count": null,
   "id": "daccfba8-30b7-4831-bbef-46f67ae53a1e",
   "metadata": {
    "tags": []
   },
   "outputs": [],
   "source": [
    "def make_base_prompt(docs):\n",
    "    return \"\"\"\n",
    "You are a helpful assistant who can answer questions about the team at some AI startup companies.\n",
    "\n",
    "When answering questions, use the following facts about employees at the firm:\n",
    "\"\"\" + '\\n'.join([doc for doc in docs]) + \"\"\"\n",
    "If you don't have information to answer a question, please say you don't know. Don't make up an answer\"\"\""
   ]
  },
  {
   "cell_type": "code",
   "execution_count": null,
   "id": "cb1b1f5b-c7b8-4de2-a495-008b9c2fc469",
   "metadata": {
    "tags": []
   },
   "outputs": [],
   "source": [
    "make_base_prompt(docs)"
   ]
  },
  {
   "cell_type": "code",
   "execution_count": null,
   "id": "db4d27b0-68a1-4990-927e-9fb3334a41eb",
   "metadata": {
    "tags": []
   },
   "outputs": [],
   "source": [
    "def retrieve_and_chat(prompt, database):\n",
    "    docs = lookup(prompt, database)\n",
    "    base_prompt = make_base_prompt(docs)\n",
    "    return chat(base_prompt, prompt)"
   ]
  },
  {
   "cell_type": "code",
   "execution_count": null,
   "id": "8b8cdb8c-8383-4d3d-be8a-92dcc0be7295",
   "metadata": {
    "tags": []
   },
   "outputs": [],
   "source": [
    "retrieve_and_chat(prompt, database)"
   ]
  },
  {
   "cell_type": "code",
   "execution_count": null,
   "id": "63238248-b27b-498b-a840-ed86ff456d4b",
   "metadata": {
    "tags": []
   },
   "outputs": [],
   "source": [
    "retrieve_and_chat('Who is the CFO at FurryRobot Corp?', database)"
   ]
  },
  {
   "cell_type": "code",
   "execution_count": null,
   "id": "1d98be96-1f1f-4b8f-aced-6768a88b58a2",
   "metadata": {
    "tags": []
   },
   "outputs": [],
   "source": [
    "retrieve_and_chat('Who is the CFO at LangMagic Inc?', database)"
   ]
  },
  {
   "cell_type": "code",
   "execution_count": null,
   "id": "164ffc95-d465-455f-b34d-1354bc06f931",
   "metadata": {
    "tags": []
   },
   "outputs": [],
   "source": [
    "tools = ['If you wish to email, return the function call EMAIL(email_subject, email_body), inserting the relevant email_subject and email_body.']"
   ]
  },
  {
   "cell_type": "code",
   "execution_count": null,
   "id": "d9bee0b1-602c-4807-a1fb-a768b96f2bdd",
   "metadata": {
    "tags": []
   },
   "outputs": [],
   "source": [
    "def make_enhanced_base_prompt(docs, tools):\n",
    "    return \"\"\"\n",
    "You are a helpful assistant who can answer questions about the team at some AI startup companies. \n",
    "\n",
    "When answering questions, use the following facts about employees at the firm:\n",
    "\"\"\" + '\\n'.join([doc for doc in docs]) + \"\"\"\n",
    "If you don't have information to answer a question, please say you don't know. Don't make up an answer.\n",
    "\n",
    "You can also use tools to accomplish some actions.\n",
    "\"\"\" + '\\n'.join([tool for tool in tools]) + \"\"\"\n",
    "\n",
    "If you use a tool, return the tool function call and nothing else.\n",
    "\"\"\""
   ]
  },
  {
   "cell_type": "code",
   "execution_count": null,
   "id": "421d054b-0a6d-4ad8-9af8-27e6a412230a",
   "metadata": {
    "tags": []
   },
   "outputs": [],
   "source": [
    "make_enhanced_base_prompt(docs, tools)"
   ]
  },
  {
   "cell_type": "code",
   "execution_count": null,
   "id": "b1d15548-0387-4cfa-9455-d063e670e594",
   "metadata": {
    "tags": []
   },
   "outputs": [],
   "source": [
    "chat(make_enhanced_base_prompt(docs, tools),\n",
    "     'Please send an email advertising a new role as assistant to the CFO of Monkeylanguage LLC. Name the CFO, and send the email from the CEO')"
   ]
  },
  {
   "cell_type": "markdown",
   "id": "8791b58a-be70-4150-8197-ab47c4703c63",
   "metadata": {},
   "source": [
    "Note that the model may not quite get the sense of \"assistant to the CFO\" ... if it doesn't get that right, we can be more specific:"
   ]
  },
  {
   "cell_type": "code",
   "execution_count": null,
   "id": "9ab8eeb9-f2e5-4998-9135-e79580393bdd",
   "metadata": {
    "tags": []
   },
   "outputs": [],
   "source": [
    "chat(make_enhanced_base_prompt(docs, tools),\n",
    "     'Please send an email advertising a new role as assistant in the office of the CFO of Monkeylanguage LLC. Name the CFO, and send the email from the CEO')"
   ]
  },
  {
   "cell_type": "markdown",
   "id": "81edb445-bc21-42c5-890d-5fd9f95d0efd",
   "metadata": {},
   "source": [
    "This should have worked, but it's not returning a clean, usable API invocation. We can address that as well:"
   ]
  },
  {
   "cell_type": "code",
   "execution_count": null,
   "id": "b0015a90-d6b7-4bb5-8029-da3a530192d6",
   "metadata": {
    "tags": []
   },
   "outputs": [],
   "source": [
    "chat(make_enhanced_base_prompt(docs, tools),\n",
    "     'Please send an email advertising a new role as assistant in the office of the CFO of Monkeylanguage LLC. Name the CFO, and send the email from the CEO. Please return the command only, and no other text.')"
   ]
  },
  {
   "cell_type": "markdown",
   "id": "db4343ed-ae50-4794-85ad-a1aa8d7ada6c",
   "metadata": {},
   "source": [
    "Next we have to make some changes to add an email destination. The model can't possibly work if we don't add emails into our employee database."
   ]
  },
  {
   "cell_type": "code",
   "execution_count": null,
   "id": "6766b81c-ce98-4e47-b375-e53251d1c693",
   "metadata": {
    "tags": []
   },
   "outputs": [],
   "source": [
    "database = {\n",
    "    'Monkeylanguage LLC' : ['Juan Williams (juanw@monkeylang.com) is the CEO', 'Linda Johnson (lindaj@monkeylang.com) is the CFO', \n",
    "                            'Robert Jordan (rjordan@monkeylang.com) is the CTO', 'Aileen Xin (axin@monkeylang.com) is Engineering Lead'],\n",
    "    'FurryRobot Corp' : ['Ana Gonzalez is the CEO', 'Corwin Hall is the CFO', 'FurryRobot employs no technical staff', 'All tech is produced by AI'],\n",
    "    'LangMagic Inc' : [\"Steve Jobs' ghost fulfills all roles in the company\"]\n",
    "}"
   ]
  },
  {
   "cell_type": "code",
   "execution_count": null,
   "id": "d05af19e-822d-4b5e-8317-5985855f4b56",
   "metadata": {
    "tags": []
   },
   "outputs": [],
   "source": [
    "retrieve_and_chat(\"What is the email address for the CTO of Monkeylanguage LLC?\", database)"
   ]
  },
  {
   "cell_type": "code",
   "execution_count": null,
   "id": "47b9f8f6-2868-4a13-9f28-88c820cddafe",
   "metadata": {
    "tags": []
   },
   "outputs": [],
   "source": [
    "tools = ['If you wish to email, return the function call EMAIL(receipient_address, email_subject, email_body), inserting the relevant '\n",
    "         +' recipient_address, email_subject and email_body.']"
   ]
  },
  {
   "cell_type": "code",
   "execution_count": null,
   "id": "a6c6ffc2-f02f-4640-bcd1-180e03df2cb5",
   "metadata": {
    "tags": []
   },
   "outputs": [],
   "source": [
    "chat(make_enhanced_base_prompt(docs, tools),\n",
    "     'Please send an email to Robert Jordan with a message advertising a new role as assistant in the office of the CFO of Monkeylanguage LLC. Name the CFO, and send the email from the CEO. Please return the command only, and no other text.')"
   ]
  },
  {
   "cell_type": "code",
   "execution_count": null,
   "id": "9c2c3111-f92a-4d2f-8b70-43cf632a15fb",
   "metadata": {
    "tags": []
   },
   "outputs": [],
   "source": [
    "tools = ['If you wish to email, return the function call EMAIL(receipient_address, email_subject, email_body), inserting the relevant '\n",
    "         +' recipient_address (in quotes), email_subject and email_body.']"
   ]
  },
  {
   "cell_type": "code",
   "execution_count": null,
   "id": "0c15a5f0-2b05-490b-96f7-819af1b27f1f",
   "metadata": {
    "tags": []
   },
   "outputs": [],
   "source": [
    "chat(make_enhanced_base_prompt(docs, tools),\n",
    "     'Please send an email to Robert Jordan with a message advertising a new role as assistant in the office of the CFO of Monkeylanguage LLC. Name the CFO, and send the email from the CEO. Please return the command only, and no other text.')"
   ]
  },
  {
   "cell_type": "code",
   "execution_count": null,
   "id": "db0a98c4-7a32-4a82-8e81-53ea7b8e6e38",
   "metadata": {},
   "outputs": [],
   "source": []
  }
 ],
 "metadata": {
  "kernelspec": {
   "display_name": "Python 3 (ipykernel)",
   "language": "python",
   "name": "python3"
  },
  "language_info": {
   "codemirror_mode": {
    "name": "ipython",
    "version": 3
   },
   "file_extension": ".py",
   "mimetype": "text/x-python",
   "name": "python",
   "nbconvert_exporter": "python",
   "pygments_lexer": "ipython3",
   "version": "3.10.8"
  }
 },
 "nbformat": 4,
 "nbformat_minor": 5
}
