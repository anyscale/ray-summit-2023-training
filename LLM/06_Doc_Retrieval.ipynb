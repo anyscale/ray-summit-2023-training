{
 "cells": [
  {
   "cell_type": "code",
   "execution_count": null,
   "id": "604cfe69-2496-4252-9885-5098cb0cee81",
   "metadata": {
    "tags": []
   },
   "outputs": [],
   "source": [
    "! pip install chromadb==0.4.6"
   ]
  },
  {
   "cell_type": "code",
   "execution_count": null,
   "id": "63a1d247-cb22-4115-89c1-e5fbdc0dc633",
   "metadata": {
    "tags": []
   },
   "outputs": [],
   "source": [
    "import uuid\n",
    "from pathlib import Path\n",
    "from time import sleep\n",
    "\n",
    "import chromadb\n",
    "import numpy as np\n",
    "import openai\n",
    "import pinecone\n",
    "import ray\n",
    "from InstructorEmbedding import INSTRUCTOR\n",
    "from ray import serve"
   ]
  },
  {
   "cell_type": "markdown",
   "id": "32f00640-1a22-492a-85eb-638f8f30c1e1",
   "metadata": {},
   "source": [
    "# Scaling document retrieval with Ray\n",
    "\n",
    "<div class=\"alert alert-block alert-info\">\n",
    "    \n",
    "__Roadmap to scaling content-based search with Ray__\n",
    "\n",
    "1. Terminology and concepts\n",
    "1. Motivation for embeddings, vector databases, and indexing\n",
    "1. Getting started with vector databases via cloud services\n",
    "1. Scaling up embedding generation with Ray\n",
    "1. Hosting vector databases and scaling them with Ray\n",
    "</div>\n",
    "\n",
    "Much of the power of LLM-based apps comes from the \"zero-shot\" capabilities of the models -- the ability of powerful LLMs to successfully use data, tools, and goals that they weren't specifically trained on.\n",
    "\n",
    "The most common way of providing new data, tools or goals is via *prompt engineering* or placing relevant information in the prompt.\n",
    "\n",
    "__Context window__\n",
    "\n",
    "LLMs have a limit to the size of the prompt they can work with -- this size or space is a called the \"context window\" and has historically been limited by the model architecture or processing cost.\n",
    "\n",
    "__Document retrieval__\n",
    "\n",
    "In order to provide the most relevant bits of information to the LLM within a finite context window, we typically use one or more data sources to select relevant records (based on the prompt) out of the large pool of information we have.\n",
    "\n",
    "Although there is a lot of research on expanding the context window to very large or even unlimited sizes, it will probably remain effective (with the currrent generation of models) to select specific responsive data and feed that to the model in order to get the best results.\n",
    "\n",
    "__Retrieval Augmented Generation (RAG)__\n",
    "\n",
    "RAG is the shorthand for this pattern: using generative models to produce output, but improving or guiding that output by placing relevant information in the prompt.\n",
    "\n",
    "## Databases\n",
    "\n",
    "Any data store can be used for RAG applications -- and in many cases it's useful to have multiple databases ...\n",
    "\n",
    "> \n",
    "\n",
    "... but almost all RAG applications rely on __embeddings__ in a __vector database__ in addition to other sources.\n",
    "\n",
    "Why? Let's see:\n",
    "\n",
    "Here is our toy text-matching database"
   ]
  },
  {
   "cell_type": "code",
   "execution_count": null,
   "id": "0a9f0350-e12e-4ece-a0fe-d03415100f04",
   "metadata": {
    "tags": []
   },
   "outputs": [],
   "source": [
    "database = {\n",
    "    'Monkeylanguage LLC' : ['Juan Williams is the CEO', 'Linda Johnson is the CFO', 'Robert Jordan is the CTO', 'Aileen Xin is Engineering Lead'],\n",
    "    'FurryRobot Corp' : ['Ana Gonzalez is the CEO', 'Corwin Hall is the CFO', 'FurryRobot employs no technical staff', 'All tech is produced by AI'],\n",
    "    'LangMagic Inc' : [\"Steve Jobs' ghost fulfills all roles in the company\"]\n",
    "}"
   ]
  },
  {
   "cell_type": "code",
   "execution_count": null,
   "id": "baca6431-358f-4d51-ab45-f794dd299e10",
   "metadata": {
    "tags": []
   },
   "outputs": [],
   "source": [
    "def lookup(prompt, database):\n",
    "    for k in database.keys():\n",
    "        if k in prompt:\n",
    "            return database[k]"
   ]
  },
  {
   "cell_type": "code",
   "execution_count": null,
   "id": "2c4b3df0-871a-4893-9c84-c817cd6c4490",
   "metadata": {
    "tags": []
   },
   "outputs": [],
   "source": [
    "lookup(\"Tell me about Monkeylanguage LLC\", database)"
   ]
  },
  {
   "cell_type": "markdown",
   "id": "c7eae2cc-1f76-4205-8314-4f4da2f68572",
   "metadata": {},
   "source": [
    "The problem -- for empowering LLM apps -- is that traditional databases don't capture semantics"
   ]
  },
  {
   "cell_type": "code",
   "execution_count": null,
   "id": "ab1f5ad4-8fc6-4c91-91ec-5b1deaabf1c8",
   "metadata": {
    "tags": []
   },
   "outputs": [],
   "source": [
    "type(lookup(\"Tell me about the companies' top leadership\", database))"
   ]
  },
  {
   "cell_type": "markdown",
   "id": "85bc7157-9c43-4bbf-b9be-d368911b5a75",
   "metadata": {},
   "source": [
    "*Note that the problem illustrated here is not a consequence of our primitive datastore: even a full-featured SQL, document, or key-value database with full text-matching capabilities would not \"realize\" that top leadership refers to CEOs or C-suite roles. This key information is not a formal relationship, but a semantic relationship that lives in the world of natural language usage patterns.*\n",
    "\n",
    "After many decades of researchers trying to solve this problem \"the hard way,\" we discovered the easy way. We can use simple deep-learning techniques to convert natural language into a mathematical representation that captures usage-based semantic relationships: embeddings.\n",
    "\n",
    "> The most famous models in this area (though a bit dated) are https://en.wikipedia.org/wiki/Word2vec ... for a very accessible explanation see http://jalammar.github.io/illustrated-word2vec/\n",
    "\n",
    "<table><tr><td>\n",
    "<img src='https://technical-training-assets.s3.us-west-2.amazonaws.com/LLMs/Word_vector_illustration.jpg' width=75% /></td><td>\n",
    "<img src='https://technical-training-assets.s3.us-west-2.amazonaws.com/LLMs/T-SNE_visualisation_of_word_embeddings_generated_using_19th_century_literature.png'\n",
    "     width=75%/></td></tr>\n",
    "    <tr><td>Synthetic word embeddings for the terms 'man,' 'woman,' 'king,' and 'queen' illustrates the way in which the semantic relationships between words can be represented by algebraic relationships (distance, for example) between those words' embeddings</td>\n",
    "        <td>Embeddings generated from 19th century literature: (A) Female- and male-authored plural nouns surrounded by past-participles verbs; (B) Singular gender-encoded nouns by both female and male authors nested within nouns referring to (typically male) occupations; (C) Family related nouns by only female authors, nested within a cluster of characters predominately from Jane Austen; (D) Female authored pronouns next to past-participles and past verb</td>\n",
    "</table>"
   ]
  },
  {
   "cell_type": "markdown",
   "id": "bea3edf3-83da-42c5-a388-c21810fef262",
   "metadata": {
    "tags": []
   },
   "source": [
    "#### We can see embeddings in action using OpenAI's models and embedding API"
   ]
  },
  {
   "cell_type": "code",
   "execution_count": null,
   "id": "e815a3be-f120-4495-998d-c65e3ace73a0",
   "metadata": {
    "tags": []
   },
   "outputs": [],
   "source": [
    "openaikey = Path('openaikey.txt').read_text()\n",
    "openai.api_base = 'https://api.openai.com/v1'\n",
    "openai.api_key = openaikey"
   ]
  },
  {
   "cell_type": "code",
   "execution_count": null,
   "id": "aaaf5bfc-3189-4e6a-bdaa-94c47c5c6716",
   "metadata": {
    "tags": []
   },
   "outputs": [],
   "source": [
    "items = sum(database.values(), [])\n",
    "\n",
    "items"
   ]
  },
  {
   "cell_type": "code",
   "execution_count": null,
   "id": "145817ca-a249-48ed-9d93-5a5f4c7c1a3b",
   "metadata": {
    "tags": []
   },
   "outputs": [],
   "source": [
    "def get_embedding(text, model=\"text-embedding-ada-002\"):\n",
    "    text = text.replace(\"\\n\", \" \")\n",
    "    return openai.Embedding.create(input = [text], model=model)['data'][0]['embedding']\n",
    "\n",
    "vecs = [get_embedding(item) for item in items]"
   ]
  },
  {
   "cell_type": "code",
   "execution_count": null,
   "id": "5cab0ec7-0642-4023-858d-b4ae19232139",
   "metadata": {
    "tags": []
   },
   "outputs": [],
   "source": [
    "arr = np.array(vecs)\n",
    "arr.shape"
   ]
  },
  {
   "cell_type": "markdown",
   "id": "9f02ad81-f3e1-4033-a02c-d8026f995b38",
   "metadata": {},
   "source": [
    "Each of our input \"documents\" has been turned into a high-dimensional vector based on the prior training of the model.\n",
    "\n",
    "Let's see if the embeddings capture the relationships we are looking for.\n",
    "\n",
    "We'll make a vector representing our search"
   ]
  },
  {
   "cell_type": "code",
   "execution_count": null,
   "id": "fe2f9159-5dda-46dc-9acb-291394d25b10",
   "metadata": {
    "tags": []
   },
   "outputs": [],
   "source": [
    "search = get_embedding(\"find technical leadership\")\n",
    "\n",
    "search_vec = np.array(search)\n",
    "\n",
    "search_vec.shape"
   ]
  },
  {
   "cell_type": "markdown",
   "id": "5c023d63-ae0b-4558-9c0d-ae479bc9b831",
   "metadata": {},
   "source": [
    "Now we'll find the closest vectors from our original dataset based on brute-force Euclidean distance"
   ]
  },
  {
   "cell_type": "code",
   "execution_count": null,
   "id": "84288ff0-4cdf-442e-a4aa-8ede6389d348",
   "metadata": {
    "tags": []
   },
   "outputs": [],
   "source": [
    "np.sum(np.square(search_vec - arr), axis=1)"
   ]
  },
  {
   "cell_type": "code",
   "execution_count": null,
   "id": "37322043-1c3c-443c-8972-9bf0529b7c01",
   "metadata": {
    "tags": []
   },
   "outputs": [],
   "source": [
    "matches = np.argsort(np.sum(np.square(search_vec - arr), axis=1))\n",
    "matches"
   ]
  },
  {
   "cell_type": "code",
   "execution_count": null,
   "id": "75322920-9e47-4d15-ab04-9f3308d654fb",
   "metadata": {
    "tags": []
   },
   "outputs": [],
   "source": [
    "print([items[i] for i in matches[:3]])"
   ]
  },
  {
   "cell_type": "markdown",
   "id": "8c81c9e3-0512-4e73-bb72-d8d9b94ff36b",
   "metadata": {},
   "source": [
    "Although we can see the principles at work here, searching and indexing vectors at scale is a challenging problem, which motivates the use of dedicated vector databases. Before we look at vector stores, though, consider the task of generating embeddings.\n",
    "\n",
    "Using a hosted model like OpenAI is easy, but \n",
    "* requires sending all of our documents -- which may be confidental or protected personal information -- through OpenAI's system\n",
    "* incurs costs that may be hard to manage\n",
    "* limits our control of the process\n",
    "\n",
    "For production systems using senstive data, we likely want to generate the embeddings ourselves.\n",
    "\n",
    "There are many open models that generate good embeddings. \n",
    "\n",
    "One of the most powerful and useful is the Instructor model from Hong Kong University's NLP group, because it allows for instruction-based finetuning: you can tell it what you're trying to accomplish and it can generate embeddings tailored to your needs by combining your instructions with its pretraining.\n",
    "\n",
    "Our main demo won't feature custom instructions, but you can try instructing the model in optional lab activities."
   ]
  },
  {
   "cell_type": "code",
   "execution_count": null,
   "id": "31b2a18d-abf3-4342-894e-8154fdba2a92",
   "metadata": {
    "tags": []
   },
   "outputs": [],
   "source": [
    "model = INSTRUCTOR('hkunlp/instructor-large')"
   ]
  },
  {
   "cell_type": "code",
   "execution_count": null,
   "id": "3f6bfa41-1a60-42da-bc56-48006ac2a86c",
   "metadata": {
    "tags": []
   },
   "outputs": [],
   "source": [
    "vectors = model.encode(items)\n",
    "\n",
    "vectors.shape"
   ]
  },
  {
   "cell_type": "markdown",
   "id": "8dfe0be2-628b-43cd-96f3-291e0c8bc428",
   "metadata": {},
   "source": [
    "This model is producing 768-dimension vectors"
   ]
  },
  {
   "cell_type": "code",
   "execution_count": null,
   "id": "c3c02b1f-844e-4c0b-a635-d9b2e4743d1d",
   "metadata": {
    "tags": []
   },
   "outputs": [],
   "source": [
    "vec_dim = vectors.shape[1]\n",
    "vec_dim"
   ]
  },
  {
   "cell_type": "markdown",
   "id": "28e3bf1a-87b9-4241-aa74-be6b24b2274a",
   "metadata": {},
   "source": [
    "Now we can create high quality embeddings on our own -- without sending our raw data to another company.\n",
    "\n",
    "Let's look at the vector storage and lookup component, both remote and local, and then we'll look at scaling these elements in our own systems."
   ]
  },
  {
   "cell_type": "markdown",
   "id": "ffac685a-7566-47a8-83f3-b644e7dd1d7d",
   "metadata": {},
   "source": [
    "__Indexed and approximate search__\n",
    "\n",
    "To effectively search large collections of vectors, we have a few options that let us trade off accuracy for speed. There are also a number of similarity metrics we might use. \n",
    "\n",
    "Vector databases are systems specifically designed to support these tasks and options.\n",
    "\n",
    "We can get started with a quick demo using a cloud service, similar to how we used OpenAI to quickly get started with embeddings. Pinecone offers a free but limited starter tier."
   ]
  },
  {
   "cell_type": "code",
   "execution_count": null,
   "id": "acd6e453-5f68-475e-bb44-483914183d30",
   "metadata": {
    "tags": []
   },
   "outputs": [],
   "source": [
    "pineconekey = Path('pinecone.txt').read_text()\n",
    "\n",
    "pinecone.init(api_key=pineconekey, environment=\"gcp-starter\")"
   ]
  },
  {
   "cell_type": "code",
   "execution_count": null,
   "id": "f481651d-c777-40c5-87fd-64297b681933",
   "metadata": {
    "tags": []
   },
   "outputs": [],
   "source": [
    "try:\n",
    "    pinecone.delete_index(\"demo\")\n",
    "except pinecone.core.client.exceptions.NotFoundException:\n",
    "    pass # no index / first run"
   ]
  },
  {
   "cell_type": "code",
   "execution_count": null,
   "id": "7500e108-8e71-49c0-821d-1f8d08bc1466",
   "metadata": {
    "tags": []
   },
   "outputs": [],
   "source": [
    "pinecone.create_index(\"demo\", dimension=vec_dim, metric=\"euclidean\")"
   ]
  },
  {
   "cell_type": "code",
   "execution_count": null,
   "id": "3d8329cc-a2a6-4a35-8e28-ed7969f6d185",
   "metadata": {
    "tags": []
   },
   "outputs": [],
   "source": [
    "index = pinecone.Index(\"demo\")"
   ]
  },
  {
   "cell_type": "markdown",
   "id": "4ba51773-9adf-47e3-9c49-807b6672ae4d",
   "metadata": {},
   "source": [
    "For each document, we'll insert an id as well as a vector. We can use the id later to find the original document."
   ]
  },
  {
   "cell_type": "code",
   "execution_count": null,
   "id": "fb79e392-1511-475c-80c0-449961e7486c",
   "metadata": {
    "tags": []
   },
   "outputs": [],
   "source": [
    "index.upsert( (str(i), vectors[i, :].tolist()) for i in range(len(items)) )"
   ]
  },
  {
   "cell_type": "markdown",
   "id": "96331e1e-0587-4e81-be6e-a5cda04da13c",
   "metadata": {},
   "source": [
    "Note there are some eventual-consistency patterns involved in Pinecone, so we may not see our new vectors in the stats immediately"
   ]
  },
  {
   "cell_type": "code",
   "execution_count": null,
   "id": "b5a4646d-53b4-42ae-8ad0-85aed7d379b5",
   "metadata": {
    "tags": []
   },
   "outputs": [],
   "source": [
    "while total_vector_count := index.describe_index_stats()['total_vector_count'] < 9:\n",
    "    sleep(1)"
   ]
  },
  {
   "cell_type": "code",
   "execution_count": null,
   "id": "2cfb05c6-a81e-4f62-88b3-fa8f3c770c39",
   "metadata": {
    "tags": []
   },
   "outputs": [],
   "source": [
    "index.describe_index_stats()"
   ]
  },
  {
   "cell_type": "markdown",
   "id": "d45988c2-9f19-47af-b0b8-510366c2d9e9",
   "metadata": {},
   "source": [
    "Let's try our tech leadership search"
   ]
  },
  {
   "cell_type": "code",
   "execution_count": null,
   "id": "747f066f-b8c2-41e9-a20a-eef4483aa0fc",
   "metadata": {
    "tags": []
   },
   "outputs": [],
   "source": [
    "search = model.encode(\"Technical leadership\")"
   ]
  },
  {
   "cell_type": "code",
   "execution_count": null,
   "id": "3f109eb4-8f45-46b5-8d4c-d3776af30e16",
   "metadata": {
    "tags": []
   },
   "outputs": [],
   "source": [
    "results = index.query(\n",
    "  vector=search.tolist(),\n",
    "  top_k=3,\n",
    ")\n",
    "\n",
    "results"
   ]
  },
  {
   "cell_type": "code",
   "execution_count": null,
   "id": "bee07389-801d-4a0e-af5d-690d160a832f",
   "metadata": {
    "tags": []
   },
   "outputs": [],
   "source": [
    "[items[int(match['id'])] for match in results['matches']]"
   ]
  },
  {
   "cell_type": "markdown",
   "id": "c425921e-03ca-40d2-a3f5-a4adc738ca8f",
   "metadata": {},
   "source": [
    "## Scaling up local embeddings and local vector search\n",
    "\n",
    "We've introduced embeddings and vector stores -- now let's look at scaling up while keeping our infrastructure local.\n",
    "\n",
    "Let's generate embeddings for a slightly larger dataset: we'll work with the text of Jules Verne's *Around the World in 80 Days*, a popular novel now in the public domain. In your own work, you might be vectorizing instruction manuals, product descriptions, or customer service history -- the concepts are the same.\n",
    "\n",
    "We'll start by splitting the text into paragraph-length chunks\n",
    "\n",
    "> __The art of chunking:__ Do we always split by paragraphs? What if my data doesn't have paragraphs? How to split your content is an important parameter to think about and \"tune.\" We want our chunks to represent semantic units as much as possible; to be within certain size bounds; and perhaps to reflect the structure of the data so that we can enrich our system with metadata (e.g., chapter or page numbers, product or part numbers, etc.) Sophisticated splitting algorithms exist and you should take advantage of them (https://www.pinecone.io/learn/chunking-strategies/) but spend a bit of time on design/thinking first."
   ]
  },
  {
   "cell_type": "code",
   "execution_count": null,
   "id": "bb553c93-d73f-4287-bb5e-5824aa5db8af",
   "metadata": {
    "tags": []
   },
   "outputs": [],
   "source": [
    "text_full = Path('around.txt').read_text()\n",
    "paras = text_full.split('\\n')"
   ]
  },
  {
   "cell_type": "code",
   "execution_count": null,
   "id": "4bd45294-2c21-484d-a6ae-6c7537d65e74",
   "metadata": {
    "tags": []
   },
   "outputs": [],
   "source": [
    "len(paras)"
   ]
  },
  {
   "cell_type": "markdown",
   "id": "dcf2e3bd-0387-4d3e-a286-1e85d4f1db57",
   "metadata": {},
   "source": [
    "Generating embeddings can be done on a CPU, but it's slow ... if we want to use our CPU-only machines, we probable want to scale out this processing"
   ]
  },
  {
   "cell_type": "code",
   "execution_count": null,
   "id": "ff2658e0-3527-4ded-a717-951696a3ad25",
   "metadata": {
    "tags": []
   },
   "outputs": [],
   "source": [
    "%%time\n",
    "\n",
    "para_vecs = model.encode(paras[:50], device='cpu')"
   ]
  },
  {
   "cell_type": "markdown",
   "id": "7d1abf02-90ae-474e-8271-950da9546e12",
   "metadata": {},
   "source": [
    "GPUs are, not suprprisinly, a lot faster ... but there is still a cost"
   ]
  },
  {
   "cell_type": "code",
   "execution_count": null,
   "id": "e19ef127-cb5c-4145-b4e4-7507721f4ca8",
   "metadata": {
    "tags": []
   },
   "outputs": [],
   "source": [
    "%%time\n",
    "\n",
    "para_vecs = model.encode(paras, device='cuda:0')"
   ]
  },
  {
   "cell_type": "code",
   "execution_count": null,
   "id": "1c09a5f3-9966-4257-83db-2544de06adb8",
   "metadata": {
    "tags": []
   },
   "outputs": [],
   "source": [
    "para_vecs.shape"
   ]
  },
  {
   "cell_type": "markdown",
   "id": "28ad6037-7ac5-482f-8050-e253ec1893e3",
   "metadata": {},
   "source": [
    "In one timing run, using a A10G GPU, we saw 3.7 ms per vector for this model and document size. In a large-scale application with 50 million document fragments, this would take about 51 hours or a bit more than two full days.\n",
    "\n",
    "*Even with GPUs, we want to scale out our embedding computation*\n",
    "\n",
    "### Scaling embeddings with Ray"
   ]
  },
  {
   "cell_type": "markdown",
   "id": "071bcd24-94ff-48dc-91d6-c972e44b0ea3",
   "metadata": {},
   "source": [
    "Ray makes it easy to scale out Python tasks like computing embeddings by \n",
    "* providing the infrastructure to handle arbitrarily large datasets\n",
    "* orchestrating the movement of this data from persistent storage, through memory and processing, and out to a destination\n",
    "    * \"destination\" might be stable storage (files), a queueing system (like Kafka), a database, or something else\n",
    "* efficiently managing movement of large \"helper data\" -- like models -- which are needed in various times and places during processing\n",
    "* supporting *pipelining* or the simultaneous use of valuable compute resources for different stages of processing on different chunks of data\n",
    "\n",
    "To take advantage of these feature, we'll use Ray Data (https://docs.ray.io/en/releases-2.6.1/data/data.html)\n",
    "\n",
    "We'll start by moving our data to shared storage (e.g., a cloud storage bucket)"
   ]
  },
  {
   "cell_type": "code",
   "execution_count": null,
   "id": "0a090751-a222-4f7a-b20b-af586fc777fb",
   "metadata": {
    "tags": []
   },
   "outputs": [],
   "source": [
    "! cp around.txt /mnt/cluster_storage/"
   ]
  },
  {
   "cell_type": "markdown",
   "id": "7e906c81-4ea2-4658-950f-e7eda5f3658d",
   "metadata": {
    "tags": []
   },
   "source": [
    "Create a dataset from one or more files -- in this case, since our data isn't really big, we will set parallelism to 4. (The Ray Data default parallelism heuristic is described here https://docs.ray.io/en/releases-2.6.1/data/performance-tips.html#tuning-read-parallelism)"
   ]
  },
  {
   "cell_type": "code",
   "execution_count": null,
   "id": "a8314c12-e9ed-4fd4-a146-8120c19086fa",
   "metadata": {
    "tags": []
   },
   "outputs": [],
   "source": [
    "paras_ds = ray.data.read_text(\"/mnt/cluster_storage/around.txt\", parallelism=4)"
   ]
  },
  {
   "cell_type": "markdown",
   "id": "b5c56db8-e48f-458f-8977-76a7c6346797",
   "metadata": {},
   "source": [
    "Ray Datasets represent lazy, streaming data -- similar to many other large-scale data frameworks -- which improves performance but makes it a little harder to see the data, since it's rarely all loaded up in one place and time.\n",
    "\n",
    "We can use helper functions to inspect a small amount"
   ]
  },
  {
   "cell_type": "code",
   "execution_count": null,
   "id": "171f87ec-a0bd-434c-ad85-b4db342b7787",
   "metadata": {
    "tags": []
   },
   "outputs": [],
   "source": [
    "paras_ds.take(5)"
   ]
  },
  {
   "cell_type": "markdown",
   "id": "78ec98ce-f5e0-4101-86c0-dc45c4aabeaf",
   "metadata": {},
   "source": [
    "We will typically batch our data (also to improve performance and throughput). We can inspect a batch"
   ]
  },
  {
   "cell_type": "code",
   "execution_count": null,
   "id": "2e51c9ed-1c93-496b-be4b-6cf1b466a37b",
   "metadata": {
    "tags": []
   },
   "outputs": [],
   "source": [
    "sample_batch = paras_ds.take_batch()\n",
    "\n",
    "type(sample_batch)"
   ]
  },
  {
   "cell_type": "code",
   "execution_count": null,
   "id": "95898c5f-a051-4335-89ad-92e94eac2f8d",
   "metadata": {
    "tags": []
   },
   "outputs": [],
   "source": [
    "paras_ds.schema()"
   ]
  },
  {
   "cell_type": "markdown",
   "id": "a0c3dd6d-2412-48de-a9f8-7602bf241598",
   "metadata": {},
   "source": [
    "Each column in the dataset is a key/value pair in the dict. If we're working with a batch, we'll have vectorized types -- here, `numpy.ndarray` of strings"
   ]
  },
  {
   "cell_type": "code",
   "execution_count": null,
   "id": "d3957f9f-66aa-4768-9721-1b4d3fc3c126",
   "metadata": {
    "tags": []
   },
   "outputs": [],
   "source": [
    "sample_batch.keys()"
   ]
  },
  {
   "cell_type": "code",
   "execution_count": null,
   "id": "a815764f-2c81-4616-ae3e-624b223dea36",
   "metadata": {
    "tags": []
   },
   "outputs": [],
   "source": [
    "type(sample_batch['text'])"
   ]
  },
  {
   "cell_type": "markdown",
   "id": "12df05d1-eebc-4a20-b8bd-e6fd6f100033",
   "metadata": {
    "tags": []
   },
   "source": [
    "To generate our emeddings, we'll use two steps\n",
    "\n",
    "1. Create a class that performs the embedding operation\n",
    "    1. We use a class because we'll want to hold on to a large, valuable piece of state -- the embedding model itself\n",
    "    1. For use with our vector databases, we'll need unique IDs to go with each document and embedding -- we'll generate UUIDs\n",
    "    1. the output from the `__call__` method will be similar to the input: a dict with the column names as keys, and vectorized types for values\n",
    "1. Call `dataset.map_batches(...)` where we connect the dataset to the processing class as well as specify resources like the number of class instances (actors) and GPUs\n",
    "    1. Specify an autoscaling actor pool -- to demo how Ray could autoscale to handle large, uneven workloads"
   ]
  },
  {
   "cell_type": "code",
   "execution_count": null,
   "id": "66789137-7b23-4a70-aed4-e3745000df80",
   "metadata": {
    "tags": []
   },
   "outputs": [],
   "source": [
    "class DocEmbedder:\n",
    "    def __init__(self):\n",
    "        self._model = INSTRUCTOR('hkunlp/instructor-large')\n",
    "\n",
    "    def __call__(self, batch: dict[str, np.ndarray]) -> dict[str, np.ndarray]:\n",
    "        inputs = batch['text']\n",
    "        embeddings = self._model.encode(inputs, device='cuda:0')\n",
    "        ids = np.array([uuid.uuid1().hex for i in inputs])\n",
    "        return { 'doc' : inputs, 'vec' : embeddings, 'id' : ids }"
   ]
  },
  {
   "cell_type": "code",
   "execution_count": null,
   "id": "6150cfd9-f22f-4137-a1c9-75c05f5e7685",
   "metadata": {
    "tags": []
   },
   "outputs": [],
   "source": [
    "vecs = paras_ds.map_batches(DocEmbedder, compute=ray.data.ActorPoolStrategy(min_size=2, max_size=8), num_gpus=0.125, batch_size=64)"
   ]
  },
  {
   "cell_type": "markdown",
   "id": "c45e3eb4-c550-4ea3-b0c5-6ec37c443972",
   "metadata": {},
   "source": [
    "Since datasets are lazy and streaming, we need to specifically ask to pull some data through to test it"
   ]
  },
  {
   "cell_type": "code",
   "execution_count": null,
   "id": "9e13df2c-56bc-4105-8f73-a5aa419003d4",
   "metadata": {
    "tags": []
   },
   "outputs": [],
   "source": [
    "vecs.take_batch()"
   ]
  },
  {
   "cell_type": "markdown",
   "id": "887e5f35-8d8f-4763-8bc8-843b912d1f03",
   "metadata": {},
   "source": [
    "The processing appears to work as intended.\n",
    "\n",
    "Before we run it over the whole dataset, we need to think about where we want the data to go...\n",
    "\n",
    "* We can't \"keep it in memory\" since the whole idea of a large-scale processing framework is that our data size >> memory size\n",
    "* We could write to a file system if we want it for later\n",
    "* Ideally, since the next step of our process is to load the vectors into a vector store and the docs into either a vector store or some other type of database, we should do something like `dataset.to_my_vector_db(...)`\n",
    "    * As the vector database landscape settles, expect this sort of functionality to appear, similar to the existing `.write_mongo`\n",
    "* We could also \n",
    "    * convert to Dask, Mars, Modin, Arrow refs, or NumPy refs ... and then use a library to write those\n",
    "    * write our own datasource (consumer)\n",
    "    \n",
    "For today's demo, we won't build that part; we'll collect NumPy refs: a Python list of object references (futures) to dicts with NumPy arrays holding our data\n",
    "\n",
    "Let's generate those object refs and take a look"
   ]
  },
  {
   "cell_type": "code",
   "execution_count": null,
   "id": "b3731a86-4376-4ffd-a67c-16e07c031af6",
   "metadata": {
    "tags": []
   },
   "outputs": [],
   "source": [
    "numpy_refs = vecs.to_numpy_refs()"
   ]
  },
  {
   "cell_type": "code",
   "execution_count": null,
   "id": "3e1640db-2416-480c-aaaf-724fd4fe1349",
   "metadata": {
    "tags": []
   },
   "outputs": [],
   "source": [
    "numpy_refs"
   ]
  },
  {
   "cell_type": "markdown",
   "id": "8b5f9d4f-ca14-46df-a99e-283b4fe061be",
   "metadata": {},
   "source": [
    "To retrieve the Python objects that correspond to the references in the list, we use `ray.get`"
   ]
  },
  {
   "cell_type": "code",
   "execution_count": null,
   "id": "761fca0e-dba3-40e3-901a-9a507d263354",
   "metadata": {
    "tags": []
   },
   "outputs": [],
   "source": [
    "ray.get(numpy_refs[0]).keys()"
   ]
  },
  {
   "cell_type": "markdown",
   "id": "6ffe581d-6a86-49d3-8e74-f800ad0657f8",
   "metadata": {},
   "source": [
    "We can check that the values in the dict are NumPy arrays"
   ]
  },
  {
   "cell_type": "code",
   "execution_count": null,
   "id": "55053e9a-e892-46c7-8904-a43cb54ab97b",
   "metadata": {
    "tags": []
   },
   "outputs": [],
   "source": [
    "type(ray.get(numpy_refs[0])['doc'])"
   ]
  },
  {
   "cell_type": "markdown",
   "id": "6d6dccc6-487a-4a1d-b972-1f0c3de3c839",
   "metadata": {},
   "source": [
    "Since our data isn't that large, and we're not demonstrating parallel writes into our vector store here, we can collect the chunks represented by object refs and stack them into single NumPy arrays"
   ]
  },
  {
   "cell_type": "code",
   "execution_count": null,
   "id": "70bb895a-54f3-43ef-b313-291ce6b80e27",
   "metadata": {
    "tags": []
   },
   "outputs": [],
   "source": [
    "dicts = ray.get(numpy_refs)\n",
    "\n",
    "vecs = np.vstack([d['vec'] for d in dicts])\n",
    "ids = np.hstack([d['id'] for d in dicts])\n",
    "docs = np.hstack([d['doc'] for d in dicts])"
   ]
  },
  {
   "cell_type": "markdown",
   "id": "41e6541a-643c-4d8a-8d10-d4ef40cdb8b6",
   "metadata": {},
   "source": [
    "Let's load up all of our vectors into our Pinecone vector database and verify that semantic search is working"
   ]
  },
  {
   "cell_type": "code",
   "execution_count": null,
   "id": "681bc303-1d5f-451b-9920-b43d942bbb4f",
   "metadata": {
    "tags": []
   },
   "outputs": [],
   "source": [
    "texts = dict(zip(ids, docs))\n",
    "\n",
    "count = len(ids)\n",
    "\n",
    "index.upsert([(i, v.tolist()) for (i, v) in zip(ids, vecs)], None, 100, True)"
   ]
  },
  {
   "cell_type": "markdown",
   "id": "54310c5d-c063-4bbc-a465-abf4f59ca8d9",
   "metadata": {},
   "source": [
    "Note that due to eventual consistency semantive in Pinecone, our vectors may not be immediately available"
   ]
  },
  {
   "cell_type": "code",
   "execution_count": null,
   "id": "4e9e0db7-1785-434a-8d91-cf72ab12c124",
   "metadata": {
    "tags": []
   },
   "outputs": [],
   "source": [
    "while total_vector_count := index.describe_index_stats()['total_vector_count'] < 1000:\n",
    "    sleep(1)"
   ]
  },
  {
   "cell_type": "markdown",
   "id": "773fe759-d064-4e55-9f7e-955a8f766ef4",
   "metadata": {},
   "source": [
    "Using circumlocutions, we can check that queries match targets even when the words are different"
   ]
  },
  {
   "cell_type": "code",
   "execution_count": null,
   "id": "ce3b5607-d163-4771-bc0b-2041090e0454",
   "metadata": {
    "tags": []
   },
   "outputs": [],
   "source": [
    "utah_query_vec = model.encode(\"Describe the body of water in Utah\").tolist()"
   ]
  },
  {
   "cell_type": "code",
   "execution_count": null,
   "id": "44e35089-5b5f-4685-8db3-fcbc34d34f0d",
   "metadata": {
    "tags": []
   },
   "outputs": [],
   "source": [
    "results = index.query(\n",
    "  vector=utah_query_vec,\n",
    "  top_k=3,\n",
    ")\n",
    "\n",
    "results"
   ]
  },
  {
   "cell_type": "markdown",
   "id": "9b0b510e-8ee6-4e21-9bfa-3d7ad6c91e50",
   "metadata": {},
   "source": [
    "And we use the `texts` dict to look up the docs from the returned IDs. Note that some vector DBs can also store the documents. Or you can use your favority (or organization-mandated) datastore to track these, as they are just an ID and a string."
   ]
  },
  {
   "cell_type": "code",
   "execution_count": null,
   "id": "6234bbd8-2cba-46a0-b94f-aede726dfe48",
   "metadata": {
    "tags": []
   },
   "outputs": [],
   "source": [
    "[texts[match['id']] for match in results['matches']]"
   ]
  },
  {
   "cell_type": "markdown",
   "id": "20851404-9548-4d14-b48e-2eed6dfb2705",
   "metadata": {},
   "source": [
    "### Local vector stores"
   ]
  },
  {
   "cell_type": "markdown",
   "id": "a83b3da0-1512-45a7-88b7-10918373ed19",
   "metadata": {},
   "source": [
    "So far we've scaled our embedding processing with Ray and we've gotten started on vector databases quickly and easily using Pinecone in the cloud.\n",
    "\n",
    "But for many of the same reasons we might prefer hosting our own embedding models instead of using a cloud service, we may want or need to run our own vector stores.\n",
    "\n",
    "Luckily, there are many great, open-source vector databases which we can run locally. Some, like ChromaDB, offer open local versions and cloud service options. We'll run Chroma locally and see how we can scale up to handle production query volumes.\n",
    "\n",
    "First, we'll introduce ChromaDB in a minimal in-memory form so that we can see the prorgamming pattern."
   ]
  },
  {
   "cell_type": "code",
   "execution_count": null,
   "id": "63a09e60-b3fa-4e12-9915-174b6c9a0198",
   "metadata": {
    "tags": []
   },
   "outputs": [],
   "source": [
    "chroma_client = chromadb.Client()\n",
    "\n",
    "collection = chroma_client.get_or_create_collection(name=\"my_text_chunks\")"
   ]
  },
  {
   "cell_type": "markdown",
   "id": "6e88cecc-2943-4448-b114-7bb58da320c8",
   "metadata": {},
   "source": [
    "Insert the vectors, documents, and IDs\n",
    "\n",
    "> Note that Chroma can also accept arbitrary metadata dictionaries for each document, which you can then use in your queries (along with semantic similarity) and see in results. Metadata allows you to easily add powerful features like \"search only in chapter 3\" or \"cite source URLs for data returned\""
   ]
  },
  {
   "cell_type": "code",
   "execution_count": null,
   "id": "a8aeaa33-d54e-4574-9286-07a0b80145e9",
   "metadata": {
    "tags": []
   },
   "outputs": [],
   "source": [
    "collection.upsert(\n",
    "    embeddings=vecs.tolist(),\n",
    "    documents=docs.tolist(),\n",
    "    ids=ids.tolist()\n",
    ")"
   ]
  },
  {
   "cell_type": "markdown",
   "id": "f22a53e1-4c13-46a9-9f7d-5052c06fe374",
   "metadata": {},
   "source": [
    "See if we can learn about the Great Salt Lake"
   ]
  },
  {
   "cell_type": "code",
   "execution_count": null,
   "id": "cc0467e1-4045-47ba-bf58-20b0512fb51a",
   "metadata": {
    "tags": []
   },
   "outputs": [],
   "source": [
    "results = collection.query(\n",
    "    query_embeddings=[utah_query_vec],\n",
    "    n_results=3\n",
    ")"
   ]
  },
  {
   "cell_type": "code",
   "execution_count": null,
   "id": "3cfc2a19-ca1e-4232-a973-04079625fcf4",
   "metadata": {
    "tags": []
   },
   "outputs": [],
   "source": [
    "results"
   ]
  },
  {
   "cell_type": "markdown",
   "id": "7c078d82-2a9a-4b21-97a0-d730b1b3758d",
   "metadata": {},
   "source": [
    "### Scaling queries with Chroma\n",
    "\n",
    "Now that we have the basics of Chroma down, let's look at scaling to large datasets.\n",
    "\n",
    "Fully scalable databases are a complex topic with tradeoffs, and we'll talk about those tradeoffs later.\n",
    "\n",
    "For this example, we'll focus on *scaling the read path* -- a common OLAP pattern where we design a system that can handle arbitrary load for reading/searching the database, but does not have similar scaling for writes.\n",
    "\n",
    "We'll implement this query capacity with Chroma by persisting the database in shared storage, and then starting as many Chroma instances as we need, reading the same data source."
   ]
  },
  {
   "cell_type": "markdown",
   "id": "8a38a145-6acd-43d2-bd4c-f9fec4d0fd91",
   "metadata": {},
   "source": [
    "For this example, we'll create the database on a local NVMe disk for speed, then move it to shared storage."
   ]
  },
  {
   "cell_type": "code",
   "execution_count": null,
   "id": "78d94de8-0004-4ecf-8d78-5107fb4ea300",
   "metadata": {
    "tags": []
   },
   "outputs": [],
   "source": [
    "chroma_client = chromadb.PersistentClient(path=\"/mnt/local_storage/vector_store\")"
   ]
  },
  {
   "cell_type": "code",
   "execution_count": null,
   "id": "a7c3a471-2e0f-4dd5-97fe-b630590b2958",
   "metadata": {
    "tags": []
   },
   "outputs": [],
   "source": [
    "collection = chroma_client.get_or_create_collection(name=\"persistent_text_chunks\")\n",
    "\n",
    "collection.upsert(\n",
    "    embeddings=vecs.tolist(),\n",
    "    documents=docs.tolist(),\n",
    "    ids=ids.tolist()\n",
    ")\n",
    "\n",
    "collection.query(\n",
    "    query_embeddings=[utah_query_vec],\n",
    "    n_results=3\n",
    ")"
   ]
  },
  {
   "cell_type": "markdown",
   "id": "fb1950d7-e15f-4113-a1e4-96b1bce10284",
   "metadata": {},
   "source": [
    "Now we'll move the data to the shared storage (in this example, cloud storage) so it can be accessed from many nodes"
   ]
  },
  {
   "cell_type": "code",
   "execution_count": null,
   "id": "06a8afd8-98df-42f6-8cfe-1d65dd9ffba0",
   "metadata": {
    "tags": []
   },
   "outputs": [],
   "source": [
    "! cp -rf /mnt/local_storage/vector_store /mnt/cluster_storage"
   ]
  },
  {
   "cell_type": "markdown",
   "id": "ea421838-616a-4182-bc11-2ff7f3fa8122",
   "metadata": {},
   "source": [
    "### Scalable Chroma reader service with Ray Serve\n",
    "\n",
    "We can define a Ray Serve deployment that queries the data using Chroma. Then we can let Ray handle autoscaling from 0 ... to as much compute as we need."
   ]
  },
  {
   "cell_type": "code",
   "execution_count": null,
   "id": "d32a8a48-e0dd-4836-bba7-921b968cb88b",
   "metadata": {
    "tags": []
   },
   "outputs": [],
   "source": [
    "@serve.deployment(autoscaling_config={ \"min_replicas\": 4, \"max_replicas\": 1000 }, \n",
    "                  ray_actor_options={ \"runtime_env\" : { \"pip\": [\"chromadb\"] }})\n",
    "class ChromaDBReader:\n",
    "    def __init__(self, collection: str):        \n",
    "        chroma_client = chromadb.PersistentClient(path=\"/mnt/cluster_storage/vector_store\")\n",
    "        self._coll = chroma_client.get_collection(collection)\n",
    "    \n",
    "    def get_response(self, query_vec, top_n):\n",
    "        return self._coll.query(query_embeddings=[query_vec], n_results=top_n,)['documents']\n",
    "\n",
    "search_handle = serve.run(ChromaDBReader.bind('persistent_text_chunks'), name='doc_search')"
   ]
  },
  {
   "cell_type": "code",
   "execution_count": null,
   "id": "f55e71e4-21f3-42d4-8ab4-8fe8c8bdf4dc",
   "metadata": {
    "tags": []
   },
   "outputs": [],
   "source": [
    "ray.get(search_handle.get_response.remote(utah_query_vec, 3))"
   ]
  },
  {
   "cell_type": "markdown",
   "id": "eac8945c-5f4f-4c29-a291-f24aea020767",
   "metadata": {},
   "source": [
    "Let's try a new query ..."
   ]
  },
  {
   "cell_type": "code",
   "execution_count": null,
   "id": "acb2d654-2956-4dae-a800-b70d8636c299",
   "metadata": {
    "tags": []
   },
   "outputs": [],
   "source": [
    "ray.get(search_handle.get_response.remote(model.encode('bank robbery details').tolist(), 3))"
   ]
  },
  {
   "cell_type": "markdown",
   "id": "87bf1d14-a316-4a80-a340-2f505e9bfad6",
   "metadata": {},
   "source": [
    "And let's make sure it works on multiple nodes:\n",
    "\n",
    "* We should have multiple ChromaDBReader replicas\n",
    "* With load balancing at work, a few requests should let us make sure multiple replicas are being queried\n",
    "* Check the Ray dashboard cluster view to verify that queries are succeeding on multiple nodes in the cluster"
   ]
  },
  {
   "cell_type": "code",
   "execution_count": null,
   "id": "063361dd-e6b0-4a7f-9c73-f49149dd6cad",
   "metadata": {
    "tags": []
   },
   "outputs": [],
   "source": [
    "for i in range(4):\n",
    "    print(ray.get(search_handle.get_response.remote(model.encode('bank robbery details').tolist(), 3)))"
   ]
  },
  {
   "cell_type": "markdown",
   "id": "062680ea-99e6-4dfe-92ac-a385a4612e60",
   "metadata": {},
   "source": [
    "## Review: at-scale embeddings and search\n",
    "\n",
    "In this module, we've looked at the motivation for embeddings and vector databases.\n",
    "\n",
    "We've talked about why we often want to run both of those services in our own infrastrucure, keeping our own data private, and allowing us to control architecture, functionality, and costs.\n",
    "\n",
    "And we've seen how Ray Data and Ray Serve deployments make it simple to start with code and tools we've learned during local prototyping ... and to then scale up to arbitrarily large amounts of data and compute in production."
   ]
  },
  {
   "cell_type": "code",
   "execution_count": null,
   "id": "60809645-80f8-4d67-983a-b786cfe1868a",
   "metadata": {
    "tags": []
   },
   "outputs": [],
   "source": [
    "serve.shutdown()"
   ]
  }
 ],
 "metadata": {
  "kernelspec": {
   "display_name": "Python 3 (ipykernel)",
   "language": "python",
   "name": "python3"
  },
  "language_info": {
   "codemirror_mode": {
    "name": "ipython",
    "version": 3
   },
   "file_extension": ".py",
   "mimetype": "text/x-python",
   "name": "python",
   "nbconvert_exporter": "python",
   "pygments_lexer": "ipython3",
   "version": "3.10.8"
  }
 },
 "nbformat": 4,
 "nbformat_minor": 5
}
