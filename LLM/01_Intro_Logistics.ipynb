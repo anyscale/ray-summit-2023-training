{
 "cells": [
  {
   "cell_type": "markdown",
   "id": "54ce52f2-e730-4aee-9422-a5937787bee7",
   "metadata": {},
   "source": [
    "# Intro - Logistics\n",
    "\n",
    "- Session\n",
    "- Instructor\n",
    "- TAs\n",
    "- Anyscale and how to log in\n",
    "- Make sure you have Anyscale Endpoints token etc\n",
    "- Start/End/Break times"
   ]
  },
  {
   "cell_type": "code",
   "execution_count": null,
   "id": "06f04bfd-444c-4804-b751-c4d18481d995",
   "metadata": {},
   "outputs": [],
   "source": []
  }
 ],
 "metadata": {
  "kernelspec": {
   "display_name": "Python 3 (ipykernel)",
   "language": "python",
   "name": "python3"
  },
  "language_info": {
   "codemirror_mode": {
    "name": "ipython",
    "version": 3
   },
   "file_extension": ".py",
   "mimetype": "text/x-python",
   "name": "python",
   "nbconvert_exporter": "python",
   "pygments_lexer": "ipython3",
   "version": "3.10.12"
  }
 },
 "nbformat": 4,
 "nbformat_minor": 5
}
