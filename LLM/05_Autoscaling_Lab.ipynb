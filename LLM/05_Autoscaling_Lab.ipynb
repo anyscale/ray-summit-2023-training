{
 "cells": [
  {
   "cell_type": "code",
   "execution_count": null,
   "id": "eee788c7-5783-4162-b1c8-00fe2a30de76",
   "metadata": {
    "tags": []
   },
   "outputs": [],
   "source": [
    "import ray\n",
    "import torch\n",
    "from ray import serve\n",
    "from transformers import pipeline"
   ]
  },
  {
   "cell_type": "markdown",
   "id": "60f5a0bd-5ae9-4aa8-8f36-1c080d7a15ba",
   "metadata": {},
   "source": [
    "# Autoscaling lab\n",
    "\n",
    "In this lab we'll explore\n",
    "* autoscaling\n",
    "* \"serverless\" deployments\n",
    "* replicas\n",
    "* resources\n",
    "* Ray dashboard"
   ]
  },
  {
   "cell_type": "markdown",
   "id": "f75a8310-8ada-4354-8ab6-40211bf23377",
   "metadata": {},
   "source": [
    "## Core activity\n",
    "\n",
    "The main activity in this lab is to refactor a basic Ray Serve chat deployment so that it supports autoscaling.\n",
    "\n",
    "Using the \"Review: scaling and performance\" section below as a reference, adjust the chat deployment so that it has the following properties\n",
    "* when not in use, it has no running replicas\n",
    "* it starts off with no running replicas (since it's not in use \"at launch time\")\n",
    "* it can scale to a maximum of 2 replicas\n",
    "\n",
    "Look at the Ray dashboard and note the deployment and replica states.\n",
    "\n",
    "By swapping in city names (e.g. 12 cities and 4 copies of each query, which you can copy/paste from the *Hosting with Ray* notebook), create a collection of 48 prompts and immediately call the model with all of them.\n",
    "\n",
    "Look at the Ray dashboard and log messages and note the scaling behavior and reporting of this scaling."
   ]
  },
  {
   "cell_type": "markdown",
   "id": "e5f392f6-bebb-4e67-bdb9-318b9773522d",
   "metadata": {},
   "source": [
    "## Bonus activity\n",
    "\n",
    "See what happens if we try to scale to 3 replicas (knowing that we only have 2 x A10G GPUs in our cluster)"
   ]
  },
  {
   "cell_type": "markdown",
   "id": "96ba5317-35e2-4f04-8fe6-e086d25d26df",
   "metadata": {
    "tags": []
   },
   "source": [
    "### Review: Scaling and performance\n",
    "\n",
    "#### Replicas and autoscaling\n",
    "\n",
    "Each deployment can have its own resource management and autoscaling configuration, with several options for scaling.\n",
    "\n",
    "By default -- if nothing is specified, as in our examples above -- the default is a single replica. We can specify a larger, constant number of replicas in the decorator:\n",
    "```python\n",
    "@serve.deployment(num_replicas=3)\n",
    "```\n",
    "\n",
    "For autoscaling, instead of `num_replicas`, we provide an `autoscaling_config` dictionary. With autoscaling, we can specify a minimum and maximum range for the number of replicas, the initial replica count, a load target, and more.\n",
    "\n",
    "Here is example of extended configuration -- see https://docs.ray.io/en/releases-2.6.1/serve/scaling-and-resource-allocation.html#scaling-and-resource-allocation for more details:\n",
    "\n",
    "```python\n",
    "@serve.deployment(\n",
    "    autoscaling_config={\n",
    "        'min_replicas': 1,\n",
    "        'initial_replicas': 2,\n",
    "        'max_replicas': 5,\n",
    "        'target_num_ongoing_requests_per_replica': 10,\n",
    "    }\n",
    ")\n",
    "```\n",
    "\n",
    "`min_replicas` can also be set to zero to create a \"serverless\" style design: in exchange for potentially slower startup, no actors (or their CPU/GPU resources) need to be permanently reserved."
   ]
  },
  {
   "cell_type": "code",
   "execution_count": null,
   "id": "5110faad-d1d8-45e6-964d-98c1ff5081ef",
   "metadata": {},
   "outputs": [],
   "source": [
    "serve.shutdown()"
   ]
  },
  {
   "cell_type": "code",
   "execution_count": null,
   "id": "84917e5b-65ab-4b91-b5f8-c63ddebd5241",
   "metadata": {
    "tags": []
   },
   "outputs": [],
   "source": [
    "prompt = '''You are a helpful assistant.### User: What is your favorite place to visit in San Francisco? ### Assistant:'''\n",
    "\n",
    "CHAT_MODEL = 'stabilityai/StableBeluga-7B'"
   ]
  },
  {
   "cell_type": "code",
   "execution_count": null,
   "id": "50c2eebc-9c7b-4657-9f60-0ddbc7ddf9c7",
   "metadata": {
    "tags": []
   },
   "outputs": [],
   "source": [
    "@serve.deployment(ray_actor_options={\"num_gpus\": 1.0})\n",
    "class Chat:\n",
    "    def __init__(self, model: str):\n",
    "        self._model =  pipeline(\"text-generation\", model=model, model_kwargs={\n",
    "                                        'torch_dtype':torch.float16,\n",
    "                                        'device_map':'auto',\n",
    "                                        \"cache_dir\": \"/mnt/local_storage\"})\n",
    "    \n",
    "    def get_response(self, message: str) -> str:\n",
    "        return self._model(message, max_length=200)\n",
    "\n",
    "handle = serve.run(Chat.bind(model=CHAT_MODEL), name='chat')"
   ]
  },
  {
   "cell_type": "code",
   "execution_count": null,
   "id": "f80552ef-6fb5-4a2d-aa40-007ef49affd7",
   "metadata": {
    "tags": []
   },
   "outputs": [],
   "source": [
    "ref = handle.get_response.remote(prompt)"
   ]
  },
  {
   "cell_type": "code",
   "execution_count": null,
   "id": "9ba41909-07f9-4a02-b427-3ad1423cf4ad",
   "metadata": {
    "tags": []
   },
   "outputs": [],
   "source": [
    "ray.get(ref)"
   ]
  },
  {
   "cell_type": "code",
   "execution_count": null,
   "id": "d159d5a9-ad49-41e1-9b41-19480bbf7483",
   "metadata": {
    "tags": []
   },
   "outputs": [],
   "source": [
    "serve.delete('chat')"
   ]
  },
  {
   "cell_type": "code",
   "execution_count": null,
   "id": "491fd40e-92a8-4c17-b916-486ebcacad07",
   "metadata": {},
   "outputs": [],
   "source": [
    "serve.shutdown()"
   ]
  }
 ],
 "metadata": {
  "kernelspec": {
   "display_name": "Python 3 (ipykernel)",
   "language": "python",
   "name": "python3"
  },
  "language_info": {
   "codemirror_mode": {
    "name": "ipython",
    "version": 3
   },
   "file_extension": ".py",
   "mimetype": "text/x-python",
   "name": "python",
   "nbconvert_exporter": "python",
   "pygments_lexer": "ipython3",
   "version": "3.10.8"
  }
 },
 "nbformat": 4,
 "nbformat_minor": 5
}
