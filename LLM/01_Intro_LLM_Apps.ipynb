{
 "cells": [
  {
   "cell_type": "code",
   "execution_count": null,
   "id": "d2fd2a48-675e-4d53-b8b0-0e048876e79a",
   "metadata": {
    "tags": []
   },
   "outputs": [],
   "source": [
    "from pathlib import Path\n",
    "\n",
    "import openai"
   ]
  },
  {
   "cell_type": "markdown",
   "id": "25ff70c9-9d21-4e66-b8c5-8f7047ccaca0",
   "metadata": {},
   "source": [
    "# LLM Applications\n",
    "## Birds-eye view: end-to-end from first principles\n",
    "\n",
    "We'll demo a micro illustration of a common LLM app pattern, using basic Python along with access to OpenAI's GPT-3.5-Turbo model (accessed via API).\n",
    "\n",
    "The purpose is to understand the key ideas underlying more complex tools like vector databases, Langchain/LlamaIndex, structured data extraction and function calling, etc.\n",
    "\n",
    "We won't cover creating and training new large language models -- we'll assume that we already have one.\n",
    "\n",
    "<div class=\"alert alert-block alert-info\">\n",
    "    \n",
    "__Roadmap: end-to-end overview__\n",
    "\n",
    "1. Prompts and the OpenAI API\n",
    "1. Limitations in LLM question answering\n",
    "1. Providing additional information to the model via the prompt\n",
    "1. The role of data stores and search in finding information for the prompt\n",
    "1. Zero-shot tool use: prompting the model to use an API\n",
    "</div>\n",
    "\n",
    "### Getting started"
   ]
  },
  {
   "cell_type": "code",
   "execution_count": null,
   "id": "a4eabf66-f3a2-48b7-8833-47cf150dc599",
   "metadata": {
    "tags": []
   },
   "outputs": [],
   "source": [
    "openaikey = Path('openaikey.txt').read_text()\n",
    "openai.api_key = openaikey\n",
    "model=\"gpt-3.5-turbo\""
   ]
  },
  {
   "cell_type": "markdown",
   "id": "49bce62f-90ec-4a73-9b04-3e6cc42ba33d",
   "metadata": {},
   "source": [
    "Most apps are based around two kinds of prompts: \n",
    "* a \"system\" prompt (basically the rules of the game for the AI)\n",
    "* a \"user\" prompt (what the user or application submits ... in chat conversations, the conversation history is in the user prompt)\n",
    "\n",
    "There are various tricks and techniques for eliciting specific behaviors from different models ... but the basics are straightforward."
   ]
  },
  {
   "cell_type": "code",
   "execution_count": null,
   "id": "7f684969-4a0a-46bd-8f4b-39881395aaf0",
   "metadata": {
    "tags": []
   },
   "outputs": [],
   "source": [
    "# Define the system message\n",
    "system_msg = 'You are a helpful assistant.'\n",
    "\n",
    "# Define the user message -- i.e., the prompt\n",
    "user_msg = 'What is your favorite place to visit in San Francisco?'"
   ]
  },
  {
   "cell_type": "markdown",
   "id": "85e7e98d-9811-4ab7-9094-946b74e8e5c5",
   "metadata": {},
   "source": [
    "Now we can ask the LLM to respond. OpenAI's `ChatCompletion` API simplifies and implements the pattern."
   ]
  },
  {
   "cell_type": "code",
   "execution_count": null,
   "id": "34a28599-3687-4877-be7c-98c7ff8c53aa",
   "metadata": {
    "tags": []
   },
   "outputs": [],
   "source": [
    "# call GPT\n",
    "response = openai.ChatCompletion.create(model=model,\n",
    "                                        messages=[{\"role\": \"system\", \"content\": system_msg},\n",
    "                                         {\"role\": \"user\", \"content\": user_msg}])\n",
    "\n",
    "response.choices[0].message[\"content\"]"
   ]
  },
  {
   "cell_type": "markdown",
   "id": "268cbd9d-26d1-4a8c-9a7d-d21ea2a05b89",
   "metadata": {},
   "source": [
    "Since we'll be interacting a lot, we can wrap this logic in a helper function. We'll hide most of the params for now, but expose an optional \"temperature\" which specifies how creative (or chaotic) we would like the model to be."
   ]
  },
  {
   "cell_type": "code",
   "execution_count": null,
   "id": "2435614d-7a6b-4f2c-a8e9-7386cf740ffa",
   "metadata": {
    "tags": []
   },
   "outputs": [],
   "source": [
    "def quick_chat(user, temp=1.0):\n",
    "    response = openai.ChatCompletion.create(model=model, temperature=temp, \n",
    "                                        messages=[{\"role\": \"system\", \"content\": 'You are a helpful assistant.'},\n",
    "                                         {\"role\": \"user\", \"content\": user}])\n",
    "    return response.choices[0].message[\"content\"]"
   ]
  },
  {
   "cell_type": "code",
   "execution_count": null,
   "id": "97e15f97-cef3-4660-8c8c-e572c0fc8a67",
   "metadata": {
    "tags": []
   },
   "outputs": [],
   "source": [
    "quick_chat(user_msg)"
   ]
  },
  {
   "cell_type": "markdown",
   "id": "46142228-42c1-4f4b-a066-eaab08911130",
   "metadata": {},
   "source": [
    "A low temperature may produce more spare, conservative responses with less likelihood of hallucination"
   ]
  },
  {
   "cell_type": "code",
   "execution_count": null,
   "id": "6cfd9366-e648-4eaa-8542-077b8e588c82",
   "metadata": {
    "tags": []
   },
   "outputs": [],
   "source": [
    "quick_chat(user_msg, temp=0.1)"
   ]
  },
  {
   "cell_type": "markdown",
   "id": "87063912-5788-4cd9-a33d-e4eccbd679d8",
   "metadata": {},
   "source": [
    "A higher temperature produces more creative responses ... but there may not be a huge difference"
   ]
  },
  {
   "cell_type": "code",
   "execution_count": null,
   "id": "147ba043-6235-4295-83c4-135dae3f7815",
   "metadata": {
    "tags": []
   },
   "outputs": [],
   "source": [
    "quick_chat(user_msg, temp=1.8)"
   ]
  },
  {
   "cell_type": "markdown",
   "id": "31a7fd14-2d03-4067-8f53-188f16cb3549",
   "metadata": {},
   "source": [
    "### Asking the AI harder questions by injecting facts into the prompt\n",
    "\n",
    "Many common facts are heavily covered in the LLM training data, so the model can easily return them.\n",
    "\n",
    "But what happens if we ask an unusual or impossible question?"
   ]
  },
  {
   "cell_type": "code",
   "execution_count": null,
   "id": "080f7f92-ab49-480e-96fd-b4b189049208",
   "metadata": {
    "tags": []
   },
   "outputs": [],
   "source": [
    "quick_chat(\"Who is the CFO of Monkeylanguage LLC?\")"
   ]
  },
  {
   "cell_type": "markdown",
   "id": "5b429993-a7a6-445f-96fc-e430c7d948cd",
   "metadata": {},
   "source": [
    "Well-tuned LLMs should decline to provide an answer ... although less-well-tuned ones may simply make up (\"hallucinate\") an answer.\n",
    "\n",
    "A common category of LLM apps attempts to use the LLM as a sort of natural language user interface to query specific information. Where the information is not likely in the training data, and we don't want hallucinated answers, there is a simple trick: *insert relevant facts into the prompt.*\n",
    "\n",
    "Let's try that by adding in some organization info for a fictional company, Monkeylanguage LLC, into our chatbot prompt."
   ]
  },
  {
   "cell_type": "code",
   "execution_count": null,
   "id": "80821b31-687a-45ec-b782-347dd7e5b250",
   "metadata": {
    "tags": []
   },
   "outputs": [],
   "source": [
    "base_prompt = \"\"\"\n",
    "You are a helpful assistant who can answer questions about the team at Monkeylanguage LLC, an AI startup.\n",
    "\n",
    "When answering questions, use the following facts about Monkeylanguage LLC employees:\n",
    "\n",
    "1. Juan Williams is the CEO\n",
    "2. Linda Johnson is the CFO\n",
    "3. Robert Jordan is the CTO\n",
    "4. Aileen Xin is Engineering Lead\n",
    "\n",
    "If you don't have information to answer a question, please say you don't know. Don't make up an answer\n",
    "\n",
    "\"\"\""
   ]
  },
  {
   "cell_type": "markdown",
   "id": "83ea006b-2d0e-449c-9b5f-7d3b61bce156",
   "metadata": {},
   "source": [
    "Since we're modifying the base prompt now, we'll need to update our quick chat shortcut function to allow us to pass the new system prompt along with a user prompt"
   ]
  },
  {
   "cell_type": "code",
   "execution_count": null,
   "id": "20cedaf1-bdf7-4534-a64b-03c1ec36b26f",
   "metadata": {
    "tags": []
   },
   "outputs": [],
   "source": [
    "def chat(system, user):\n",
    "    response = openai.ChatCompletion.create(model=model,\n",
    "                                        messages=[{\"role\": \"system\", \"content\": system},\n",
    "                                         {\"role\": \"user\", \"content\": user}])\n",
    "    return response.choices[0].message[\"content\"]"
   ]
  },
  {
   "cell_type": "markdown",
   "id": "e929468e-6e59-45f4-ab40-9f652a5c7f50",
   "metadata": {},
   "source": [
    "Now we can ask about our fictional company"
   ]
  },
  {
   "cell_type": "code",
   "execution_count": null,
   "id": "e1c25177-3615-464d-acd6-675b3a704a2c",
   "metadata": {
    "tags": []
   },
   "outputs": [],
   "source": [
    "chat(base_prompt, \"Who is the CFO of Monkeylanguage LLC?\")"
   ]
  },
  {
   "cell_type": "code",
   "execution_count": null,
   "id": "3614ab38-b04f-4c53-9913-5a07fdfac740",
   "metadata": {
    "tags": []
   },
   "outputs": [],
   "source": [
    "chat(base_prompt, \"Who are all of the technical staff members at Monkeylanguage LLC?\")"
   ]
  },
  {
   "cell_type": "markdown",
   "id": "0f2beeba-68ce-4368-8b2f-ce45546471cd",
   "metadata": {},
   "source": [
    "### Flexible injection of facts via query from a supporting dataset\n",
    "\n",
    "But how do we get the right content to insert into the prompt?\n",
    "\n",
    "We use a trick:\n",
    "\n",
    "1. look at the user prompt -- the actual question we want to answer\n",
    "2. search a dataset of some kind for information that might match -- it doesn't need to be precise or exact, which is why this technique is more general than an old-fashioned database search for the final answer\n",
    "3. insert matches or possible matches into the prompt\n",
    "\n",
    "In production apps, we usually use a database that supports semantic matching to natural language texts via embedding vector similarity -- \"vector databases\"\n",
    "\n",
    "But we can demonstrate this with a toy database"
   ]
  },
  {
   "cell_type": "code",
   "execution_count": null,
   "id": "6692e32a-df4c-42dd-9d64-ccf2109c4a95",
   "metadata": {
    "tags": []
   },
   "outputs": [],
   "source": [
    "database = {\n",
    "    'Monkeylanguage LLC' : ['Juan Williams is the CEO', 'Linda Johnson is the CFO', 'Robert Jordan is the CTO', 'Aileen Xin is Engineering Lead'],\n",
    "    'FurryRobot Corp' : ['Ana Gonzalez is the CEO', 'Corwin Hall is the CFO', 'FurryRobot employs no technical staff', 'All tech is produced by AI'],\n",
    "    'LangMagic Inc' : [\"Steve Jobs' ghost fulfills all roles in the company\"]\n",
    "}"
   ]
  },
  {
   "cell_type": "code",
   "execution_count": null,
   "id": "00eb178f-7312-4cf1-aa7d-5d7939cef5fe",
   "metadata": {
    "tags": []
   },
   "outputs": [],
   "source": [
    "prompt = 'Who is the CFO at Monkeylanguage LLC?'"
   ]
  },
  {
   "cell_type": "markdown",
   "id": "abc7ffbf-48cb-4948-a5aa-898a5a2390ee",
   "metadata": {},
   "source": [
    "We'll define a trivial `lookup` helper that returns all of the facts for the first company whose name (the dict key) is in the query"
   ]
  },
  {
   "cell_type": "code",
   "execution_count": null,
   "id": "647acb15-bc2e-4169-8fa7-58c98d788fb4",
   "metadata": {
    "tags": []
   },
   "outputs": [],
   "source": [
    "def lookup(prompt, database):\n",
    "    for k in database.keys():\n",
    "        if k in prompt:\n",
    "            return database[k]"
   ]
  },
  {
   "cell_type": "code",
   "execution_count": null,
   "id": "7b7e0cd5-e9f0-40a6-85d6-36c1bf643f71",
   "metadata": {
    "tags": []
   },
   "outputs": [],
   "source": [
    "docs = lookup(prompt, database)\n",
    "\n",
    "docs"
   ]
  },
  {
   "cell_type": "markdown",
   "id": "6d6700c4-2254-4701-a7cc-c6cf2e18dcb5",
   "metadata": {},
   "source": [
    "We can code a helper to build the system prompt from a set of relevant documents"
   ]
  },
  {
   "cell_type": "code",
   "execution_count": null,
   "id": "daccfba8-30b7-4831-bbef-46f67ae53a1e",
   "metadata": {
    "tags": []
   },
   "outputs": [],
   "source": [
    "def make_base_prompt(docs):\n",
    "    return \"\"\"\n",
    "You are a helpful assistant who can answer questions about the team at some AI startup companies.\n",
    "\n",
    "When answering questions, use the following facts about employees at the firm:\n",
    "\"\"\" + '\\n'.join([doc for doc in docs]) + \"\"\"\n",
    "If you don't have information to answer a question, please say you don't know. Don't make up an answer\"\"\""
   ]
  },
  {
   "cell_type": "code",
   "execution_count": null,
   "id": "cb1b1f5b-c7b8-4de2-a495-008b9c2fc469",
   "metadata": {
    "tags": []
   },
   "outputs": [],
   "source": [
    "make_base_prompt(docs)"
   ]
  },
  {
   "cell_type": "markdown",
   "id": "bfa4dc6d-a7b8-436e-837c-693c22fed1a4",
   "metadata": {},
   "source": [
    "And now we can \"chat\" with our \"data\""
   ]
  },
  {
   "cell_type": "code",
   "execution_count": null,
   "id": "db4d27b0-68a1-4990-927e-9fb3334a41eb",
   "metadata": {
    "tags": []
   },
   "outputs": [],
   "source": [
    "def retrieve_and_chat(prompt, database):\n",
    "    docs = lookup(prompt, database)\n",
    "    base_prompt = make_base_prompt(docs)\n",
    "    return chat(base_prompt, prompt)"
   ]
  },
  {
   "cell_type": "code",
   "execution_count": null,
   "id": "8b8cdb8c-8383-4d3d-be8a-92dcc0be7295",
   "metadata": {
    "tags": []
   },
   "outputs": [],
   "source": [
    "retrieve_and_chat(prompt, database)"
   ]
  },
  {
   "cell_type": "code",
   "execution_count": null,
   "id": "63238248-b27b-498b-a840-ed86ff456d4b",
   "metadata": {
    "tags": []
   },
   "outputs": [],
   "source": [
    "retrieve_and_chat('Who is the CFO at FurryRobot Corp?', database)"
   ]
  },
  {
   "cell_type": "markdown",
   "id": "2065309d-1ffe-4e95-b492-50b4ccc3c170",
   "metadata": {},
   "source": [
    "Some queries are \"harder\" ... and the model may not get it right on the first try without either more data or more sophisticated prompting.\n",
    "\n",
    "But in this example, the model usually gets the right answer in one or two tries"
   ]
  },
  {
   "cell_type": "code",
   "execution_count": null,
   "id": "1d98be96-1f1f-4b8f-aced-6768a88b58a2",
   "metadata": {
    "tags": []
   },
   "outputs": [],
   "source": [
    "retrieve_and_chat('Who is the CFO at LangMagic Inc?', database)"
   ]
  },
  {
   "cell_type": "markdown",
   "id": "1e2c971b-fd82-4a09-841b-095d0b59bbcc",
   "metadata": {},
   "source": [
    "The process we've just implemented -- albeit with more data, a more sophisticated approach to storing and querying, and more complex prompts -- is at the heart of many LLM-powered apps. \n",
    "\n",
    "It's a pattern called \"Retrieval Augmented Generation\" or RAG\n",
    "\n",
    "### Tools: \"but what about those AI assistants that can do things for me, like order my groceries?\"\n",
    "\n",
    "In order to interface the LLM to the \"real world\" we can ask the LLM to generate a function call or API call based on our interaction.\n",
    "\n",
    "We can then use that API or function call to trigger a real-world result, like a grocery order.\n",
    "\n",
    "__How does this work?__\n",
    "\n",
    "The essence of teaching a LLM to use functions is just more prompt engineering. \n",
    "\n",
    "1. define a collection of \"tools\" -- functions or data patterns that the LLM can use in various contexts\n",
    "2. provide all of tools, along with a description of when they might be useful, in the prompt\n",
    "3. ask the LLM to do something and hope that it properly selects and uses the tool\n",
    "\n",
    "We can either provide the LLM with all of the available tools, or we can retrieve relevant tools from a larger collection based on the user prompt. We can even have the LLM itself choose the tools via patterns like RAG that we saw earlier"
   ]
  },
  {
   "cell_type": "code",
   "execution_count": null,
   "id": "164ffc95-d465-455f-b34d-1354bc06f931",
   "metadata": {
    "tags": []
   },
   "outputs": [],
   "source": [
    "tools = ['If you wish to email, return the function call EMAIL(email_subject, email_body), inserting the relevant email_subject and email_body.']"
   ]
  },
  {
   "cell_type": "markdown",
   "id": "95c959c5-c602-4f06-a658-af5fbb7a6deb",
   "metadata": {},
   "source": [
    "We'll inject the tool description(s) into the base prompt"
   ]
  },
  {
   "cell_type": "code",
   "execution_count": null,
   "id": "d9bee0b1-602c-4807-a1fb-a768b96f2bdd",
   "metadata": {
    "tags": []
   },
   "outputs": [],
   "source": [
    "def make_enhanced_base_prompt(docs, tools):\n",
    "    return \"\"\"\n",
    "You are a helpful assistant who can answer questions about the team at some AI startup companies. \n",
    "\n",
    "When answering questions, use the following facts about employees at the firm:\n",
    "\"\"\" + '\\n'.join([doc for doc in docs]) + \"\"\"\n",
    "If you don't have information to answer a question, please say you don't know. Don't make up an answer.\n",
    "\n",
    "You can also use tools to accomplish some actions.\n",
    "\"\"\" + '\\n'.join([tool for tool in tools]) + \"\"\"\n",
    "\n",
    "If you use a tool, return the tool function call and nothing else.\n",
    "\"\"\""
   ]
  },
  {
   "cell_type": "code",
   "execution_count": null,
   "id": "421d054b-0a6d-4ad8-9af8-27e6a412230a",
   "metadata": {
    "tags": []
   },
   "outputs": [],
   "source": [
    "make_enhanced_base_prompt(docs, tools)"
   ]
  },
  {
   "cell_type": "markdown",
   "id": "b5e1cc01-9f46-433e-99c7-2738ce3ffd7c",
   "metadata": {},
   "source": [
    "And now we can ask the AI to do something ... and hopefully it will produce the right invocation"
   ]
  },
  {
   "cell_type": "code",
   "execution_count": null,
   "id": "b1d15548-0387-4cfa-9455-d063e670e594",
   "metadata": {
    "tags": []
   },
   "outputs": [],
   "source": [
    "chat(make_enhanced_base_prompt(docs, tools),\n",
    "     'Please send an email advertising a new role as assistant to the CFO of Monkeylanguage LLC. Name the CFO, and send the email from the CEO')"
   ]
  },
  {
   "cell_type": "markdown",
   "id": "ac467cfd-e75c-48be-99dc-951e5431e3ad",
   "metadata": {},
   "source": [
    "In a nutshell, that is many (maybe most) of the AI-powered apps that are being built today.\n",
    "\n",
    "Packages like LlamaIndex, LangChain, and others help automating sophisticated patterns of prompt generation and content/tool merging.\n",
    "\n",
    "And semantic vector databases (along with proper \"chunking\" and ingestion of relevant datasets) provide knowledge to the LLM beyond what it learned in training."
   ]
  }
 ],
 "metadata": {
  "kernelspec": {
   "display_name": "Python 3 (ipykernel)",
   "language": "python",
   "name": "python3"
  },
  "language_info": {
   "codemirror_mode": {
    "name": "ipython",
    "version": 3
   },
   "file_extension": ".py",
   "mimetype": "text/x-python",
   "name": "python",
   "nbconvert_exporter": "python",
   "pygments_lexer": "ipython3",
   "version": "3.10.8"
  }
 },
 "nbformat": 4,
 "nbformat_minor": 5
}
