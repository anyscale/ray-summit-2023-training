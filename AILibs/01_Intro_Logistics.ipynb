{
 "cells": [
  {
   "cell_type": "markdown",
   "id": "cc0bde7d-8e4d-4fae-98c6-463c55566e41",
   "metadata": {},
   "source": [
    "## Topics\n",
    "\n",
    "Goal: Understand the high-level Ray AI libraries\n",
    "    \n",
    "Libraries\n",
    "* Data\n",
    "* Train\n",
    "* Tune\n",
    "* Serve\n",
    "* RLlib (not covered in-depth in this module)\n",
    "\n",
    "Use cases\n",
    "* Data I/O and preprocessing\n",
    "* Model training, finetuning, hyperparam tuning\n",
    "* Batch and online prediction\n",
    "\n",
    "### Our example scenario: Finetuning a model to analyze AI-generated images in order to distinguish well-formed vs. malformed gen AI outputs"
   ]
  },
  {
   "cell_type": "markdown",
   "id": "a1b048dd-a975-4739-a6fa-921362a44dd8",
   "metadata": {
    "tags": []
   },
   "source": []
  },
  {
   "cell_type": "code",
   "execution_count": null,
   "id": "2b8a14c1-bfc0-4a97-9bfd-14dacd8a3ef4",
   "metadata": {},
   "outputs": [],
   "source": []
  }
 ],
 "metadata": {
  "kernelspec": {
   "display_name": "Python 3 (ipykernel)",
   "language": "python",
   "name": "python3"
  },
  "language_info": {
   "codemirror_mode": {
    "name": "ipython",
    "version": 3
   },
   "file_extension": ".py",
   "mimetype": "text/x-python",
   "name": "python",
   "nbconvert_exporter": "python",
   "pygments_lexer": "ipython3",
   "version": "3.10.8"
  }
 },
 "nbformat": 4,
 "nbformat_minor": 5
}
