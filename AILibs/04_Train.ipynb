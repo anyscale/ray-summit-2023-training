{
 "cells": [
  {
   "cell_type": "code",
   "execution_count": null,
   "id": "3a76c85f-b220-4ea1-a0e4-3b23a50468e8",
   "metadata": {
    "tags": []
   },
   "outputs": [],
   "source": [
    "import ray\n",
    "import torch\n",
    "import numpy as np\n",
    "import ray.train.huggingface.transformers\n",
    "from ray.air import ScalingConfig\n",
    "from ray.train.torch import TorchTrainer\n",
    "from transformers import ViTForImageClassification, TrainingArguments, Trainer, ViTImageProcessor\n",
    "from ray.train.huggingface.transformers import prepare_trainer, RayTrainReportCallback"
   ]
  },
  {
   "cell_type": "code",
   "execution_count": null,
   "id": "14815019-2445-4e4e-93a4-1abdcf71c942",
   "metadata": {
    "tags": []
   },
   "outputs": [],
   "source": [
    "dogs_train = 's3://anonymous@air-example-data-2/imagenette2/train/n02102040'\n",
    "fish_train = 's3://anonymous@air-example-data-2/imagenette2/train/n01440764'\n",
    "\n",
    "train_ds_images = ray.data.read_images(dogs_train).limit(200).union(ray.data.read_images(fish_train).limit(200))"
   ]
  },
  {
   "cell_type": "code",
   "execution_count": null,
   "id": "1b45a572-89db-4b2d-8434-c9f95fd89217",
   "metadata": {
    "tags": []
   },
   "outputs": [],
   "source": [
    "! cp /home/ray/default/AILibs/labels.csv /mnt/cluster_storage/labels.csv"
   ]
  },
  {
   "cell_type": "code",
   "execution_count": null,
   "id": "ebfe18b5-dd7d-4db0-9227-9e2b923d2815",
   "metadata": {
    "tags": []
   },
   "outputs": [],
   "source": [
    "train_ds_labels = ray.data.read_csv('/mnt/cluster_storage/labels.csv')"
   ]
  },
  {
   "cell_type": "code",
   "execution_count": null,
   "id": "73667f0a-6dba-4c70-ad45-bbb66e60208c",
   "metadata": {
    "tags": []
   },
   "outputs": [],
   "source": [
    "labeled_ds = train_ds_images.zip(train_ds_labels)\n",
    "filtered_labeled_ds = labeled_ds.filter(lambda record: record['image'].ndim==3)"
   ]
  },
  {
   "cell_type": "code",
   "execution_count": null,
   "id": "8c7b4658-f10c-4b30-b982-be684ec70d89",
   "metadata": {
    "tags": []
   },
   "outputs": [],
   "source": [
    "class Featurizer:\n",
    "    def __init__(self):\n",
    "        self._model_name_or_path = 'google/vit-base-patch16-224-in21k'\n",
    "        self._feature_extractor = ViTImageProcessor.from_pretrained(self._model_name_or_path)\n",
    "        \n",
    "    def __call__(self, batch):\n",
    "        inputs = self._feature_extractor([x for x in batch['image']], return_tensors='pt')\n",
    "        return { 'pixel_values' : inputs['pixel_values'], 'labels' : batch['label'] }\n",
    "    \n",
    "featurized_ds = filtered_labeled_ds.map_batches(Featurizer, compute=ray.data.ActorPoolStrategy(size=2))"
   ]
  },
  {
   "cell_type": "code",
   "execution_count": null,
   "id": "bcf4f6ce-a318-4c72-a423-55bebd629fd2",
   "metadata": {
    "tags": []
   },
   "outputs": [],
   "source": [
    "train_dataset, valid_dataset = featurized_ds.train_test_split(test_size=0.2)"
   ]
  },
  {
   "cell_type": "code",
   "execution_count": null,
   "id": "91cade01-55cf-4eb4-8d41-f41644cabbfe",
   "metadata": {},
   "outputs": [],
   "source": []
  },
  {
   "cell_type": "code",
   "execution_count": null,
   "id": "ca9594a1-61e6-42ea-83cb-92019414624b",
   "metadata": {
    "tags": []
   },
   "outputs": [],
   "source": [
    "def train_func(config):\n",
    "    import evaluate\n",
    "    from ray.train import get_dataset_shard\n",
    "    \n",
    "    train_sh = get_dataset_shard(\"train\")\n",
    "    training = train_sh.iter_torch_batches(batch_size=64)\n",
    "    \n",
    "    val_sh = get_dataset_shard(\"valid\")\n",
    "    valid = val_sh.iter_torch_batches(batch_size=64)\n",
    "        \n",
    "    model = ViTForImageClassification.from_pretrained(config['model'])\n",
    "    \n",
    "    metric = evaluate.load(\"accuracy\")\n",
    "    \n",
    "    def compute_metrics(eval_pred):\n",
    "        logits, labels = eval_pred\n",
    "        predictions = np.argmax(logits, axis=-1)\n",
    "        return metric.compute(predictions=predictions, references=labels)\n",
    "\n",
    "    # Hugging Face Training Args + Trainer\n",
    "\n",
    "    training_args = TrainingArguments(\n",
    "      output_dir=\"/mnt/cluster_storage/output\",\n",
    "      evaluation_strategy=\"steps\",\n",
    "      eval_steps = 3,\n",
    "      per_device_train_batch_size=128,\n",
    "      logging_steps=2,\n",
    "      save_steps=4,\n",
    "      max_steps=10,\n",
    "    )\n",
    "    \n",
    "    trainer = Trainer(\n",
    "        model=model,\n",
    "        args=training_args,\n",
    "        compute_metrics=compute_metrics,\n",
    "        train_dataset=training,\n",
    "        eval_dataset=valid,\n",
    "    )\n",
    "\n",
    "    callback = RayTrainReportCallback()\n",
    "    trainer.add_callback(callback)\n",
    "\n",
    "    trainer = prepare_trainer(trainer)\n",
    "    trainer.train()"
   ]
  },
  {
   "cell_type": "code",
   "execution_count": null,
   "id": "0ad9913f-b44e-40c7-89c9-1cf61a9eecf9",
   "metadata": {
    "tags": []
   },
   "outputs": [],
   "source": [
    "ray_trainer = TorchTrainer(\n",
    "    train_loop_per_worker= train_func, \n",
    "    train_loop_config= {'model':'google/vit-base-patch16-224-in21k'},\n",
    "    scaling_config=ScalingConfig(num_workers=2, use_gpu=True),\n",
    "    run_config=ray.air.RunConfig(storage_path='/mnt/cluster_storage'),\n",
    "    datasets={\"train\": train_dataset, \"valid\": valid_dataset},\n",
    ")\n",
    "ray_trainer.fit()"
   ]
  },
  {
   "cell_type": "code",
   "execution_count": null,
   "id": "ce288659-f97b-4a0c-9278-4e1f584d60da",
   "metadata": {},
   "outputs": [],
   "source": []
  },
  {
   "cell_type": "code",
   "execution_count": null,
   "id": "d5f3c02f-b0a7-4ec6-9afe-78ce8ec9ea3d",
   "metadata": {},
   "outputs": [],
   "source": []
  }
 ],
 "metadata": {
  "kernelspec": {
   "display_name": "Python 3 (ipykernel)",
   "language": "python",
   "name": "python3"
  },
  "language_info": {
   "codemirror_mode": {
    "name": "ipython",
    "version": 3
   },
   "file_extension": ".py",
   "mimetype": "text/x-python",
   "name": "python",
   "nbconvert_exporter": "python",
   "pygments_lexer": "ipython3",
   "version": "3.10.8"
  }
 },
 "nbformat": 4,
 "nbformat_minor": 5
}
