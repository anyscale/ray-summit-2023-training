{
 "cells": [
  {
   "cell_type": "code",
   "execution_count": null,
   "id": "d1aeb7cd-6a43-40dc-9761-91d46c6b9e1f",
   "metadata": {
    "tags": []
   },
   "outputs": [],
   "source": [
    "pip install xgboost-ray"
   ]
  },
  {
   "cell_type": "code",
   "execution_count": null,
   "id": "8dcad6b2-7dfd-4824-9ba9-8ceaf0598e52",
   "metadata": {
    "tags": []
   },
   "outputs": [],
   "source": [
    "import ray\n",
    "from ray.air.config import ScalingConfig, RunConfig\n",
    "from ray.train.xgboost import XGBoostTrainer\n",
    "from ray.train.xgboost import XGBoostPredictor\n",
    "from ray import tune\n",
    "from ray.tune import Tuner, TuneConfig\n",
    "from ray import serve\n",
    "import requests, json\n",
    "from starlette.requests import Request\n",
    "import numpy as np"
   ]
  },
  {
   "cell_type": "markdown",
   "id": "682e224e-1bb9-470c-b363-386ede0785a4",
   "metadata": {},
   "source": [
    "# Ray libraries\n",
    "\n",
    "Ray includes set of high-level easy-to-use APIs for\n",
    "ingesting data, training models – including reinforcement learning\n",
    "models – tuning those models and then serving them.\n",
    "\n",
    "<img src=\"https://technical-training-assets.s3.us-west-2.amazonaws.com/Introduction_to_Ray_AIR/e2e_air.png\" width=600 loading=\"lazy\"/>\n",
    "\n",
    "1. [**Ray Data**](https://docs.ray.io/en/latest/data/dataset.html)  \n",
    "Scalable, framework-agnostic data loading and transformation across training, tuning, and prediction.\n",
    "\n",
    "2. [**Ray Train**](https://docs.ray.io/en/latest/train/train.html)  \n",
    "Distributed multi-node and multi-core model training with fault tolerance that integrates with popular machine learning training libraries.\n",
    "\n",
    "3. [**Ray Tune**](https://docs.ray.io/en/latest/tune/index.html)  \n",
    "Scales hyperparameter tuning to optimize model performance.\n",
    "\n",
    "4. [**Ray Serve**](https://docs.ray.io/en/latest/serve/index.html)  \n",
    "Deploys a model or ensemble of models for online inference.\n",
    "\n",
    "5. [**Ray RLlib**](https://docs.ray.io/en/latest/rllib/index.html)  \n",
    "Scales reinforcement learning workloads that integrate with other Ray AIR libraries; not covered in-depth in this module\n",
    "\n",
    "Key principles behind Ray and its libraries are\n",
    "* Performance\n",
    "* Developer experience and simplicity"
   ]
  },
  {
   "cell_type": "markdown",
   "id": "0998ac0a-05ea-4e0e-882d-83d1b1def52a",
   "metadata": {},
   "source": [
    "## Quick end-to-end example\n",
    "\n",
    "|Ray AIR Component|NYC Taxi Use Case|\n",
    "|:--|:--|\n",
    "|Ray Data|Use `Preprocessor` to load and transform input data.|\n",
    "|Ray Train|Use `Trainer` to scale XGBoost model training.|\n",
    "|Ray Tune|Use `Tuner` for hyperparameter search.|\n",
    "|Ray AIR Predictor|Use `BatchPredictor` to load model from best checkpoint for batch inference; part of Ray Train.|\n",
    "|Ray Serve|Use `PredictorDeployment` for online inference.|\n",
    "\n",
    "For this classification task, you will apply a simple [XGBoost](https://xgboost.readthedocs.io/en/stable/) (a gradient boosted trees framework) model to the June 2021 [New York City Taxi & Limousine Commission's Trip Record Data](https://www1.nyc.gov/site/tlc/about/tlc-trip-record-data.page). This dataset contains over 2 million samples of yellow cab rides, and the goal is to predict whether a trip will result in a tip greater than 20% or not.\n",
    "\n",
    "**Dataset features**\n",
    "* **`passenger_count`**\n",
    "    * Float (whole number) representing number of passengers.\n",
    "* **`trip_distance`** \n",
    "    * Float representing trip distance in miles.\n",
    "* **`fare_amount`**\n",
    "    * Float representing total price including tax, tip, fees, etc.\n",
    "* **`trip_duration`**\n",
    "    * Integer representing seconds elapsed.\n",
    "* **`hour`**\n",
    "    * Hour that the trip started.\n",
    "    * Integer in the range `[0, 23]`\n",
    "* **`day_of_week`**\n",
    "    * Integer in the range `[1, 7]`.\n",
    "* **`is_big_tip`**\n",
    "    * Whether the tip amount was greater than 20%.\n",
    "    * Boolean `[True, False]`."
   ]
  },
  {
   "cell_type": "markdown",
   "id": "27b27dc7-cc6c-4e7c-b437-fd5e99ab81a9",
   "metadata": {},
   "source": [
    "__Read, preprocess with Ray Data__"
   ]
  },
  {
   "cell_type": "code",
   "execution_count": null,
   "id": "a50aac68-feb6-426e-820c-c5fe3b9af99e",
   "metadata": {
    "tags": []
   },
   "outputs": [],
   "source": [
    "ray.init(runtime_env={'pip':['xgboost-ray']})"
   ]
  },
  {
   "cell_type": "code",
   "execution_count": null,
   "id": "17c604ce-444a-432c-bb2a-6f954cf35d7b",
   "metadata": {
    "tags": []
   },
   "outputs": [],
   "source": [
    "dataset = ray.data.read_parquet(\"s3://anonymous@anyscale-training-data/intro-to-ray-air/nyc_taxi_2021.parquet\").repartition(16)\n",
    "\n",
    "train_dataset, valid_dataset = dataset.train_test_split(test_size=0.3)"
   ]
  },
  {
   "cell_type": "markdown",
   "id": "ee8a9075-3d58-4dae-846a-60f4cc211080",
   "metadata": {
    "tags": []
   },
   "source": [
    "__Fit model with Ray Train__"
   ]
  },
  {
   "cell_type": "code",
   "execution_count": null,
   "id": "eb118939-04f1-4691-8908-ca907349fed0",
   "metadata": {
    "tags": []
   },
   "outputs": [],
   "source": [
    "trainer = XGBoostTrainer(\n",
    "    label_column=\"is_big_tip\",\n",
    "    scaling_config=ScalingConfig(num_workers=4, use_gpu=False),\n",
    "    params={ \"objective\": \"binary:logistic\", },\n",
    "    datasets={\"train\": train_dataset, \"valid\": valid_dataset},\n",
    "    run_config=RunConfig(storage_path='/mnt/cluster_storage/')\n",
    ")\n",
    "\n",
    "result = trainer.fit()"
   ]
  },
  {
   "cell_type": "markdown",
   "id": "dca351a2-db2e-44d6-8a97-db2a453363e6",
   "metadata": {},
   "source": [
    "__Optimize hyperparams with Ray Tune__"
   ]
  },
  {
   "cell_type": "code",
   "execution_count": null,
   "id": "4e284853-b2f5-4549-b9e0-9fc972595d05",
   "metadata": {
    "tags": []
   },
   "outputs": [],
   "source": [
    "tuner = Tuner(trainer, \n",
    "            param_space={'params' : {'max_depth': tune.randint(2, 12)}},\n",
    "            tune_config=TuneConfig(num_samples=3, metric='train-logloss', mode='min'),\n",
    "            run_config=RunConfig(storage_path='/mnt/cluster_storage/'))\n",
    "\n",
    "checkpoint = tuner.fit().get_best_result().checkpoint"
   ]
  },
  {
   "cell_type": "markdown",
   "id": "6c650994-0fad-4440-abc4-048acae6f5a3",
   "metadata": {},
   "source": [
    "__Batch prediction__"
   ]
  },
  {
   "cell_type": "code",
   "execution_count": null,
   "id": "d99f7f7f-f514-4a31-8b5d-ca18e4e349c2",
   "metadata": {
    "tags": []
   },
   "outputs": [],
   "source": [
    "checkpoint.path"
   ]
  },
  {
   "cell_type": "code",
   "execution_count": null,
   "id": "a2e0d9f9-ca0e-4612-826d-a19f922b65a4",
   "metadata": {
    "tags": []
   },
   "outputs": [],
   "source": [
    "! ls /mnt/cluster_storage/XGBoostTrainer_2023-08-29_14-57-29/XGBoostTrainer_0c8a1_00002_2_max_depth=10_2023-08-29_14-57-29/checkpoint_000000"
   ]
  },
  {
   "cell_type": "code",
   "execution_count": null,
   "id": "fe704e7d-5227-41e5-b8bc-5fa1a2f1e10b",
   "metadata": {
    "tags": []
   },
   "outputs": [],
   "source": [
    "class OfflinePredictor:\n",
    "    def __init__(self):\n",
    "        import xgboost\n",
    "        self._model = xgboost.Booster()\n",
    "        self._model.load_model(checkpoint.path + '/model.json')\n",
    "        #self._model = XGBoostPredictor.from_checkpoint(checkpoint)\n",
    "\n",
    "    def __call__(self, batch):\n",
    "        import xgboost\n",
    "        import pandas as pd\n",
    "        dmatrix = xgboost.DMatrix(pd.DataFrame(batch))    \n",
    "        outputs = self._model.predict(dmatrix)\n",
    "        return {\"prediction\": outputs}"
   ]
  },
  {
   "cell_type": "code",
   "execution_count": null,
   "id": "67d55ebf-c254-4ebc-a703-7eb3004a76a7",
   "metadata": {
    "tags": []
   },
   "outputs": [],
   "source": [
    "predicted_probabilities = valid_dataset.drop_columns(['is_big_tip']).map_batches(OfflinePredictor, compute=ray.data.ActorPoolStrategy(size=2))"
   ]
  },
  {
   "cell_type": "code",
   "execution_count": null,
   "id": "fa51bf9e-1f48-4cc0-9b4a-1da2f3437f9a",
   "metadata": {
    "tags": []
   },
   "outputs": [],
   "source": [
    "valid_dataset.drop_columns(['is_big_tip']).take_batch()"
   ]
  },
  {
   "cell_type": "code",
   "execution_count": null,
   "id": "fad5c190-1e86-4c42-9746-7c27df66f705",
   "metadata": {
    "tags": []
   },
   "outputs": [],
   "source": [
    "predicted_probabilities.take_batch()"
   ]
  },
  {
   "cell_type": "markdown",
   "id": "3fa02f79-d8c0-4ad7-9849-3c3329b6f34b",
   "metadata": {},
   "source": [
    "__Online prediction with Ray Serve__"
   ]
  },
  {
   "cell_type": "code",
   "execution_count": null,
   "id": "7506e5a5-3a8d-42ee-8226-b93756b19fd9",
   "metadata": {
    "tags": []
   },
   "outputs": [],
   "source": [
    "@serve.deployment\n",
    "class OnlinePredictor:\n",
    "    def __init__(self, checkpoint):\n",
    "        import xgboost\n",
    "        self._model = xgboost.Booster()\n",
    "        self._model.load_model(checkpoint.path + '/model.json')        \n",
    "        \n",
    "    async def __call__(self, request: Request) -> dict:\n",
    "        data = await request.json()\n",
    "        data = json.loads(data)\n",
    "        return {\"prediction\": self.get_response(data) }\n",
    "    \n",
    "    def get_response(self, data):\n",
    "        import pandas as pd\n",
    "        dmatrix = xgboost.DMatrix(pd.DataFrame(data, index=[0])) \n",
    "        return self._model.predict(dmatrix)\n",
    "\n",
    "handle = serve.run(OnlinePredictor.bind(checkpoint=checkpoint))"
   ]
  },
  {
   "cell_type": "code",
   "execution_count": null,
   "id": "8615bc0e-ef1b-45d9-a1ff-50dfaaa6a242",
   "metadata": {
    "tags": []
   },
   "outputs": [],
   "source": [
    "sample_input = valid_dataset.take(1)[0]\n",
    "del(sample_input['is_big_tip'])\n",
    "del(sample_input['__index_level_0__'])\n",
    "\n",
    "requests.post(\"http://localhost:8000/\", json=json.dumps(sample_input)).json()"
   ]
  },
  {
   "cell_type": "code",
   "execution_count": null,
   "id": "a22eb534-f335-40a6-b535-aa8433e700ba",
   "metadata": {
    "tags": []
   },
   "outputs": [],
   "source": [
    "serve.shutdown()"
   ]
  },
  {
   "cell_type": "code",
   "execution_count": null,
   "id": "502e5c2d-fc94-4c1a-994d-0d379c37f9b6",
   "metadata": {},
   "outputs": [],
   "source": []
  }
 ],
 "metadata": {
  "kernelspec": {
   "display_name": "Python 3 (ipykernel)",
   "language": "python",
   "name": "python3"
  },
  "language_info": {
   "codemirror_mode": {
    "name": "ipython",
    "version": 3
   },
   "file_extension": ".py",
   "mimetype": "text/x-python",
   "name": "python",
   "nbconvert_exporter": "python",
   "pygments_lexer": "ipython3",
   "version": "3.10.8"
  }
 },
 "nbformat": 4,
 "nbformat_minor": 5
}
