{
 "cells": [
  {
   "cell_type": "code",
   "execution_count": null,
   "id": "d2c3e253-93b8-4606-8a92-c705be8f6f6a",
   "metadata": {
    "tags": []
   },
   "outputs": [],
   "source": [
    "import json\n",
    "from typing import Dict\n",
    "\n",
    "import ray\n",
    "from ray import serve\n",
    "from starlette.requests import Request\n",
    "from transformers import pipeline"
   ]
  },
  {
   "cell_type": "code",
   "execution_count": null,
   "id": "0302d5ba-5c22-4adc-9e80-b6b2d8832ded",
   "metadata": {
    "tags": []
   },
   "outputs": [],
   "source": [
    "@serve.deployment\n",
    "class Translate:\n",
    "    def __init__(self, model: str):\n",
    "        self._model = model\n",
    "        self._pipeline = None\n",
    "    \n",
    "    def get_response(self, user_input: str) -> str:\n",
    "        if (self._pipeline is None):\n",
    "            self._pipeline = pipeline(model=self._model)\n",
    "        outputs = self._pipeline(user_input)\n",
    "        return outputs\n",
    "        \n",
    "translate = Translate.bind(model='google/flan-t5-large')"
   ]
  },
  {
   "cell_type": "code",
   "execution_count": null,
   "id": "be6f7169-3dba-446d-9667-121a03422c92",
   "metadata": {
    "tags": []
   },
   "outputs": [],
   "source": [
    "@serve.deployment(ray_actor_options={\"runtime_env\" : {\"pip\": [\"lingua-language-detector==1.3.2\"]}})\n",
    "class LangDetect:\n",
    "    def __init__(self):\n",
    "        self._detector = None\n",
    "        \n",
    "    def get_response(self, user_input: str) -> str:\n",
    "        from lingua import Language, LanguageDetectorBuilder\n",
    "        \n",
    "        if (self._detector is None):\n",
    "            languages = [Language.ENGLISH, Language.ITALIAN]\n",
    "            self._detector = LanguageDetectorBuilder.from_languages(*languages).build()\n",
    "        \n",
    "        output = self._detector.detect_language_of(user_input)\n",
    "        if (output == Language.ENGLISH):\n",
    "            return 'en'\n",
    "        elif (output == Language.ITALIAN):\n",
    "            return 'it'\n",
    "        else:\n",
    "            raise Exception('Unsupported language')\n",
    "        \n",
    "lang_detect = LangDetect.bind()"
   ]
  },
  {
   "cell_type": "code",
   "execution_count": null,
   "id": "160ec2d9-1f45-464a-a8e8-9faf296d21d1",
   "metadata": {
    "tags": []
   },
   "outputs": [],
   "source": [
    "@serve.deployment\n",
    "class Endpoint:\n",
    "    def __init__(self, lang_detect, translate):\n",
    "        self._lang_detect = lang_detect\n",
    "        self._translate = translate        \n",
    "\n",
    "    async def __call__(self, request: Request) -> Dict:\n",
    "        data = await request.json()\n",
    "        data = json.loads(data)\n",
    "        return {'response': await self.get_response(data['user_input']) }\n",
    "    \n",
    "    async def get_response(self, user_input: str):\n",
    "        lang_obj_ref = await self._lang_detect.get_response.remote(user_input)\n",
    "        lang = await lang_obj_ref\n",
    "\n",
    "        if (lang == 'it'):\n",
    "            prompt = \"Translate to English: \"      \n",
    "        elif (lang == 'en'):\n",
    "            prompt = \"Translate to Italian: \"\n",
    "        else:\n",
    "            raise Exception('Unsupported language')\n",
    "        \n",
    "        result = await self._translate.get_response.remote(prompt + user_input)       \n",
    "            \n",
    "        response = await result        \n",
    "        return response"
   ]
  },
  {
   "cell_type": "code",
   "execution_count": null,
   "id": "9a547282-260c-4e80-bbe9-27b536c7d067",
   "metadata": {
    "tags": []
   },
   "outputs": [],
   "source": [
    "endpoint = Endpoint.bind(lang_detect, translate)\n",
    "\n",
    "endpoint_handle = serve.run(endpoint, name = 'translator')"
   ]
  },
  {
   "cell_type": "code",
   "execution_count": null,
   "id": "b658eb57-b153-4e94-9767-3bcacf08df76",
   "metadata": {
    "tags": []
   },
   "outputs": [],
   "source": [
    "r = endpoint_handle.get_response.remote(\"I like playing tennis.\")"
   ]
  },
  {
   "cell_type": "code",
   "execution_count": null,
   "id": "068ef443-1c2b-4837-a16c-688a5e9d71eb",
   "metadata": {
    "tags": []
   },
   "outputs": [],
   "source": [
    "ray.get(r)"
   ]
  },
  {
   "cell_type": "code",
   "execution_count": null,
   "id": "1cef170a-fedd-4ddd-8df8-a2d590279c89",
   "metadata": {
    "tags": []
   },
   "outputs": [],
   "source": [
    "ray.get(endpoint_handle.get_response.remote(\"Mi piace giocare a tennis\"))"
   ]
  },
  {
   "cell_type": "code",
   "execution_count": null,
   "id": "a035435b-cd3d-4080-8bde-829bdac5514f",
   "metadata": {},
   "outputs": [],
   "source": [
    "serve.shutdown()"
   ]
  }
 ],
 "metadata": {
  "kernelspec": {
   "display_name": "Python 3 (ipykernel)",
   "language": "python",
   "name": "python3"
  },
  "language_info": {
   "codemirror_mode": {
    "name": "ipython",
    "version": 3
   },
   "file_extension": ".py",
   "mimetype": "text/x-python",
   "name": "python",
   "nbconvert_exporter": "python",
   "pygments_lexer": "ipython3",
   "version": "3.9.15"
  }
 },
 "nbformat": 4,
 "nbformat_minor": 5
}
