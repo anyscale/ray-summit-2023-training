{
 "cells": [
  {
   "cell_type": "markdown",
   "id": "f321b7d7-4cda-4dac-ba77-9f8349c82398",
   "metadata": {},
   "source": [
    "# Lab solution: car payment calculator"
   ]
  },
  {
   "cell_type": "code",
   "execution_count": null,
   "id": "28a3df4c-9749-43a9-93a0-aae8c02d005b",
   "metadata": {
    "tags": []
   },
   "outputs": [],
   "source": [
    "# car payment calculation (approximate)\n",
    "\n",
    "def monthly_payment(cost, rate, years_of_loan):\n",
    "    n = 365.25\n",
    "    total_paid = cost * (((1 + ((rate/100.0)/n)) ** (n*years_of_loan)))\n",
    "    per_month = total_paid / (12 * years_of_loan)\n",
    "    return per_month"
   ]
  },
  {
   "cell_type": "code",
   "execution_count": null,
   "id": "5b9adf2d-10a7-4d03-917e-0cb47523cc59",
   "metadata": {
    "tags": []
   },
   "outputs": [],
   "source": [
    "monthly_payment(40000, 2, 4)"
   ]
  },
  {
   "cell_type": "code",
   "execution_count": null,
   "id": "1a61cdbc-818e-46a9-95cd-e4d83922a528",
   "metadata": {
    "tags": []
   },
   "outputs": [],
   "source": [
    "from typing import Dict\n",
    "\n",
    "import json\n",
    "import ray\n",
    "import requests\n",
    "from ray import serve\n",
    "from starlette.requests import Request"
   ]
  },
  {
   "cell_type": "code",
   "execution_count": null,
   "id": "3a7c3467-d719-4a2f-9309-e5e9748086e6",
   "metadata": {
    "tags": []
   },
   "outputs": [],
   "source": [
    "@serve.deployment\n",
    "class Chat:\n",
    "\n",
    "    async def __call__(self, request: Request) -> Dict:\n",
    "        data = await request.json()\n",
    "        data = json.loads(data)\n",
    "        return {\"result\": self.monthly_payment(data['cost'], data['rate'], data['years_of_loan']) }\n",
    "    \n",
    "    def monthly_payment(self, cost, rate, years_of_loan):\n",
    "        n = 365.25\n",
    "        total_paid = cost * (((1 + ((rate/100.0)/n)) ** (n*years_of_loan)))\n",
    "        per_month = total_paid / (12 * years_of_loan)\n",
    "        return per_month\n",
    "\n",
    "handle = serve.run(Chat.bind(), name='car_payment')"
   ]
  },
  {
   "cell_type": "code",
   "execution_count": null,
   "id": "6728b1f8-292a-4345-a36c-93405b423d13",
   "metadata": {
    "tags": []
   },
   "outputs": [],
   "source": [
    "ray.get(handle.monthly_payment.remote(40_000, 7, 6))"
   ]
  },
  {
   "cell_type": "code",
   "execution_count": null,
   "id": "fca79cff-8b8e-4b37-a776-7ebaab9ce10c",
   "metadata": {
    "tags": []
   },
   "outputs": [],
   "source": [
    "sample_json = '{ \"cost\" : 40000, \"rate\" : 7, \"years_of_loan\" : 6 }'"
   ]
  },
  {
   "cell_type": "code",
   "execution_count": null,
   "id": "19a8851f-2dfc-4c2a-ae71-4f324df77570",
   "metadata": {
    "tags": []
   },
   "outputs": [],
   "source": [
    "requests.post(\"http://localhost:8000/\", json = sample_json).json()"
   ]
  },
  {
   "cell_type": "code",
   "execution_count": null,
   "id": "683fbcde-8a0b-4d60-b1ca-191087274913",
   "metadata": {
    "tags": []
   },
   "outputs": [],
   "source": [
    "serve.delete('car_payment')"
   ]
  }
 ],
 "metadata": {
  "kernelspec": {
   "display_name": "Python 3 (ipykernel)",
   "language": "python",
   "name": "python3"
  },
  "language_info": {
   "codemirror_mode": {
    "name": "ipython",
    "version": 3
   },
   "file_extension": ".py",
   "mimetype": "text/x-python",
   "name": "python",
   "nbconvert_exporter": "python",
   "pygments_lexer": "ipython3",
   "version": "3.9.15"
  }
 },
 "nbformat": 4,
 "nbformat_minor": 5
}
