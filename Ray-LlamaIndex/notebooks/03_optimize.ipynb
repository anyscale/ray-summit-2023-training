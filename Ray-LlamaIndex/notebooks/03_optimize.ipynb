{
 "cells": [
  {
   "cell_type": "markdown",
   "id": "1f773bc8-a632-4b1e-a817-42da92594d33",
   "metadata": {},
   "source": [
    "# Part 3: Experiment and optimize the RAG application"
   ]
  },
  {
   "cell_type": "markdown",
   "id": "c6d7edf7-cdc5-45d4-b145-28e2d5316026",
   "metadata": {
    "tags": []
   },
   "source": [
    "- GitHub repository: https://github.com/anyscale/ray-summit-2023-training/tree/main\n",
    "- Anyscale Endpoints: https://endpoints.anyscale.com/\n",
    "- Ray documentation: https://docs.ray.io/\n",
    "- LlamaIndex documentation: https://gpt-index.readthedocs.io/en/stable/"
   ]
  },
  {
   "cell_type": "markdown",
   "id": "dde0aa7c-9a97-4907-9bf4-633b3a2a6224",
   "metadata": {
    "tags": []
   },
   "source": [
    "In this tutorial, we will focus on improving our RAG application by experimenting with different configurations and optimizing individual components as well how they are composed together in the overall pipeline.\n",
    "This builds on top of the evaluation functions that we've setup in the previous part of the notebook (i.e. to evaluate the retrieval and end-to-end performance of the RAG system).\n",
    "\n",
    "Here, we will explore 3 specific strategies:\n",
    "1. searching for optimal configurations for standard components\n",
    "2. using different representations for retrieval vs. generation\n",
    "3. fine-tuning embedding models"
   ]
  },
  {
   "cell_type": "code",
   "execution_count": 1,
   "id": "d2ba2156-1355-4529-a881-24232b42a878",
   "metadata": {
    "tags": []
   },
   "outputs": [],
   "source": [
    "import os\n",
    "\n",
    "os.environ[\"ANYSCALE_API_BASE\"] = \"https://api.endpoints.anyscale.com/v1/chat/completions\"\n",
    "os.environ[\"ANYSCALE_API_KEY\"] = \"esecret_2hvvt43kbmpgzev7k2xqa9h6dv\"\n",
    "\n",
    "os.environ[\"OPENAI_API_BASE\"] = \"https://api.openai.com/v1\"\n",
    "# os.environ[\"OPENAI_API_KEY\"] = ...\n",
    "\n",
    "os.environ[\"DB_CONNECTION_STRING\"] = \"dbname=postgres user=postgres host=localhost password=postgres\""
   ]
  },
  {
   "cell_type": "code",
   "execution_count": 3,
   "id": "b309dbd2-ffbe-4f21-add9-e1c5449569d5",
   "metadata": {
    "tags": []
   },
   "outputs": [
    {
     "name": "stderr",
     "output_type": "stream",
     "text": [
      "2023-09-18 21:47:15,911\tINFO worker.py:1465 -- Connecting to existing Ray cluster at address: 10.0.33.113:6379...\n",
      "2023-09-18 21:47:15,921\tINFO worker.py:1640 -- Connected to Ray cluster. View the dashboard at \u001b[1m\u001b[32mhttps://session-hvq6cjxyd917stdzvn4cs58auc.i.anyscaleuserdata.com \u001b[39m\u001b[22m\n",
      "2023-09-18 21:47:15,925\tINFO packaging.py:346 -- Pushing file package 'gcs://_ray_pkg_adcf6c6b0a7f5609e26ea5822b1e1b1a.zip' (0.69MiB) to Ray cluster...\n",
      "2023-09-18 21:47:15,927\tINFO packaging.py:359 -- Successfully pushed file package 'gcs://_ray_pkg_adcf6c6b0a7f5609e26ea5822b1e1b1a.zip'.\n"
     ]
    },
    {
     "data": {
      "application/vnd.jupyter.widget-view+json": {
       "model_id": "7a962b665e884c1dbb844874a13eefb2",
       "version_major": 2,
       "version_minor": 0
      },
      "text/html": [
       "<div class=\"lm-Widget p-Widget lm-Panel p-Panel jp-Cell-outputWrapper\">\n",
       "    <div style=\"margin-left: 50px;display: flex;flex-direction: row;align-items: center\">\n",
       "        <div class=\"jp-RenderedHTMLCommon\" style=\"display: flex; flex-direction: row;\">\n",
       "  <svg viewBox=\"0 0 567 224\" fill=\"none\" xmlns=\"http://www.w3.org/2000/svg\" style=\"height: 3em;\">\n",
       "    <g clip-path=\"url(#clip0_4338_178347)\">\n",
       "        <path d=\"M341.29 165.561H355.29L330.13 129.051C345.63 123.991 354.21 112.051 354.21 94.2307C354.21 71.3707 338.72 58.1807 311.88 58.1807H271V165.561H283.27V131.661H311.8C314.25 131.661 316.71 131.501 319.01 131.351L341.25 165.561H341.29ZM283.29 119.851V70.0007H311.82C331.3 70.0007 342.34 78.2907 342.34 94.5507C342.34 111.271 331.34 119.861 311.82 119.861L283.29 119.851ZM451.4 138.411L463.4 165.561H476.74L428.74 58.1807H416L367.83 165.561H380.83L392.83 138.411H451.4ZM446.19 126.601H398L422 72.1407L446.24 126.601H446.19ZM526.11 128.741L566.91 58.1807H554.35L519.99 114.181L485.17 58.1807H472.44L514.01 129.181V165.541H526.13V128.741H526.11Z\" fill=\"var(--jp-ui-font-color0)\"/>\n",
       "        <path d=\"M82.35 104.44C84.0187 97.8827 87.8248 92.0678 93.1671 87.9146C98.5094 83.7614 105.083 81.5067 111.85 81.5067C118.617 81.5067 125.191 83.7614 130.533 87.9146C135.875 92.0678 139.681 97.8827 141.35 104.44H163.75C164.476 101.562 165.622 98.8057 167.15 96.2605L127.45 56.5605C121.071 60.3522 113.526 61.6823 106.235 60.3005C98.9443 58.9187 92.4094 54.9203 87.8602 49.0574C83.3109 43.1946 81.0609 35.8714 81.5332 28.4656C82.0056 21.0599 85.1679 14.0819 90.4252 8.8446C95.6824 3.60726 102.672 0.471508 110.08 0.0272655C117.487 -0.416977 124.802 1.86091 130.647 6.4324C136.493 11.0039 140.467 17.5539 141.821 24.8501C143.175 32.1463 141.816 39.6859 138 46.0505L177.69 85.7505C182.31 82.9877 187.58 81.4995 192.962 81.4375C198.345 81.3755 203.648 82.742 208.33 85.3976C213.012 88.0532 216.907 91.9029 219.616 96.5544C222.326 101.206 223.753 106.492 223.753 111.875C223.753 117.258 222.326 122.545 219.616 127.197C216.907 131.848 213.012 135.698 208.33 138.353C203.648 141.009 198.345 142.375 192.962 142.313C187.58 142.251 182.31 140.763 177.69 138L138 177.7C141.808 184.071 143.155 191.614 141.79 198.91C140.424 206.205 136.44 212.75 130.585 217.313C124.731 221.875 117.412 224.141 110.004 223.683C102.596 223.226 95.6103 220.077 90.3621 214.828C85.1139 209.58 81.9647 202.595 81.5072 195.187C81.0497 187.779 83.3154 180.459 87.878 174.605C92.4405 168.751 98.9853 164.766 106.281 163.401C113.576 162.035 121.119 163.383 127.49 167.19L167.19 127.49C165.664 124.941 164.518 122.182 163.79 119.3H141.39C139.721 125.858 135.915 131.673 130.573 135.826C125.231 139.98 118.657 142.234 111.89 142.234C105.123 142.234 98.5494 139.98 93.2071 135.826C87.8648 131.673 84.0587 125.858 82.39 119.3H60C58.1878 126.495 53.8086 132.78 47.6863 136.971C41.5641 141.163 34.1211 142.972 26.7579 142.059C19.3947 141.146 12.6191 137.574 7.70605 132.014C2.79302 126.454 0.0813599 119.29 0.0813599 111.87C0.0813599 104.451 2.79302 97.2871 7.70605 91.7272C12.6191 86.1673 19.3947 82.5947 26.7579 81.6817C34.1211 80.7686 41.5641 82.5781 47.6863 86.7696C53.8086 90.9611 58.1878 97.2456 60 104.44H82.35ZM100.86 204.32C103.407 206.868 106.759 208.453 110.345 208.806C113.93 209.159 117.527 208.258 120.522 206.256C123.517 204.254 125.725 201.276 126.771 197.828C127.816 194.38 127.633 190.677 126.253 187.349C124.874 184.021 122.383 181.274 119.205 179.577C116.027 177.88 112.359 177.337 108.826 178.042C105.293 178.746 102.113 180.654 99.8291 183.44C97.5451 186.226 96.2979 189.718 96.3 193.32C96.2985 195.364 96.7006 197.388 97.4831 199.275C98.2656 201.163 99.4132 202.877 100.86 204.32ZM204.32 122.88C206.868 120.333 208.453 116.981 208.806 113.396C209.159 109.811 208.258 106.214 206.256 103.219C204.254 100.223 201.275 98.0151 197.827 96.97C194.38 95.9249 190.676 96.1077 187.348 97.4873C184.02 98.8669 181.274 101.358 179.577 104.536C177.879 107.714 177.337 111.382 178.041 114.915C178.746 118.448 180.653 121.627 183.439 123.911C186.226 126.195 189.717 127.443 193.32 127.44C195.364 127.443 197.388 127.042 199.275 126.259C201.163 125.476 202.878 124.328 204.32 122.88ZM122.88 19.4205C120.333 16.8729 116.981 15.2876 113.395 14.9347C109.81 14.5817 106.213 15.483 103.218 17.4849C100.223 19.4868 98.0146 22.4654 96.9696 25.9131C95.9245 29.3608 96.1073 33.0642 97.4869 36.3922C98.8665 39.7202 101.358 42.4668 104.535 44.1639C107.713 45.861 111.381 46.4036 114.914 45.6992C118.447 44.9949 121.627 43.0871 123.911 40.301C126.195 37.515 127.442 34.0231 127.44 30.4205C127.44 28.3772 127.038 26.3539 126.255 24.4664C125.473 22.5788 124.326 20.8642 122.88 19.4205ZM19.42 100.86C16.8725 103.408 15.2872 106.76 14.9342 110.345C14.5813 113.93 15.4826 117.527 17.4844 120.522C19.4863 123.518 22.4649 125.726 25.9127 126.771C29.3604 127.816 33.0638 127.633 36.3918 126.254C39.7198 124.874 42.4664 122.383 44.1635 119.205C45.8606 116.027 46.4032 112.359 45.6988 108.826C44.9944 105.293 43.0866 102.114 40.3006 99.8296C37.5145 97.5455 34.0227 96.2983 30.42 96.3005C26.2938 96.3018 22.337 97.9421 19.42 100.86ZM100.86 100.86C98.3125 103.408 96.7272 106.76 96.3742 110.345C96.0213 113.93 96.9226 117.527 98.9244 120.522C100.926 123.518 103.905 125.726 107.353 126.771C110.8 127.816 114.504 127.633 117.832 126.254C121.16 124.874 123.906 122.383 125.604 119.205C127.301 116.027 127.843 112.359 127.139 108.826C126.434 105.293 124.527 102.114 121.741 99.8296C118.955 97.5455 115.463 96.2983 111.86 96.3005C109.817 96.299 107.793 96.701 105.905 97.4835C104.018 98.2661 102.303 99.4136 100.86 100.86Z\" fill=\"#00AEEF\"/>\n",
       "    </g>\n",
       "    <defs>\n",
       "        <clipPath id=\"clip0_4338_178347\">\n",
       "            <rect width=\"566.93\" height=\"223.75\" fill=\"white\"/>\n",
       "        </clipPath>\n",
       "    </defs>\n",
       "  </svg>\n",
       "</div>\n",
       "\n",
       "        <table class=\"jp-RenderedHTMLCommon\" style=\"border-collapse: collapse;color: var(--jp-ui-font-color1);font-size: var(--jp-ui-font-size1);\">\n",
       "    <tr>\n",
       "        <td style=\"text-align: left\"><b>Python version:</b></td>\n",
       "        <td style=\"text-align: left\"><b>3.10.8</b></td>\n",
       "    </tr>\n",
       "    <tr>\n",
       "        <td style=\"text-align: left\"><b>Ray version:</b></td>\n",
       "        <td style=\"text-align: left\"><b>3.0.0.dev0</b></td>\n",
       "    </tr>\n",
       "    <tr>\n",
       "    <td style=\"text-align: left\"><b>Dashboard:</b></td>\n",
       "    <td style=\"text-align: left\"><b><a href=\"http://session-hvq6cjxyd917stdzvn4cs58auc.i.anyscaleuserdata.com\" target=\"_blank\">http://session-hvq6cjxyd917stdzvn4cs58auc.i.anyscaleuserdata.com</a></b></td>\n",
       "</tr>\n",
       "\n",
       "</table>\n",
       "\n",
       "    </div>\n",
       "</div>\n"
      ],
      "text/plain": [
       "RayContext(dashboard_url='session-hvq6cjxyd917stdzvn4cs58auc.i.anyscaleuserdata.com', python_version='3.10.8', ray_version='3.0.0.dev0', ray_commit='883049d823fee5da883af2cd10756413d5b47407', protocol_version=None)"
      ]
     },
     "execution_count": 3,
     "metadata": {},
     "output_type": "execute_result"
    }
   ],
   "source": [
    "import ray\n",
    "\n",
    "# Credentials\n",
    "ray.init(runtime_env={\n",
    "    \"env_vars\": {\n",
    "        \"OPENAI_API_BASE\": os.environ[\"OPENAI_API_BASE\"],\n",
    "        \"OPENAI_API_KEY\": os.environ[\"OPENAI_API_KEY\"], \n",
    "        \"ANYSCALE_API_BASE\": os.environ[\"ANYSCALE_API_BASE\"],\n",
    "        \"ANYSCALE_API_KEY\": os.environ[\"ANYSCALE_API_KEY\"],\n",
    "        \"DB_CONNECTION_STRING\": os.environ[\"DB_CONNECTION_STRING\"],\n",
    "    },\n",
    "})"
   ]
  },
  {
   "cell_type": "code",
   "execution_count": 15,
   "id": "ab654d85-882a-40bd-bd8e-3c94758cbee9",
   "metadata": {
    "tags": []
   },
   "outputs": [],
   "source": [
    "import nest_asyncio\n",
    "\n",
    "nest_asyncio.apply()"
   ]
  },
  {
   "cell_type": "markdown",
   "id": "7e9d2bfa-b98f-4d84-84a1-91a6494ad816",
   "metadata": {},
   "source": [
    "## Strategy 1: Search for optimal configuration for standard components"
   ]
  },
  {
   "cell_type": "markdown",
   "id": "41320856-89be-44af-a01d-5307fdd1e92d",
   "metadata": {
    "tags": []
   },
   "source": [
    "With our evaluator set, we're ready to start experimenting with the various components in our LLM application. While we could perform this as a large [tuning experiment](https://docs.ray.io/en/latest/tune/index.html), where we can search across promising combintion of values/decisions, we're going to evaluation one decision at a time and fix the best value for the next experiment.\n",
    "\n",
    "**Note**: this approach is slightly biased because many of our decisions are not indepedent (ex. `chunk_size` and `num_chunks` should ideally be evaluated across many combinations of values).\n",
    "\n",
    "<span style=\"background: yellow; color: red; font-size: 1rem;\"><b>DIAGRAM:</b></span> Illustrate all the components that we'll be tuning."
   ]
  },
  {
   "cell_type": "markdown",
   "id": "4dbf5817-7a8c-4f64-b9c8-e84fe8e5c190",
   "metadata": {},
   "source": [
    "#### Utilities"
   ]
  },
  {
   "cell_type": "markdown",
   "id": "23c6e46e-788c-434e-9ffb-2937534932e4",
   "metadata": {
    "tags": []
   },
   "source": [
    "Before we get started with our experiments, we're going to define some utility functions that we'll use to easily generate and evaluate responses using the different experiment configurations. We'll also define some functions to help determine our response quality score, retrieval recall score, etc.\n",
    "\n",
    "<span style=\"background: yellow; color: red; font-size: 1rem;\"><b>DIAGRAM:</b></span> Represent the main experiment function doing the `generate` and `evaluate` responses."
   ]
  },
  {
   "cell_type": "markdown",
   "id": "8b1dd335-bf5b-4456-bd5a-060bdd5d30ea",
   "metadata": {},
   "source": [
    "We'll set where our labeled data and reference reports are located. We'll be using the former to generate responses and the latter dataset to evaluate those responses."
   ]
  },
  {
   "cell_type": "code",
   "execution_count": 4,
   "id": "3b464eac-e2a9-4d08-ae48-5814c59484b4",
   "metadata": {
    "tags": []
   },
   "outputs": [],
   "source": [
    "import os\n",
    "from pathlib import Path\n",
    "\n",
    "# Paths\n",
    "ROOT_DIR = Path(os.getcwd()).parent\n",
    "EXPERIMENTS_DIR = Path(ROOT_DIR, \"experiments\")\n",
    "\n",
    "EFS_DIR = Path(\"/efs/shared_storage/simon\")\n",
    "DOCS_PATH = Path(EFS_DIR, \"docs.ray.io/en/master/\")"
   ]
  },
  {
   "cell_type": "code",
   "execution_count": 5,
   "id": "7e982bd1-4810-4b06-b872-ba2a0c50be25",
   "metadata": {
    "tags": []
   },
   "outputs": [],
   "source": [
    "import subprocess\n",
    "from data import build_index\n",
    "\n",
    "def execute_bash(command):\n",
    "    results = subprocess.run(command, shell=True, stdout=subprocess.PIPE, stderr=subprocess.PIPE, text=True)\n",
    "    return results\n",
    "\n",
    "def build_or_load_index(docs_path, embedding_model_name, chunk_size, chunk_overlap):\n",
    "    # Drop current Vector DB and prepare for new one\n",
    "    execute_bash(f'psql \"{os.environ[\"DB_CONNECTION_STRING\"]}\" -c \"DROP TABLE data_document;\"')\n",
    "    #execute_bash(f'sudo -u postgres psql -f ../migrations/vector-{EMBEDDING_DIMENSIONS[embedding_model_name]}.sql')\n",
    "    SQL_DUMP_FP = Path(EFS_DIR, \"sql_dumps\", f\"{embedding_model_name.split('/')[-1]}_{chunk_size}_{chunk_overlap}.sql\")\n",
    "    \n",
    "    # Vector DB\n",
    "    if SQL_DUMP_FP.exists():  # Load from SQL dump\n",
    "        print('Loading from SQL dump')\n",
    "        execute_bash(f'psql \"{os.environ[\"DB_CONNECTION_STRING\"]}\" -f {SQL_DUMP_FP}')\n",
    "    else:  \n",
    "        print('Creating new index')\n",
    "        build_index(docs_path, embedding_model_name, chunk_size, chunk_overlap)\n",
    "        \n",
    "        print('Saving to SQL dump')\n",
    "        execute_bash(f\"sudo -u postgres pg_dump -c > {SQL_DUMP_FP}\")"
   ]
  },
  {
   "cell_type": "code",
   "execution_count": 6,
   "id": "f328c952-fc4c-48dc-b877-51e013757045",
   "metadata": {
    "tags": []
   },
   "outputs": [],
   "source": [
    "import json \n",
    "\n",
    "from utils import get_retriever, get_query_engine\n",
    "from eval import evaluate_retrieval, evaluate_e2e, get_hit_rate, get_mean_score\n",
    "from pprint import pprint\n",
    "\n",
    "DEFAULT_EXP_CONFIG = {\n",
    "    'embedding_model_name': \"thenlper/gte-base\",\n",
    "    'chunk_size': 1024,\n",
    "    'chunk_overlap': 50,\n",
    "    'similarity_top_k': 5,\n",
    "    'llm_model_name': 'gpt-3.5-turbo',\n",
    "    'temperature': 0.1,\n",
    "}\n",
    "\n",
    "def run_retrieval_exp(\n",
    "    docs_path,\n",
    "    exp_config={},\n",
    "    verbose=False,\n",
    "):\n",
    "    run_exp_config = DEFAULT_EXP_CONFIG.copy()\n",
    "    run_exp_config.update(exp_config)\n",
    "    if verbose:\n",
    "        pprint(run_exp_config)\n",
    "    \n",
    "    build_or_load_index( \n",
    "        docs_path=docs_path,\n",
    "        embedding_model_name=run_exp_config['embedding_model_name'],\n",
    "        chunk_size=run_exp_config['chunk_size'],\n",
    "        chunk_overlap=run_exp_config['chunk_overlap'],\n",
    "    )\n",
    "    retriever = get_retriever(\n",
    "        similarity_top_k=run_exp_config['similarity_top_k'],\n",
    "        embedding_model_name=run_exp_config['embedding_model_name'],\n",
    "    )\n",
    "    \n",
    "    golden_dataset_path = Path(\"../datasets/eval-dataset-v1.jsonl\")\n",
    "    with open(golden_dataset_path, \"r\") as f:\n",
    "        golden_dataset = [json.loads(item) for item in list(f)]\n",
    "\n",
    "    queries = [item['question'] for item in golden_dataset]\n",
    "    golden_sources = [item['source'] for item in golden_dataset]\n",
    "    \n",
    "    results = evaluate_retrieval(retriever, queries, golden_sources)\n",
    "    return results\n",
    "\n",
    "def run_e2e_exp(\n",
    "    docs_path,\n",
    "    exp_config={},\n",
    "    verbose=False, \n",
    "):\n",
    "    run_exp_config = DEFAULT_EXP_CONFIG.copy()\n",
    "    run_exp_config.update(exp_config)\n",
    "    if verbose:\n",
    "        pprint(run_exp_config)\n",
    "\n",
    "    build_or_load_index( \n",
    "        docs_path=docs_path,\n",
    "        embedding_model_name=run_exp_config['embedding_model_name'],\n",
    "        chunk_size=run_exp_config['chunk_size'],\n",
    "        chunk_overlap=run_exp_config['chunk_overlap'],\n",
    "    )\n",
    "    \n",
    "    query_engine = get_query_engine(\n",
    "        similarity_top_k=run_exp_config['similarity_top_k'],\n",
    "        embedding_model_name=run_exp_config['embedding_model_name'],\n",
    "        llm_model_name=run_exp_config['llm_model_name'],\n",
    "        temperature=run_exp_config['temperature'],\n",
    "    )\n",
    "    \n",
    "    with open(\"golden-responses.json\", \"r\") as file:\n",
    "        golden_dataset = json.load(file)\n",
    "    \n",
    "    queries = [item['question'] for item in golden_dataset]\n",
    "    golden_response = [item['response'] for item in golden_dataset]\n",
    "    golden_sources = [item['source'] for item in golden_dataset]\n",
    "\n",
    "    results = evaluate_e2e(query_engine, queries, golden_response, verbose=True)\n",
    "    return results"
   ]
  },
  {
   "cell_type": "markdown",
   "id": "e5404225-a7bb-4a84-955e-b428212d7698",
   "metadata": {
    "tags": []
   },
   "source": [
    "### Chunk Size "
   ]
  },
  {
   "cell_type": "markdown",
   "id": "a80598a9-aec1-422e-bfa6-db85a6a29dca",
   "metadata": {},
   "source": [
    "Next, we'll access various chunk sizes. Smaller chunks (but not too small!) are able to encapsulate atomic concepts which yields more precise retrieval. While larger chunks may be more noisy. Popular strategies include using small chunks but retrieving a bit of the [surrounding chunks](https://gpt-index.readthedocs.io/en/latest/end_to_end_tutorials/dev_practices/production_rag.html#decoupling-chunks-used-for-retrieval-vs-chunks-used-for-synthesis) around it (since it may have relevnat info) or store [mulitple embeddings](https://python.langchain.com/docs/modules/data_connection/retrievers/multi_vector) per document (ex. summary embedding per document). \n",
    "\n",
    "<span style=\"background: yellow; color: red; font-size: 1rem;\"><b>DIAGRAM:</b></span> illustrate small vs large and popular strategies."
   ]
  },
  {
   "cell_type": "code",
   "execution_count": null,
   "id": "3422311c-30c4-4431-9dd4-d31faa70a964",
   "metadata": {
    "tags": []
   },
   "outputs": [],
   "source": [
    "CHUNK_SIZES = [\n",
    "    256,\n",
    "    512, \n",
    "    1024,\n",
    "]"
   ]
  },
  {
   "cell_type": "code",
   "execution_count": 38,
   "id": "12e78197-e32c-4c11-947a-97d5f3522d3b",
   "metadata": {
    "tags": []
   },
   "outputs": [
    {
     "name": "stdout",
     "output_type": "stream",
     "text": [
      "Running chunk size experiment:  256\n",
      "Loading from SQL dump\n",
      "LLM is explicitly disabled. Using MockLLM.\n"
     ]
    },
    {
     "name": "stderr",
     "output_type": "stream",
     "text": [
      "100%|██████████| 177/177 [00:23<00:00,  7.66it/s]\n"
     ]
    },
    {
     "name": "stdout",
     "output_type": "stream",
     "text": [
      "Retrieval hit rate:  0.384180790960452\n",
      "Loading from SQL dump\n",
      "Running inference\n"
     ]
    },
    {
     "name": "stderr",
     "output_type": "stream",
     "text": [
      "100%|██████████| 10/10 [00:36<00:00,  3.69s/it]\n"
     ]
    },
    {
     "name": "stdout",
     "output_type": "stream",
     "text": [
      "Running eval\n"
     ]
    },
    {
     "name": "stderr",
     "output_type": "stream",
     "text": [
      "100%|██████████| 10/10 [00:59<00:00,  5.95s/it]\n"
     ]
    },
    {
     "name": "stdout",
     "output_type": "stream",
     "text": [
      "End to end mean score:  4.25\n",
      "Running chunk size experiment:  512\n",
      "Loading from SQL dump\n",
      "LLM is explicitly disabled. Using MockLLM.\n"
     ]
    },
    {
     "name": "stderr",
     "output_type": "stream",
     "text": [
      "100%|██████████| 177/177 [00:10<00:00, 16.54it/s]\n"
     ]
    },
    {
     "name": "stdout",
     "output_type": "stream",
     "text": [
      "Retrieval hit rate:  0.4745762711864407\n",
      "Loading from SQL dump\n",
      "Running inference\n"
     ]
    },
    {
     "name": "stderr",
     "output_type": "stream",
     "text": [
      "100%|██████████| 10/10 [00:34<00:00,  3.48s/it]\n"
     ]
    },
    {
     "name": "stdout",
     "output_type": "stream",
     "text": [
      "Running eval\n"
     ]
    },
    {
     "name": "stderr",
     "output_type": "stream",
     "text": [
      "100%|██████████| 10/10 [00:50<00:00,  5.08s/it]\n"
     ]
    },
    {
     "name": "stdout",
     "output_type": "stream",
     "text": [
      "End to end mean score:  4.3\n",
      "Running chunk size experiment:  1024\n",
      "Loading from SQL dump\n",
      "LLM is explicitly disabled. Using MockLLM.\n"
     ]
    },
    {
     "name": "stderr",
     "output_type": "stream",
     "text": [
      "100%|██████████| 177/177 [00:08<00:00, 21.78it/s]\n"
     ]
    },
    {
     "name": "stdout",
     "output_type": "stream",
     "text": [
      "Retrieval hit rate:  0.519774011299435\n",
      "Loading from SQL dump\n",
      "Running inference\n"
     ]
    },
    {
     "name": "stderr",
     "output_type": "stream",
     "text": [
      "100%|██████████| 10/10 [00:34<00:00,  3.45s/it]\n"
     ]
    },
    {
     "name": "stdout",
     "output_type": "stream",
     "text": [
      "Running eval\n"
     ]
    },
    {
     "name": "stderr",
     "output_type": "stream",
     "text": [
      "100%|██████████| 10/10 [00:58<00:00,  5.86s/it]"
     ]
    },
    {
     "name": "stdout",
     "output_type": "stream",
     "text": [
      "End to end mean score:  4.2\n"
     ]
    },
    {
     "name": "stderr",
     "output_type": "stream",
     "text": [
      "\n"
     ]
    }
   ],
   "source": [
    "for chunk_size in CHUNK_SIZES:\n",
    "    print('Running chunk size experiment: ', chunk_size)\n",
    "    retrieval_results = run_retrieval_exp(DOCS_PATH, {'chunk_size': chunk_size})\n",
    "    hit_rate = get_hit_rate(retrieval_results)\n",
    "    print('Retrieval hit rate: ', hit_rate)\n",
    "    \n",
    "    e2e_results = run_e2e_exp(DOCS_PATH, {'chunk_size': chunk_size})\n",
    "    mean_score = get_mean_score(e2e_results)\n",
    "    print('End to end mean score: ', mean_score)"
   ]
  },
  {
   "cell_type": "markdown",
   "id": "04d6a63e-c589-405a-aa24-c8a7540f7cac",
   "metadata": {},
   "source": [
    "Seem that a larger chunk size improves retrieval, but the end-to-end generation performance plateaus at 512 (too much context might be too noisy)."
   ]
  },
  {
   "cell_type": "markdown",
   "id": "c7220b93-370b-4389-a815-737555025923",
   "metadata": {
    "tags": []
   },
   "source": [
    "**Note**: If we were to use larger chunk sizes, keep in mind that [most](https://huggingface.co/spaces/mteb/leaderboard) open source embedding models have a maximum sequence length of 512 sub-word tokens. This means that if our chunk contains more than 512 sub-word tokens, the embedding wouldn't account for it anyway (unless we finetune our embedding model to have longer sequence lengths)."
   ]
  },
  {
   "cell_type": "markdown",
   "id": "22dbac8d-6457-4f6b-963a-265b40200055",
   "metadata": {},
   "source": [
    "### Top K"
   ]
  },
  {
   "cell_type": "markdown",
   "id": "f56bd100-b447-4611-9b29-7d8e18bcec60",
   "metadata": {},
   "source": [
    "**Note**: Keep in mind that the `chunk_size` you chose multiplied by the `top_k` below fits inside the LLM's context length. We're experimenting with the chunk size and number of chunks as if they were indepdent variables but they area heavily related. Especially since all of our LLMs have a finite maximum context length. So ideally, we would tune for a combination of `chunk_size` * `top_k`."
   ]
  },
  {
   "cell_type": "code",
   "execution_count": 39,
   "id": "bcf3e18d-5325-4b2a-bcc7-f06c04536959",
   "metadata": {
    "tags": []
   },
   "outputs": [],
   "source": [
    "TOP_K = [1, 3, 5, 7]"
   ]
  },
  {
   "cell_type": "code",
   "execution_count": 40,
   "id": "3024e655-915a-49da-9b4c-258386fe37e3",
   "metadata": {
    "tags": []
   },
   "outputs": [
    {
     "name": "stdout",
     "output_type": "stream",
     "text": [
      "Running top k experiment:  1\n",
      "Loading from SQL dump\n",
      "LLM is explicitly disabled. Using MockLLM.\n"
     ]
    },
    {
     "name": "stderr",
     "output_type": "stream",
     "text": [
      "100%|██████████| 177/177 [00:08<00:00, 21.98it/s]\n"
     ]
    },
    {
     "name": "stdout",
     "output_type": "stream",
     "text": [
      "Retrieval hit rate:  0.1694915254237288\n",
      "Loading from SQL dump\n",
      "Running inference\n"
     ]
    },
    {
     "name": "stderr",
     "output_type": "stream",
     "text": [
      "100%|██████████| 10/10 [00:30<00:00,  3.06s/it]\n"
     ]
    },
    {
     "name": "stdout",
     "output_type": "stream",
     "text": [
      "Running eval\n"
     ]
    },
    {
     "name": "stderr",
     "output_type": "stream",
     "text": [
      "100%|██████████| 10/10 [00:59<00:00,  5.96s/it]\n"
     ]
    },
    {
     "name": "stdout",
     "output_type": "stream",
     "text": [
      "End to end mean score:  3.9\n",
      "Running top k experiment:  3\n",
      "Loading from SQL dump\n",
      "LLM is explicitly disabled. Using MockLLM.\n"
     ]
    },
    {
     "name": "stderr",
     "output_type": "stream",
     "text": [
      "100%|██████████| 177/177 [00:08<00:00, 21.29it/s]\n"
     ]
    },
    {
     "name": "stdout",
     "output_type": "stream",
     "text": [
      "Retrieval hit rate:  0.3615819209039548\n",
      "Loading from SQL dump\n",
      "Running inference\n"
     ]
    },
    {
     "name": "stderr",
     "output_type": "stream",
     "text": [
      "100%|██████████| 10/10 [00:31<00:00,  3.20s/it]\n"
     ]
    },
    {
     "name": "stdout",
     "output_type": "stream",
     "text": [
      "Running eval\n"
     ]
    },
    {
     "name": "stderr",
     "output_type": "stream",
     "text": [
      "100%|██████████| 10/10 [00:52<00:00,  5.22s/it]\n"
     ]
    },
    {
     "name": "stdout",
     "output_type": "stream",
     "text": [
      "End to end mean score:  4.0\n",
      "Running top k experiment:  5\n",
      "Loading from SQL dump\n",
      "LLM is explicitly disabled. Using MockLLM.\n"
     ]
    },
    {
     "name": "stderr",
     "output_type": "stream",
     "text": [
      "100%|██████████| 177/177 [00:08<00:00, 21.29it/s]\n"
     ]
    },
    {
     "name": "stdout",
     "output_type": "stream",
     "text": [
      "Retrieval hit rate:  0.519774011299435\n",
      "Loading from SQL dump\n",
      "Running inference\n"
     ]
    },
    {
     "name": "stderr",
     "output_type": "stream",
     "text": [
      "100%|██████████| 10/10 [00:35<00:00,  3.58s/it]\n"
     ]
    },
    {
     "name": "stdout",
     "output_type": "stream",
     "text": [
      "Running eval\n"
     ]
    },
    {
     "name": "stderr",
     "output_type": "stream",
     "text": [
      "100%|██████████| 10/10 [00:49<00:00,  4.93s/it]\n"
     ]
    },
    {
     "name": "stdout",
     "output_type": "stream",
     "text": [
      "End to end mean score:  4.3\n",
      "Running top k experiment:  7\n",
      "Loading from SQL dump\n",
      "LLM is explicitly disabled. Using MockLLM.\n"
     ]
    },
    {
     "name": "stderr",
     "output_type": "stream",
     "text": [
      "100%|██████████| 177/177 [00:08<00:00, 20.80it/s]\n"
     ]
    },
    {
     "name": "stdout",
     "output_type": "stream",
     "text": [
      "Retrieval hit rate:  0.615819209039548\n",
      "Loading from SQL dump\n",
      "Running inference\n"
     ]
    },
    {
     "name": "stderr",
     "output_type": "stream",
     "text": [
      "100%|██████████| 10/10 [00:53<00:00,  5.32s/it]\n"
     ]
    },
    {
     "name": "stdout",
     "output_type": "stream",
     "text": [
      "Running eval\n"
     ]
    },
    {
     "name": "stderr",
     "output_type": "stream",
     "text": [
      "100%|██████████| 10/10 [00:53<00:00,  5.36s/it]"
     ]
    },
    {
     "name": "stdout",
     "output_type": "stream",
     "text": [
      "End to end mean score:  4.4\n"
     ]
    },
    {
     "name": "stderr",
     "output_type": "stream",
     "text": [
      "\n"
     ]
    }
   ],
   "source": [
    "for top_k in TOP_K:\n",
    "    print('Running top k experiment: ', top_k)\n",
    "    retrieval_results = run_retrieval_exp(DOCS_PATH, {'similarity_top_k': top_k})\n",
    "    hit_rate = get_hit_rate(retrieval_results)\n",
    "    print('Retrieval hit rate: ', hit_rate)\n",
    "    \n",
    "    e2e_results = run_e2e_exp(DOCS_PATH, {'similarity_top_k': top_k})\n",
    "    mean_score = get_mean_score(e2e_results)\n",
    "    print('End to end mean score: ', mean_score)"
   ]
  },
  {
   "cell_type": "markdown",
   "id": "25a77aa8-4f2c-4820-bc83-542a74537811",
   "metadata": {},
   "source": [
    "Increasing our number of chunks improves our retrieval and quality scores. But it also seems that the benefit of increasing the number of chunks is starting to taper off."
   ]
  },
  {
   "cell_type": "markdown",
   "id": "70cec2cf-93f3-4749-bae1-000e498ebdba",
   "metadata": {},
   "source": [
    "### Embedding Model"
   ]
  },
  {
   "cell_type": "markdown",
   "id": "365e9ed1-7056-497c-b392-66a02ec59a8d",
   "metadata": {
    "tags": []
   },
   "source": [
    "So far, we've used [`thenlper/gte-base`](https://huggingface.co/thenlper/gte-base) as our embedding model because it's a relatively small (0.22 GB) and performant option. But now, let's explore other popular options such the current leader on the [MTEB leaderboard](https://huggingface.co/spaces/mteb/leaderboard), [`BAAI/bge-large-en`](https://huggingface.co/BAAI/bge-large-en) (1.34 GB), and OpenAI's [`text-embedding-ada-002`](https://openai.com/blog/new-and-improved-embedding-model)."
   ]
  },
  {
   "cell_type": "code",
   "execution_count": 23,
   "id": "7e0333d5-2515-43df-bde7-02a5300b4b38",
   "metadata": {
    "tags": []
   },
   "outputs": [],
   "source": [
    "EMBED_MODELS = [\n",
    "    \"thenlper/gte-base\", \n",
    "    \"BAAI/bge-large-en\", \n",
    "    \"text-embedding-ada-002\"\n",
    "]"
   ]
  },
  {
   "cell_type": "code",
   "execution_count": 24,
   "id": "61ee9b15-0eab-4638-af68-cf5b5a53363c",
   "metadata": {
    "tags": []
   },
   "outputs": [
    {
     "name": "stdout",
     "output_type": "stream",
     "text": [
      "Running embedding model experiment:  thenlper/gte-base\n",
      "Loading from SQL dump\n",
      "LLM is explicitly disabled. Using MockLLM.\n"
     ]
    },
    {
     "name": "stderr",
     "output_type": "stream",
     "text": [
      "100%|██████████| 177/177 [00:08<00:00, 21.09it/s]\n"
     ]
    },
    {
     "name": "stdout",
     "output_type": "stream",
     "text": [
      "Retrieval hit rate:  0.519774011299435\n",
      "Loading from SQL dump\n",
      "Running inference\n"
     ]
    },
    {
     "name": "stderr",
     "output_type": "stream",
     "text": [
      "100%|██████████| 10/10 [00:42<00:00,  4.27s/it]\n"
     ]
    },
    {
     "name": "stdout",
     "output_type": "stream",
     "text": [
      "Running eval\n"
     ]
    },
    {
     "name": "stderr",
     "output_type": "stream",
     "text": [
      "100%|██████████| 10/10 [01:01<00:00,  6.16s/it]\n"
     ]
    },
    {
     "name": "stdout",
     "output_type": "stream",
     "text": [
      "End to end mean score:  4.25\n",
      "Running embedding model experiment:  BAAI/bge-large-en\n",
      "Loading from SQL dump\n",
      "LLM is explicitly disabled. Using MockLLM.\n"
     ]
    },
    {
     "name": "stderr",
     "output_type": "stream",
     "text": [
      "100%|██████████| 177/177 [00:11<00:00, 15.98it/s]\n"
     ]
    },
    {
     "name": "stdout",
     "output_type": "stream",
     "text": [
      "Retrieval hit rate:  0.22033898305084745\n",
      "Loading from SQL dump\n",
      "Running inference\n"
     ]
    },
    {
     "name": "stderr",
     "output_type": "stream",
     "text": [
      " 10%|█         | 1/10 [00:05<00:50,  5.59s/it]"
     ]
    },
    {
     "name": "stdout",
     "output_type": "stream",
     "text": [
      "\u001b[2m\u001b[1m\u001b[36m(autoscaler +16m9s)\u001b[0m [autoscaler] Downscaling node i-0c0d2d21fc3d066bf due to node idle termination.\n",
      "\u001b[2m\u001b[1m\u001b[36m(autoscaler +16m10s)\u001b[0m [autoscaler] Cluster resized to {16 CPU, 1 GPU}.\n"
     ]
    },
    {
     "name": "stderr",
     "output_type": "stream",
     "text": [
      "100%|██████████| 10/10 [00:40<00:00,  4.03s/it]\n"
     ]
    },
    {
     "name": "stdout",
     "output_type": "stream",
     "text": [
      "Running eval\n"
     ]
    },
    {
     "name": "stderr",
     "output_type": "stream",
     "text": [
      "100%|██████████| 10/10 [01:01<00:00,  6.17s/it]\n"
     ]
    },
    {
     "name": "stdout",
     "output_type": "stream",
     "text": [
      "End to end mean score:  4.15\n",
      "Running embedding model experiment:  text-embedding-ada-002\n",
      "Loading from SQL dump\n",
      "LLM is explicitly disabled. Using MockLLM.\n"
     ]
    },
    {
     "name": "stderr",
     "output_type": "stream",
     "text": [
      "100%|██████████| 177/177 [00:48<00:00,  3.69it/s]\n"
     ]
    },
    {
     "name": "stdout",
     "output_type": "stream",
     "text": [
      "Retrieval hit rate:  0.384180790960452\n",
      "Loading from SQL dump\n",
      "Running inference\n"
     ]
    },
    {
     "name": "stderr",
     "output_type": "stream",
     "text": [
      "100%|██████████| 10/10 [00:48<00:00,  4.87s/it]\n"
     ]
    },
    {
     "name": "stdout",
     "output_type": "stream",
     "text": [
      "Running eval\n"
     ]
    },
    {
     "name": "stderr",
     "output_type": "stream",
     "text": [
      "100%|██████████| 10/10 [00:59<00:00,  5.96s/it]"
     ]
    },
    {
     "name": "stdout",
     "output_type": "stream",
     "text": [
      "End to end mean score:  3.85\n"
     ]
    },
    {
     "name": "stderr",
     "output_type": "stream",
     "text": [
      "\n"
     ]
    }
   ],
   "source": [
    "for embed_model in EMBED_MODELS:\n",
    "    print('Running embedding model experiment: ', embed_model)\n",
    "    retrieval_results = run_retrieval_exp(DOCS_PATH, {'embedding_model_name': embed_model})\n",
    "    hit_rate = get_hit_rate(retrieval_results)\n",
    "    print('Retrieval hit rate: ', hit_rate)\n",
    "    \n",
    "    e2e_results = run_e2e_exp(DOCS_PATH, {'embedding_model_name': embed_model})\n",
    "    mean_score = get_mean_score(e2e_results)\n",
    "    print('End to end mean score: ', mean_score)"
   ]
  },
  {
   "cell_type": "markdown",
   "id": "54eb2037-6d62-4f27-9c1c-8c3e1c3bcf08",
   "metadata": {},
   "source": [
    "This is an interesting outcome because the #1 (`BAAI/bge-large-en`) on the current leaderboard isn't necessarily the best for our specific task. Using the smaller `thenlper/gte-base` produced the best retrieval and quality scores in our experiments."
   ]
  },
  {
   "cell_type": "markdown",
   "id": "8b0af3af-23b7-4894-b583-f091d1c9dc4e",
   "metadata": {},
   "source": [
    "### LLMs"
   ]
  },
  {
   "cell_type": "markdown",
   "id": "961aa377-625c-445e-aed2-a7e8156b64cb",
   "metadata": {},
   "source": [
    "We're now going to use the best configurations from above to evaluate different choices for the main LLM.\n",
    "\n",
    "**Note**:\n",
    "- We've been using a specific LLM so far to decide on the configuration so that specific LLM's performance here will be a bit biased.\n",
    "- This list is not exhaustive and even for the LLMs we use, there are versions with longer context windows available."
   ]
  },
  {
   "cell_type": "code",
   "execution_count": 43,
   "id": "2f321c4a-2132-44a4-a293-eeaaa73fcdd6",
   "metadata": {
    "tags": []
   },
   "outputs": [],
   "source": [
    "LLMS = [\n",
    "    \"gpt-3.5-turbo\",\n",
    "    \"gpt-4\",\n",
    "    \"meta-llama/Llama-2-7b-chat-hf\", \n",
    "    \"meta-llama/Llama-2-13b-chat-hf\", \n",
    "    \"meta-llama/Llama-2-70b-chat-hf\"\n",
    "]"
   ]
  },
  {
   "cell_type": "code",
   "execution_count": 44,
   "id": "737fd4c5-c3f2-4fee-92ce-5aae4e7c0cc0",
   "metadata": {
    "tags": []
   },
   "outputs": [
    {
     "name": "stdout",
     "output_type": "stream",
     "text": [
      "Running LLM experiment:  gpt-3.5-turbo\n",
      "Loading from SQL dump\n",
      "LLM is explicitly disabled. Using MockLLM.\n"
     ]
    },
    {
     "name": "stderr",
     "output_type": "stream",
     "text": [
      "100%|██████████| 177/177 [00:08<00:00, 20.50it/s]\n"
     ]
    },
    {
     "name": "stdout",
     "output_type": "stream",
     "text": [
      "Retrieval hit rate:  0.519774011299435\n",
      "Loading from SQL dump\n",
      "Running inference\n"
     ]
    },
    {
     "name": "stderr",
     "output_type": "stream",
     "text": [
      "100%|██████████| 10/10 [00:38<00:00,  3.86s/it]\n"
     ]
    },
    {
     "name": "stdout",
     "output_type": "stream",
     "text": [
      "Running eval\n"
     ]
    },
    {
     "name": "stderr",
     "output_type": "stream",
     "text": [
      "100%|██████████| 10/10 [00:58<00:00,  5.85s/it]\n"
     ]
    },
    {
     "name": "stdout",
     "output_type": "stream",
     "text": [
      "End to end mean score:  4.25\n",
      "Running LLM experiment:  gpt-4\n",
      "Loading from SQL dump\n",
      "LLM is explicitly disabled. Using MockLLM.\n"
     ]
    },
    {
     "name": "stderr",
     "output_type": "stream",
     "text": [
      "100%|██████████| 177/177 [00:08<00:00, 21.20it/s]\n"
     ]
    },
    {
     "name": "stdout",
     "output_type": "stream",
     "text": [
      "Retrieval hit rate:  0.519774011299435\n",
      "Loading from SQL dump\n",
      "Running inference\n"
     ]
    },
    {
     "name": "stderr",
     "output_type": "stream",
     "text": [
      "100%|██████████| 10/10 [01:51<00:00, 11.17s/it]\n"
     ]
    },
    {
     "name": "stdout",
     "output_type": "stream",
     "text": [
      "Running eval\n"
     ]
    },
    {
     "name": "stderr",
     "output_type": "stream",
     "text": [
      "100%|██████████| 10/10 [00:59<00:00,  5.96s/it]\n"
     ]
    },
    {
     "name": "stdout",
     "output_type": "stream",
     "text": [
      "End to end mean score:  4.85\n",
      "Running LLM experiment:  meta-llama/Llama-2-7b-chat-hf\n",
      "Loading from SQL dump\n",
      "LLM is explicitly disabled. Using MockLLM.\n"
     ]
    },
    {
     "name": "stderr",
     "output_type": "stream",
     "text": [
      "100%|██████████| 177/177 [00:08<00:00, 21.14it/s]\n"
     ]
    },
    {
     "name": "stdout",
     "output_type": "stream",
     "text": [
      "Retrieval hit rate:  0.519774011299435\n",
      "Loading from SQL dump\n",
      "Running inference\n"
     ]
    },
    {
     "name": "stderr",
     "output_type": "stream",
     "text": [
      "100%|██████████| 10/10 [01:11<00:00,  7.13s/it]\n"
     ]
    },
    {
     "name": "stdout",
     "output_type": "stream",
     "text": [
      "End to end mean score:  3.65\n",
      "Running LLM experiment:  meta-llama/Llama-2-13b-chat-hf\n",
      "Loading from SQL dump\n",
      "LLM is explicitly disabled. Using MockLLM.\n"
     ]
    },
    {
     "name": "stderr",
     "output_type": "stream",
     "text": [
      "100%|██████████| 177/177 [00:08<00:00, 20.95it/s]\n"
     ]
    },
    {
     "name": "stdout",
     "output_type": "stream",
     "text": [
      "Retrieval hit rate:  0.519774011299435\n",
      "Loading from SQL dump\n",
      "Running inference\n"
     ]
    },
    {
     "name": "stderr",
     "output_type": "stream",
     "text": [
      "100%|██████████| 10/10 [00:59<00:00,  5.99s/it]\n"
     ]
    },
    {
     "name": "stdout",
     "output_type": "stream",
     "text": [
      "Running eval\n"
     ]
    },
    {
     "name": "stderr",
     "output_type": "stream",
     "text": [
      "100%|██████████| 10/10 [01:11<00:00,  7.17s/it]\n"
     ]
    },
    {
     "name": "stdout",
     "output_type": "stream",
     "text": [
      "End to end mean score:  3.9\n",
      "Running LLM experiment:  meta-llama/Llama-2-70b-chat-hf\n",
      "Loading from SQL dump\n",
      "LLM is explicitly disabled. Using MockLLM.\n"
     ]
    },
    {
     "name": "stderr",
     "output_type": "stream",
     "text": [
      "100%|██████████| 177/177 [00:08<00:00, 20.77it/s]\n"
     ]
    },
    {
     "name": "stdout",
     "output_type": "stream",
     "text": [
      "Retrieval hit rate:  0.519774011299435\n",
      "Loading from SQL dump\n",
      "Running inference\n"
     ]
    },
    {
     "name": "stderr",
     "output_type": "stream",
     "text": [
      "100%|██████████| 10/10 [01:33<00:00,  9.34s/it]\n"
     ]
    },
    {
     "name": "stdout",
     "output_type": "stream",
     "text": [
      "Running eval\n"
     ]
    },
    {
     "name": "stderr",
     "output_type": "stream",
     "text": [
      "100%|██████████| 10/10 [01:14<00:00,  7.41s/it]"
     ]
    },
    {
     "name": "stdout",
     "output_type": "stream",
     "text": [
      "End to end mean score:  4.4\n"
     ]
    },
    {
     "name": "stderr",
     "output_type": "stream",
     "text": [
      "\n"
     ]
    }
   ],
   "source": [
    "for llm in LLMS:\n",
    "    print('Running LLM experiment: ', llm)\n",
    "    retrieval_results = run_retrieval_exp(DOCS_PATH, {'llm_model_name': llm})\n",
    "    hit_rate = get_hit_rate(retrieval_results)\n",
    "    print('Retrieval hit rate: ', hit_rate)\n",
    "    \n",
    "    e2e_results = run_e2e_exp(DOCS_PATH, {'llm_model_name': llm})\n",
    "    mean_score = get_mean_score(e2e_results)\n",
    "    print('End to end mean score: ', mean_score)"
   ]
  },
  {
   "cell_type": "markdown",
   "id": "8a0b6b88-40c7-4886-ac17-bd8892ef1fcd",
   "metadata": {
    "tags": []
   },
   "source": [
    "We see that OpenAI models have the best performance, but `meta-llama/Llama-2-70b-chat-hf` is a strong contender with a score that surpasses `gpt-3.5-turbo`.  \n",
    "Note that since we are using `gpt-4` as the evaluator, there's some known bias where it prefers OpenAI family of models."
   ]
  },
  {
   "cell_type": "markdown",
   "id": "5b8cc765-d64a-470e-bc3d-03252041fc76",
   "metadata": {},
   "source": [
    "**Note**: Some of our LLMs have much larger context lengths, ex. `gpt-4` is 8192 and `gpt-3.5-turbo-16k` is 16384. We could increase the number of chunks that we use for these since we saw that increasing `top_k` continued to improve the retrieval and quality scores. However, we will keep this value fixed for now since the performance started to taper off anyway and so we can compare these performances under the exact same configurations."
   ]
  },
  {
   "cell_type": "markdown",
   "id": "af16dc39-cae6-4c35-9619-2e149436efe7",
   "metadata": {},
   "source": [
    "## Strategy 2: Use different data representation for retrieval vs. generation"
   ]
  },
  {
   "cell_type": "markdown",
   "id": "1b5482a0-bca0-4aed-9cb8-ed274d6c840f",
   "metadata": {},
   "source": [
    "The best data representation for retrieval isn't always the best for generation.\n",
    "\n",
    "Often, it's best to embed the knowledge corpus in very small chunk sizes for the purpose of retrieval. This is because we aren't cramming a lot of textual information into a single vector, so each vector can retain more semantic information, without having to \"average out\" the information.\n",
    "\n",
    "On the other hand, to generate high quality responses, we often need broader context around the specific information that we are querying for. For example, after retrieving a relevant code snippet, we also want to provide the surrounding documentation and discussion as context for a high quality response."
   ]
  },
  {
   "cell_type": "markdown",
   "id": "429d1b0b-0c14-4d82-80df-f84832202ecb",
   "metadata": {},
   "source": [
    "In this section, we show how a strategy where we use small, sentence level chunks for retrieval and a surrounding window as context for generation can help improve both retrieval and generation quality."
   ]
  },
  {
   "cell_type": "markdown",
   "id": "42f188dc-6ed7-4a03-ab50-63f79ca66157",
   "metadata": {},
   "source": [
    "### Experiment configs"
   ]
  },
  {
   "cell_type": "code",
   "execution_count": 28,
   "id": "44794a10-e6e2-4056-895b-aa54e87272ad",
   "metadata": {
    "tags": []
   },
   "outputs": [],
   "source": [
    "BASE_MODEL = 'thenlper/gte-base'  \n",
    "WINDOW_SIZE = 3\n",
    "TOP_K = 20\n",
    "\n",
    "TEST_SUBSAMPLE_N = 10\n",
    "\n",
    "EXPERIMENT_NAME = 'sentence_window'"
   ]
  },
  {
   "cell_type": "markdown",
   "id": "93ce312c-6b94-4cfd-864f-1c88aadba8ac",
   "metadata": {
    "tags": []
   },
   "source": [
    "### Load data"
   ]
  },
  {
   "cell_type": "code",
   "execution_count": 29,
   "id": "d59b0142-7a36-46d4-a718-aea453046d86",
   "metadata": {
    "tags": []
   },
   "outputs": [],
   "source": [
    "from pathlib import Path\n",
    "\n",
    "DATASETS_DIRECTORY = Path(\"/efs/shared_storage/simon/datasets\")"
   ]
  },
  {
   "cell_type": "code",
   "execution_count": 30,
   "id": "c37c1e92-e01a-4d18-8565-ddf58fc92ace",
   "metadata": {
    "tags": []
   },
   "outputs": [],
   "source": [
    "import json\n",
    "from llama_index.schema import Document\n",
    "\n",
    "def read_json(filename):\n",
    "    with open(filename, 'r') as f:\n",
    "        data = json.load(f)\n",
    "    return data\n",
    "\n",
    "def to_doc(entry_dict):\n",
    "    return Document(text=entry_dict['text'], metadata={'source': entry_dict['source']}) \n",
    "\n",
    "def load_corpus(filename):\n",
    "    sections = read_json(filename)\n",
    "    docs = [to_doc(dict_) for dict_ in sections]\n",
    "    return docs"
   ]
  },
  {
   "cell_type": "code",
   "execution_count": 32,
   "id": "dbaa805c-5f2d-4e9a-8a05-361569fa3d57",
   "metadata": {
    "tags": []
   },
   "outputs": [],
   "source": [
    "docs = load_corpus(DATASETS_DIRECTORY / 'eval_full_corpus.json')"
   ]
  },
  {
   "cell_type": "markdown",
   "id": "34ce2f26-2405-4afb-b23b-15fd7677ea49",
   "metadata": {},
   "source": [
    "### Build index and configure query engine"
   ]
  },
  {
   "cell_type": "code",
   "execution_count": 87,
   "id": "9084256d-746a-4a48-b86b-a9c229565f5e",
   "metadata": {
    "tags": []
   },
   "outputs": [
    {
     "data": {
      "application/vnd.jupyter.widget-view+json": {
       "model_id": "c99e06c615d94a7cb63d2678faf51669",
       "version_major": 2,
       "version_minor": 0
      },
      "text/plain": [
       "Parsing documents into nodes:   0%|          | 0/8944 [00:00<?, ?it/s]"
      ]
     },
     "metadata": {},
     "output_type": "display_data"
    },
    {
     "data": {
      "application/vnd.jupyter.widget-view+json": {
       "model_id": "76d7012531a64f428f27233cb12d2a95",
       "version_major": 2,
       "version_minor": 0
      },
      "text/plain": [
       "Generating embeddings:   0%|          | 0/59755 [00:00<?, ?it/s]"
      ]
     },
     "metadata": {},
     "output_type": "display_data"
    }
   ],
   "source": [
    "from langchain.embeddings import HuggingFaceEmbeddings\n",
    "from llama_index import ServiceContext, set_global_service_context, VectorStoreIndex\n",
    "from llama_index.llms import OpenAI\n",
    "from llama_index.node_parser import SentenceWindowNodeParser\n",
    "from llama_index.indices.postprocessor import MetadataReplacementPostProcessor\n",
    "\n",
    "# create the sentence window node parser\n",
    "node_parser = SentenceWindowNodeParser.from_defaults(\n",
    "    window_size=WINDOW_SIZE,\n",
    "    window_metadata_key=\"window\",\n",
    "    original_text_metadata_key=\"original_text\",\n",
    ")\n",
    "\n",
    "service_context = ServiceContext.from_defaults(\n",
    "    embed_model=HuggingFaceEmbeddings(\n",
    "        model_name=BASE_MODEL\n",
    "    ),\n",
    "    node_parser=node_parser,\n",
    ")\n",
    "\n",
    "index = VectorStoreIndex.from_documents(\n",
    "    docs, \n",
    "    service_context=service_context, \n",
    "    show_progress=True\n",
    ")"
   ]
  },
  {
   "cell_type": "code",
   "execution_count": 88,
   "id": "19a89f7a-3322-4004-aed3-f11be2f505b8",
   "metadata": {
    "tags": []
   },
   "outputs": [],
   "source": [
    "retriever = index.as_retriever(similarity_top_k=TOP_K)"
   ]
  },
  {
   "cell_type": "code",
   "execution_count": 89,
   "id": "5931476f-9771-4309-91bb-45b8a70a3533",
   "metadata": {
    "tags": []
   },
   "outputs": [],
   "source": [
    "query_engine = index.as_query_engine(\n",
    "    similarity_top_k=TOP_K,\n",
    "    # the target key defaults to `window` to match the node_parser's default\n",
    "    node_postprocessors=[\n",
    "        MetadataReplacementPostProcessor(target_metadata_key=\"window\")\n",
    "    ],\n",
    ")"
   ]
  },
  {
   "cell_type": "markdown",
   "id": "e35f1d2e-41c1-4b9b-9028-0bb4f9e3678e",
   "metadata": {
    "tags": []
   },
   "source": [
    "### Run evaluation"
   ]
  },
  {
   "cell_type": "code",
   "execution_count": 90,
   "id": "d4ca3bc2-7669-4851-8089-0538f69ebf37",
   "metadata": {
    "tags": []
   },
   "outputs": [],
   "source": [
    "import json\n",
    "import numpy as np\n",
    "\n",
    "from eval import evaluate_e2e, evaluate_retrieval"
   ]
  },
  {
   "cell_type": "markdown",
   "id": "b455d17f-1fdf-4e54-8262-c38936f5c327",
   "metadata": {},
   "source": [
    "#### Retrieval-only"
   ]
  },
  {
   "cell_type": "code",
   "execution_count": 44,
   "id": "59ece77f-fd8c-4cea-ab2e-8b1e9b71f030",
   "metadata": {
    "tags": []
   },
   "outputs": [],
   "source": [
    "golden_dataset_path = Path(\"../datasets/eval-dataset-v1.jsonl\")\n",
    "with open(golden_dataset_path, \"r\") as f:\n",
    "    golden_dataset = [json.loads(item) for item in list(f)]\n",
    "\n",
    "queries = [item['question'] for item in golden_dataset]\n",
    "golden_sources = [item['source'] for item in golden_dataset]"
   ]
  },
  {
   "cell_type": "code",
   "execution_count": 91,
   "id": "e0dc6a56-48c2-4f73-9081-0cd8d2ce9ed5",
   "metadata": {
    "tags": []
   },
   "outputs": [
    {
     "name": "stderr",
     "output_type": "stream",
     "text": [
      "100%|██████████| 177/177 [06:18<00:00,  2.14s/it]\n"
     ]
    }
   ],
   "source": [
    "results = evaluate_retrieval(retriever, queries, golden_sources)"
   ]
  },
  {
   "cell_type": "code",
   "execution_count": 92,
   "id": "becd0345-c4ad-4323-a5bb-bd240ed5e909",
   "metadata": {
    "tags": []
   },
   "outputs": [
    {
     "data": {
      "text/plain": [
       "0.632768361581921"
      ]
     },
     "execution_count": 92,
     "metadata": {},
     "output_type": "execute_result"
    }
   ],
   "source": [
    "hit_rate = get_hit_rate(results)\n",
    "hit_rate"
   ]
  },
  {
   "cell_type": "markdown",
   "id": "e352b295-417d-4b9c-a121-e127c59cd41e",
   "metadata": {},
   "source": [
    "#### End-to-end"
   ]
  },
  {
   "cell_type": "code",
   "execution_count": 93,
   "id": "0b40255b-c731-4707-9973-163125bbf5ec",
   "metadata": {
    "tags": []
   },
   "outputs": [],
   "source": [
    "with open(\"golden-responses.json\", \"r\") as file:\n",
    "    golden_dataset = json.load(file)\n",
    "\n",
    "queries = [item['question'] for item in golden_dataset]\n",
    "golden_response = [item['response'] for item in golden_dataset]"
   ]
  },
  {
   "cell_type": "code",
   "execution_count": 94,
   "id": "dda72414-4d88-4add-8177-b5411fb478cc",
   "metadata": {
    "tags": []
   },
   "outputs": [
    {
     "name": "stdout",
     "output_type": "stream",
     "text": [
      "Running inference\n"
     ]
    },
    {
     "name": "stderr",
     "output_type": "stream",
     "text": [
      "100%|██████████| 10/10 [02:16<00:00, 13.61s/it]\n"
     ]
    },
    {
     "name": "stdout",
     "output_type": "stream",
     "text": [
      "Running eval\n"
     ]
    },
    {
     "name": "stderr",
     "output_type": "stream",
     "text": [
      "100%|██████████| 10/10 [01:03<00:00,  6.37s/it]\n"
     ]
    }
   ],
   "source": [
    "results = evaluate_e2e(query_engine, queries, golden_response, verbose=True)"
   ]
  },
  {
   "cell_type": "code",
   "execution_count": 96,
   "id": "47697436-a9b5-4e15-9d64-fc2a740785b6",
   "metadata": {
    "tags": []
   },
   "outputs": [
    {
     "data": {
      "text/plain": [
       "4.2"
      ]
     },
     "execution_count": 96,
     "metadata": {},
     "output_type": "execute_result"
    }
   ],
   "source": [
    "mean_score = get_mean_score(results)\n",
    "mean_score"
   ]
  },
  {
   "cell_type": "markdown",
   "id": "fbe6a76a-d806-4d71-bed7-99e0f5c0295c",
   "metadata": {},
   "source": [
    "## Strategy 3: Fine-tune embeddings"
   ]
  },
  {
   "cell_type": "markdown",
   "id": "000b6a58-495c-44c8-b760-a2ce1cbed6c5",
   "metadata": {},
   "source": [
    "In this section, we explore fine-tuning embedding model to improve retrieval performance.\n",
    "We consider the \"cold start\" regime, where we haven't deployed the model, and haven't collected any user queries or labeled \"golden\" context. \n",
    "\n",
    "Therefore, we consider a synthetic data approach, where we leverage LLM to generation question, relevant context, answer pairs from our knowledge corpus."
   ]
  },
  {
   "cell_type": "markdown",
   "id": "f656b8f3-eae3-4e68-bba5-aac91b04d8c7",
   "metadata": {},
   "source": [
    "### Experiment configs"
   ]
  },
  {
   "cell_type": "code",
   "execution_count": null,
   "id": "1d1fd8ae-469e-4fa6-899c-18e5150ab2e4",
   "metadata": {
    "tags": []
   },
   "outputs": [],
   "source": [
    "import os\n",
    "\n",
    "# Since we are working with a relatively large set of documents, \n",
    "# we sub-sample the data for quicker iterations.\n",
    "SUBSAMPLE_RATIO = 0.05\n",
    "\n",
    "# can be any sentence-transformer compatible model\n",
    "# https://www.sbert.net/docs/pretrained_models.html\n",
    "BASE_MODEL = 'thenlper/gte-base'  \n",
    "\n",
    "# Select a chunk size that is: \n",
    "# 1) under the context window limit of the chosen model, and\n",
    "# 2) close to the desired chunk size at retrieval time\n",
    "FINETUNE_CHUNK_SIZE = 512\n",
    "\n",
    "\n",
    "ROOT_DIR = Path(os.getcwd()).parent\n",
    "print(ROOT_DIR)"
   ]
  },
  {
   "cell_type": "markdown",
   "id": "131f313b-03af-4596-a698-7c2921463d87",
   "metadata": {
    "tags": []
   },
   "source": [
    "### Load data"
   ]
  },
  {
   "cell_type": "markdown",
   "id": "402f4d6a-79f8-4f85-bb89-7e119bc753c7",
   "metadata": {},
   "source": [
    "We start by loading our knowledge corpus (i.e. the ray documentation webpages that we've downloaded and parsed previously)."
   ]
  },
  {
   "cell_type": "code",
   "execution_count": 63,
   "id": "21078dd5-f719-4445-82d4-21fe48432227",
   "metadata": {
    "tags": []
   },
   "outputs": [],
   "source": [
    "from pathlib import Path\n",
    "\n",
    "DATASETS_DIRECTORY = Path(\"/efs/shared_storage/simon/datasets\")"
   ]
  },
  {
   "cell_type": "code",
   "execution_count": 64,
   "id": "19e6f02c-8855-4452-878e-ba42cafc5d4f",
   "metadata": {
    "tags": []
   },
   "outputs": [],
   "source": [
    "import json\n",
    "from llama_index.schema import Document\n",
    "\n",
    "def read_json(filename):\n",
    "    with open(filename, 'r') as f:\n",
    "        data = json.load(f)\n",
    "    return data\n",
    "\n",
    "def to_doc(entry_dict):\n",
    "    return Document(text=entry_dict['text'], metadata={'source': entry_dict['source']}) \n",
    "\n",
    "def load_corpus(filename):\n",
    "    sections = read_json(filename)\n",
    "    docs = [to_doc(dict_) for dict_ in sections]\n",
    "    return docs"
   ]
  },
  {
   "cell_type": "code",
   "execution_count": 65,
   "id": "e0ed5169-3fb5-4e18-b51b-662c9d3f94ac",
   "metadata": {
    "tags": []
   },
   "outputs": [],
   "source": [
    "docs = load_corpus(DATASETS_DIRECTORY / 'eval_full_corpus.json')"
   ]
  },
  {
   "cell_type": "markdown",
   "id": "007dc69e-a871-45fa-a005-0cfc481ab916",
   "metadata": {},
   "source": [
    "Now, we split the documents into chunks. The main considerations on the chunk size here are:\n",
    "1. need to fit into the context window of the embedding model that we want to finetune (512 for the sentence transformer model that we selected, similar to most open source models.)\n",
    "2. should be close to the chunk size we want to use at retrieval time (so it's best to run some experiments to determine the best chunk size for your application first, see strategy 1). "
   ]
  },
  {
   "cell_type": "code",
   "execution_count": null,
   "id": "0535a133-5ff4-4c91-a255-a068c03de951",
   "metadata": {
    "tags": []
   },
   "outputs": [],
   "source": [
    "from llama_index.node_parser import SimpleNodeParser\n",
    "\n",
    "parser = SimpleNodeParser.from_defaults(chunk_size=FINETUNE_CHUNK_SIZE)\n",
    "nodes = parser.get_nodes_from_documents(docs, show_progress=True)\n",
    "print('Parsed {} docs into {} nodes'.format(len(docs), len(nodes)))"
   ]
  },
  {
   "cell_type": "markdown",
   "id": "fd7a2551-9c0a-4d32-8262-188da2e07fcf",
   "metadata": {},
   "source": [
    "### Subsample and create train/validation split"
   ]
  },
  {
   "cell_type": "code",
   "execution_count": 67,
   "id": "35e7da8f-4766-4060-8ce8-5a8abb01c9e9",
   "metadata": {
    "tags": []
   },
   "outputs": [],
   "source": [
    "from utils import train_test_split, subsample"
   ]
  },
  {
   "cell_type": "code",
   "execution_count": 68,
   "id": "8269e608-370b-4dd2-9ad7-0e83b77abb70",
   "metadata": {
    "tags": []
   },
   "outputs": [
    {
     "name": "stdout",
     "output_type": "stream",
     "text": [
      "Split dataset into: 11665 train nodes, 2917 val nodes\n"
     ]
    }
   ],
   "source": [
    "train_nodes, val_nodes = train_test_split(nodes)\n",
    "print('Split dataset into: {} train nodes, {} val nodes'.format(len(train_nodes), len(val_nodes)))"
   ]
  },
  {
   "cell_type": "code",
   "execution_count": 69,
   "id": "f409e028-0363-4a19-8378-a2f3ceb3dace",
   "metadata": {
    "tags": []
   },
   "outputs": [
    {
     "name": "stdout",
     "output_type": "stream",
     "text": [
      "Subsampled dataset into: 583 train nodes, 145 val nodes\n"
     ]
    }
   ],
   "source": [
    "train_nodes = subsample(train_nodes, SUBSAMPLE_RATIO)\n",
    "val_nodes = subsample(val_nodes, SUBSAMPLE_RATIO)\n",
    "print('Subsampled dataset into: {} train nodes, {} val nodes'.format(len(train_nodes), len(val_nodes)))"
   ]
  },
  {
   "cell_type": "markdown",
   "id": "3305f44d-b49d-4dd1-b3bb-c9622927ce55",
   "metadata": {},
   "source": [
    "### Generate synthetic dataset"
   ]
  },
  {
   "cell_type": "markdown",
   "id": "95a7e80a-f36b-4622-9696-373ce7a06e72",
   "metadata": {},
   "source": [
    "Now, we will generate a synthetic dataset of question, \"golden\" context, and \"golden\" answer dataset by leveraing an LLM (by default using gpt-3.5-turbo from OpenAI)"
   ]
  },
  {
   "cell_type": "code",
   "execution_count": null,
   "id": "a0cc7562-65f1-4670-b6d3-23129a031700",
   "metadata": {
    "tags": []
   },
   "outputs": [],
   "source": [
    "from llama_index.finetuning import generate_qa_embedding_pairs\n",
    "\n",
    "train_dataset = generate_qa_embedding_pairs(train_nodes)\n",
    "val_dataset = generate_qa_embedding_pairs(val_nodes)"
   ]
  },
  {
   "cell_type": "markdown",
   "id": "7bdd2bc9-d71c-4461-a9ac-6bd5b348b4bb",
   "metadata": {},
   "source": [
    "Let's save the dataset for future use since it's fairly time consuming to generate."
   ]
  },
  {
   "cell_type": "code",
   "execution_count": null,
   "id": "648de625-9676-49b9-b141-a157c6535f70",
   "metadata": {
    "tags": []
   },
   "outputs": [],
   "source": [
    "train_dataset.save_json(Path(ROOT_DIR, \"finetune/synthetic_train_dataset.json\"))\n",
    "val_dataset.save_json(Path(ROOT_DIR, \"finetune/synthetic_val_dataset.json\"))"
   ]
  },
  {
   "cell_type": "markdown",
   "id": "a373622f-ba1e-468b-946f-82d94082ca50",
   "metadata": {
    "tags": []
   },
   "source": [
    "### Run embedding finetuning"
   ]
  },
  {
   "cell_type": "markdown",
   "id": "41d1c718-75d5-4f40-9547-6e76b8b9740e",
   "metadata": {},
   "source": [
    "Now, we are ready to fine-tune our embedding model!"
   ]
  },
  {
   "cell_type": "code",
   "execution_count": 70,
   "id": "e611c7c7-51b8-42d4-9cdb-94fc2b4d1ea8",
   "metadata": {
    "tags": []
   },
   "outputs": [],
   "source": [
    "from llama_index.finetuning import EmbeddingQAFinetuneDataset"
   ]
  },
  {
   "cell_type": "code",
   "execution_count": 71,
   "id": "3b869fd8-34f1-4f9a-91c9-47b36024b248",
   "metadata": {
    "tags": []
   },
   "outputs": [],
   "source": [
    "train_dataset = EmbeddingQAFinetuneDataset.from_json(Path(ROOT_DIR, \"finetune/synthetic_train_dataset.json\"))\n",
    "val_dataset = EmbeddingQAFinetuneDataset.from_json(Path(ROOT_DIR, \"finetune/synthetic_val_dataset.json\"))"
   ]
  },
  {
   "cell_type": "markdown",
   "id": "079210b6-bbc1-4277-bb44-a41409771cec",
   "metadata": {},
   "source": [
    "We can construct a fine-tune engine, which is an easy to use interface for running fine-tuning jobs (either locally or via a API-based service).\n",
    "\n",
    "Here, we use the sentence transformer fine-tuning engine to run fine-tuning locally on the ray cluster."
   ]
  },
  {
   "cell_type": "code",
   "execution_count": 73,
   "id": "405e5e63-61ef-4920-ba1e-b9e7ee052dce",
   "metadata": {
    "tags": []
   },
   "outputs": [],
   "source": [
    "from llama_index.finetuning import SentenceTransformersFinetuneEngine\n",
    "\n",
    "finetune_engine = SentenceTransformersFinetuneEngine(\n",
    "    train_dataset,\n",
    "    model_id=BASE_MODEL,\n",
    "    model_output_path=\"../finetune/exp_finetune_test\",\n",
    "    val_dataset=val_dataset,\n",
    "    epochs=1,\n",
    ")"
   ]
  },
  {
   "cell_type": "markdown",
   "id": "fdad2de8-7ee7-447a-905c-9e27681e9b8f",
   "metadata": {},
   "source": [
    "For demonstration purpose, we will run the fine-tuning job for 2 epoches over our synthetic dataset.\n",
    "In practice, you should use the validation loss to determine how many epochs to fine-tune the embedding model for."
   ]
  },
  {
   "cell_type": "code",
   "execution_count": null,
   "id": "03a4347c-819b-4673-b03d-e950261e9fe9",
   "metadata": {
    "tags": []
   },
   "outputs": [],
   "source": [
    "finetune_engine.finetune()"
   ]
  },
  {
   "cell_type": "markdown",
   "id": "4705c2b6-f3d2-4404-8d41-4db76b3e600d",
   "metadata": {},
   "source": [
    "After the fine-tuning job finishes, we can easy get a referene to the fine-tuned model to be used in our LlamaIndex application."
   ]
  },
  {
   "cell_type": "code",
   "execution_count": 74,
   "id": "ecfeecc2-e3e2-4313-9c3d-3c0153799948",
   "metadata": {
    "tags": []
   },
   "outputs": [],
   "source": [
    "embed_model = finetune_engine.get_finetuned_model()"
   ]
  },
  {
   "cell_type": "markdown",
   "id": "0bc3bf8b-1943-4bbb-9166-5b068d7c179e",
   "metadata": {},
   "source": [
    "### Evaluate our fine-tuned embedding model"
   ]
  },
  {
   "cell_type": "markdown",
   "id": "f36776fa-ba10-4d3b-993c-d0f2842feaf6",
   "metadata": {},
   "source": [
    "Now, we will leverage the retrieval evaluation process we built out in [part 2](www.google.com) to assess the quality of our fine-tuned embedding model."
   ]
  },
  {
   "cell_type": "code",
   "execution_count": null,
   "id": "23b36038-21c4-4e87-83ab-f58cc49ee200",
   "metadata": {
    "tags": []
   },
   "outputs": [],
   "source": [
    "import re\n",
    "import json\n",
    "from pathlib import Path\n",
    "\n",
    "# Load labeled eval dataset\n",
    "golden_dataset_path = Path(\"../datasets/eval-dataset-v1.jsonl\")\n",
    "\n",
    "with open(golden_dataset_path, \"r\") as f:\n",
    "    test_dataset = [json.loads(item) for item in list(f)]\n",
    "    \n",
    "len(test_dataset)"
   ]
  },
  {
   "cell_type": "code",
   "execution_count": null,
   "id": "b9f2b3e4-3ed7-4607-a325-e577c7db1b09",
   "metadata": {
    "tags": []
   },
   "outputs": [],
   "source": [
    "test_dataset[:5]"
   ]
  },
  {
   "cell_type": "code",
   "execution_count": 77,
   "id": "4bca6da6-c5a7-4c75-97ff-7732146de50a",
   "metadata": {
    "tags": []
   },
   "outputs": [],
   "source": [
    "queries = [item['question'] for item in test_dataset]\n",
    "golden_sources = [item['source'] for item in test_dataset]"
   ]
  },
  {
   "cell_type": "markdown",
   "id": "53472a36-e93f-4756-8b61-1fd30bc94295",
   "metadata": {
    "tags": []
   },
   "source": [
    "Now, we can build index with our fine-tuned embedding."
   ]
  },
  {
   "cell_type": "code",
   "execution_count": 78,
   "id": "9c7221e3-c54b-4661-9daf-8668ec058bbf",
   "metadata": {
    "tags": []
   },
   "outputs": [],
   "source": [
    "from llama_index import VectorStoreIndex, ServiceContext"
   ]
  },
  {
   "cell_type": "code",
   "execution_count": null,
   "id": "8ca6eeb7-dde7-4036-b38f-c4fb27159c9f",
   "metadata": {
    "tags": []
   },
   "outputs": [],
   "source": [
    "service_context = ServiceContext.from_defaults(\n",
    "    embed_model=embed_model,\n",
    "    chunk_size=512,\n",
    ")\n",
    "\n",
    "index = VectorStoreIndex.from_documents(\n",
    "    docs, \n",
    "    service_context=service_context, \n",
    "    show_progress=True\n",
    ")"
   ]
  },
  {
   "cell_type": "code",
   "execution_count": 80,
   "id": "5cdba926-1fd2-429d-83b4-1375638f9dbe",
   "metadata": {
    "tags": []
   },
   "outputs": [],
   "source": [
    "retriever = index.as_retriever(similarity_top_k=5)"
   ]
  },
  {
   "cell_type": "markdown",
   "id": "2748abe7-9a68-4116-aaad-f4912c04581e",
   "metadata": {
    "tags": []
   },
   "source": [
    "### Run retrieval evaluation "
   ]
  },
  {
   "cell_type": "code",
   "execution_count": null,
   "id": "6dab2c5f-2e7a-420c-bbec-6d7992242cfb",
   "metadata": {
    "tags": []
   },
   "outputs": [],
   "source": [
    "from eval import evaluate_retrieval\n",
    "\n",
    "results = evaluate_retrieval(retriever, queries, golden_sources)"
   ]
  },
  {
   "cell_type": "code",
   "execution_count": null,
   "id": "f9fa5c8c-60c2-45fa-9f6b-abc357824afe",
   "metadata": {
    "tags": []
   },
   "outputs": [],
   "source": [
    "hit_rate = get_hit_rate(results)\n",
    "hit_rate"
   ]
  },
  {
   "cell_type": "code",
   "execution_count": null,
   "id": "7ff61817-13a0-44cc-866a-1947f61bd420",
   "metadata": {
    "tags": []
   },
   "outputs": [],
   "source": [
    "average_score = sum(result[\"score\"] for result in results) / len(results)\n",
    "average_score"
   ]
  }
 ],
 "metadata": {
  "kernelspec": {
   "display_name": "Python 3 (ipykernel)",
   "language": "python",
   "name": "python3"
  },
  "language_info": {
   "codemirror_mode": {
    "name": "ipython",
    "version": 3
   },
   "file_extension": ".py",
   "mimetype": "text/x-python",
   "name": "python",
   "nbconvert_exporter": "python",
   "pygments_lexer": "ipython3",
   "version": "3.10.8"
  }
 },
 "nbformat": 4,
 "nbformat_minor": 5
}
