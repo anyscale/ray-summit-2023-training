{
 "cells": [
  {
   "cell_type": "markdown",
   "id": "1f773bc8-a632-4b1e-a817-42da92594d33",
   "metadata": {},
   "source": [
    "# Part 3: Experiment and optimize the RAG application"
   ]
  },
  {
   "cell_type": "markdown",
   "id": "c6d7edf7-cdc5-45d4-b145-28e2d5316026",
   "metadata": {
    "tags": []
   },
   "source": [
    "- GitHub repository: https://github.com/anyscale/ray-summit-2023-training/tree/main\n",
    "- Anyscale Endpoints: https://endpoints.anyscale.com/\n",
    "- Ray documentation: https://docs.ray.io/\n",
    "- LlamaIndex documentation: https://gpt-index.readthedocs.io/en/stable/"
   ]
  },
  {
   "cell_type": "markdown",
   "id": "dde0aa7c-9a97-4907-9bf4-633b3a2a6224",
   "metadata": {
    "tags": []
   },
   "source": [
    "<span style=\"background: yellow; color: red; font-size: 1rem;\"><b>TODO:</b></span> Add introduction paragraph for this tutorial."
   ]
  },
  {
   "cell_type": "markdown",
   "id": "f75f028a-150d-4364-9dc9-638fefc4bf13",
   "metadata": {
    "tags": []
   },
   "source": [
    "<span style=\"background: yellow; color: red; font-size: 1rem;\"><b>TODO:</b></span> assume evaluation functions have all been defined in previous part."
   ]
  },
  {
   "cell_type": "code",
   "execution_count": null,
   "id": "d2ba2156-1355-4529-a881-24232b42a878",
   "metadata": {
    "tags": []
   },
   "outputs": [],
   "source": [
    "import os\n",
    "\n",
    "os.environ[\"ANYSCALE_API_BASE\"] = \"https://ray-summit-training-jrvwy.cld-kvedzwag2qa8i5bj.s.anyscaleuserdata-staging.com/v1/chat/completions\"\n",
    "os.environ[\"ANYSCALE_API_KEY\"] = \"tZLmCV1WtQAtnDx93MM5w3xaNhYV3whhcFRTKoH1GYQ\"\n",
    "\n",
    "os.environ[\"OPENAI_API_BASE\"] = \"https://api.openai.com/v1\"\n",
    "# os.environ[\"OPENAI_API_KEY\"] = ..."
   ]
  },
  {
   "cell_type": "markdown",
   "id": "7e9d2bfa-b98f-4d84-84a1-91a6494ad816",
   "metadata": {},
   "source": [
    "## Strategy 1: Search for optimal configuration for standard components"
   ]
  },
  {
   "cell_type": "markdown",
   "id": "e5404225-a7bb-4a84-955e-b428212d7698",
   "metadata": {
    "tags": []
   },
   "source": [
    "<span style=\"background: yellow; color: red; font-size: 1rem;\"><b>TODO:</b></span> add component parameter tuning experiments."
   ]
  },
  {
   "cell_type": "markdown",
   "id": "af16dc39-cae6-4c35-9619-2e149436efe7",
   "metadata": {},
   "source": [
    "## Strategy 2: Use different data representation for retrieval vs. generation"
   ]
  },
  {
   "cell_type": "markdown",
   "id": "1b5482a0-bca0-4aed-9cb8-ed274d6c840f",
   "metadata": {},
   "source": [
    "The best data representation for retrieval isn't always the best for generation.\n",
    "\n",
    "Often, it's best to embed the knowledge corpus in very small chunk sizes for the purpose of retrieval. This is because we aren't cramming a lot of textual information into a single vector, so each vector can retain more semantic information, without having to \"average out\" the information.\n",
    "\n",
    "On the other hand, to generate high quality responses, we often need broader context around the specific information that we are querying for. For example, after retrieving a relevant code snippet, we also want to provide the surrounding documentation and discussion as context for a high quality response."
   ]
  },
  {
   "cell_type": "markdown",
   "id": "429d1b0b-0c14-4d82-80df-f84832202ecb",
   "metadata": {},
   "source": [
    "In this section, we show how a strategy where we use small, sentence level chunks for retrieval and a surrounding window as context for generation can help improve both retrieval and generation quality."
   ]
  },
  {
   "cell_type": "markdown",
   "id": "42f188dc-6ed7-4a03-ab50-63f79ca66157",
   "metadata": {},
   "source": [
    "### Experiment configs"
   ]
  },
  {
   "cell_type": "code",
   "execution_count": null,
   "id": "44794a10-e6e2-4056-895b-aa54e87272ad",
   "metadata": {
    "tags": []
   },
   "outputs": [],
   "source": [
    "BASE_MODEL = 'thenlper/gte-base'  \n",
    "WINDOW_SIZE = 3\n",
    "TOP_K = 20\n",
    "\n",
    "TEST_SUBSAMPLE_N = 10\n",
    "\n",
    "EXPERIMENT_NAME = 'sentence_window'"
   ]
  },
  {
   "cell_type": "markdown",
   "id": "93ce312c-6b94-4cfd-864f-1c88aadba8ac",
   "metadata": {
    "tags": []
   },
   "source": [
    "### Load data"
   ]
  },
  {
   "cell_type": "code",
   "execution_count": null,
   "id": "d59b0142-7a36-46d4-a718-aea453046d86",
   "metadata": {
    "tags": []
   },
   "outputs": [],
   "source": [
    "from pathlib import Path\n",
    "\n",
    "DATASETS_DIRECTORY = Path(\"/efs/shared_storage/simon/datasets\")"
   ]
  },
  {
   "cell_type": "code",
   "execution_count": null,
   "id": "c37c1e92-e01a-4d18-8565-ddf58fc92ace",
   "metadata": {
    "tags": []
   },
   "outputs": [],
   "source": [
    "import json\n",
    "from llama_index.schema import Document\n",
    "\n",
    "def read_json(filename):\n",
    "    with open(filename, 'r') as f:\n",
    "        data = json.load(f)\n",
    "    return data\n",
    "\n",
    "def to_doc(entry_dict):\n",
    "    return Document(text=entry_dict['text'], metadata={'source': entry_dict['source']}) \n",
    "\n",
    "def load_corpus(filename):\n",
    "    sections = read_json(filename)\n",
    "    docs = [to_doc(dict_) for dict_ in sections]\n",
    "    return docs"
   ]
  },
  {
   "cell_type": "code",
   "execution_count": null,
   "id": "dbaa805c-5f2d-4e9a-8a05-361569fa3d57",
   "metadata": {
    "tags": []
   },
   "outputs": [],
   "source": [
    "docs = load_corpus(DATASETS_DIRECTORY / 'eval_full_corpus.json')"
   ]
  },
  {
   "cell_type": "markdown",
   "id": "34ce2f26-2405-4afb-b23b-15fd7677ea49",
   "metadata": {},
   "source": [
    "### Build index and configure query engine"
   ]
  },
  {
   "cell_type": "code",
   "execution_count": null,
   "id": "9084256d-746a-4a48-b86b-a9c229565f5e",
   "metadata": {
    "tags": []
   },
   "outputs": [],
   "source": [
    "from langchain.embeddings import HuggingFaceEmbeddings\n",
    "from llama_index import ServiceContext, set_global_service_context, VectorStoreIndex\n",
    "from llama_index.llms import OpenAI\n",
    "from llama_index.node_parser import SentenceWindowNodeParser\n",
    "from llama_index.indices.postprocessor import MetadataReplacementPostProcessor\n",
    "\n",
    "# create the sentence window node parser\n",
    "node_parser = SentenceWindowNodeParser.from_defaults(\n",
    "    window_size=WINDOW_SIZE,\n",
    "    window_metadata_key=\"window\",\n",
    "    original_text_metadata_key=\"original_text\",\n",
    ")\n",
    "\n",
    "service_context = ServiceContext.from_defaults(\n",
    "    embed_model=HuggingFaceEmbeddings(\n",
    "        model_name=BASE_MODEL\n",
    "    ),\n",
    "    node_parser=node_parser,\n",
    ")\n",
    "\n",
    "index = VectorStoreIndex.from_documents(\n",
    "    docs, \n",
    "    service_context=service_context, \n",
    "    show_progress=True\n",
    ")"
   ]
  },
  {
   "cell_type": "code",
   "execution_count": null,
   "id": "19a89f7a-3322-4004-aed3-f11be2f505b8",
   "metadata": {
    "tags": []
   },
   "outputs": [],
   "source": [
    "retriever = index.as_retriever(similarity_top_k=TOP_K)"
   ]
  },
  {
   "cell_type": "code",
   "execution_count": null,
   "id": "5931476f-9771-4309-91bb-45b8a70a3533",
   "metadata": {
    "tags": []
   },
   "outputs": [],
   "source": [
    "query_engine = index.as_query_engine(\n",
    "    similarity_top_k=TOP_K,\n",
    "    # the target key defaults to `window` to match the node_parser's default\n",
    "    node_postprocessors=[\n",
    "        MetadataReplacementPostProcessor(target_metadata_key=\"window\")\n",
    "    ],\n",
    ")"
   ]
  },
  {
   "cell_type": "markdown",
   "id": "e35f1d2e-41c1-4b9b-9028-0bb4f9e3678e",
   "metadata": {
    "tags": []
   },
   "source": [
    "### Run evaluation"
   ]
  },
  {
   "cell_type": "code",
   "execution_count": null,
   "id": "d4ca3bc2-7669-4851-8089-0538f69ebf37",
   "metadata": {
    "tags": []
   },
   "outputs": [],
   "source": [
    "import json\n",
    "import numpy as np\n",
    "\n",
    "from eval import evaluate_e2e, evaluate_retrieval"
   ]
  },
  {
   "cell_type": "markdown",
   "id": "cd1df33e-c3ae-4225-9c7a-fbe8e1621234",
   "metadata": {},
   "source": [
    "#### Load data"
   ]
  },
  {
   "cell_type": "code",
   "execution_count": null,
   "id": "00c9d5da-2fe2-49ed-a480-700b57e64c80",
   "metadata": {
    "tags": []
   },
   "outputs": [],
   "source": [
    "with open(\"golden-responses.json\", \"r\") as file:\n",
    "    golden_dataset = json.load(file)"
   ]
  },
  {
   "cell_type": "code",
   "execution_count": null,
   "id": "e00519f3-50ab-43b9-b211-51ae4d2b69be",
   "metadata": {
    "tags": []
   },
   "outputs": [],
   "source": [
    "golden_dataset[0]"
   ]
  },
  {
   "cell_type": "code",
   "execution_count": null,
   "id": "84bccae3-be23-49c7-9d40-db12248a1e48",
   "metadata": {
    "tags": []
   },
   "outputs": [],
   "source": [
    "queries = [item['question'] for item in golden_dataset]\n",
    "golden_response = [item['response'] for item in golden_dataset]\n",
    "golden_sources = [item['source'] for item in golden_dataset]"
   ]
  },
  {
   "cell_type": "markdown",
   "id": "b455d17f-1fdf-4e54-8262-c38936f5c327",
   "metadata": {},
   "source": [
    "#### Retrieval-only"
   ]
  },
  {
   "cell_type": "code",
   "execution_count": null,
   "id": "e0dc6a56-48c2-4f73-9081-0cd8d2ce9ed5",
   "metadata": {
    "tags": []
   },
   "outputs": [],
   "source": [
    "results = evaluate_retrieval(retriever, queries, golden_sources)"
   ]
  },
  {
   "cell_type": "code",
   "execution_count": null,
   "id": "becd0345-c4ad-4323-a5bb-bd240ed5e909",
   "metadata": {
    "tags": []
   },
   "outputs": [],
   "source": [
    "hits = [r['is_hit'] for r in results]\n",
    "hits"
   ]
  },
  {
   "cell_type": "code",
   "execution_count": null,
   "id": "210a30ad-524a-43a4-8cdb-8050ce89f7e4",
   "metadata": {
    "tags": []
   },
   "outputs": [],
   "source": [
    "np.mean(hits)"
   ]
  },
  {
   "cell_type": "markdown",
   "id": "e352b295-417d-4b9c-a121-e127c59cd41e",
   "metadata": {},
   "source": [
    "#### End-to-end"
   ]
  },
  {
   "cell_type": "code",
   "execution_count": null,
   "id": "dda72414-4d88-4add-8177-b5411fb478cc",
   "metadata": {
    "tags": []
   },
   "outputs": [],
   "source": [
    "results = evaluate_e2e(query_engine, queries, golden_response, verbose=True)"
   ]
  },
  {
   "cell_type": "code",
   "execution_count": null,
   "id": "47697436-a9b5-4e15-9d64-fc2a740785b6",
   "metadata": {
    "tags": []
   },
   "outputs": [],
   "source": [
    "scores = [r.score for r in results]\n",
    "scores"
   ]
  },
  {
   "cell_type": "code",
   "execution_count": null,
   "id": "5bda4fee-c2bd-481f-a982-4e3e6aa5091d",
   "metadata": {
    "tags": []
   },
   "outputs": [],
   "source": [
    "np.mean(scores)"
   ]
  },
  {
   "cell_type": "markdown",
   "id": "fbe6a76a-d806-4d71-bed7-99e0f5c0295c",
   "metadata": {},
   "source": [
    "## Strategy 3: Fine-tune embeddings"
   ]
  },
  {
   "cell_type": "markdown",
   "id": "000b6a58-495c-44c8-b760-a2ce1cbed6c5",
   "metadata": {},
   "source": [
    "In this section, we explore fine-tuning embedding model to improve retrieval performance.\n",
    "We consider the \"cold start\" regime, where we haven't deployed the model, and haven't collected any user queries or labeled \"golden\" context. \n",
    "\n",
    "Therefore, we consider a synthetic data approach, where we leverage LLM to generation question, relevant context, answer pairs from our knowledge corpus."
   ]
  },
  {
   "cell_type": "markdown",
   "id": "f656b8f3-eae3-4e68-bba5-aac91b04d8c7",
   "metadata": {},
   "source": [
    "### Experiment configs"
   ]
  },
  {
   "cell_type": "code",
   "execution_count": null,
   "id": "1d1fd8ae-469e-4fa6-899c-18e5150ab2e4",
   "metadata": {
    "tags": []
   },
   "outputs": [],
   "source": [
    "import os\n",
    "\n",
    "# Since we are working with a relatively large set of documents, \n",
    "# we sub-sample the data for quicker iterations.\n",
    "SUBSAMPLE_RATIO = 0.05\n",
    "\n",
    "# can be any sentence-transformer compatible model\n",
    "# https://www.sbert.net/docs/pretrained_models.html\n",
    "BASE_MODEL = 'BAAI/bge-small-en'  \n",
    "\n",
    "# Select a chunk size that is: \n",
    "# 1) under the context window limit of the chosen model, and\n",
    "# 2) close to the desired chunk size at retrieval time\n",
    "FINETUNE_CHUNK_SIZE = 512\n",
    "\n",
    "\n",
    "ROOT_DIR = Path(os.getcwd()).parent\n",
    "print(ROOT_DIR)"
   ]
  },
  {
   "cell_type": "markdown",
   "id": "131f313b-03af-4596-a698-7c2921463d87",
   "metadata": {
    "tags": []
   },
   "source": [
    "### Load data"
   ]
  },
  {
   "cell_type": "markdown",
   "id": "402f4d6a-79f8-4f85-bb89-7e119bc753c7",
   "metadata": {},
   "source": [
    "We start by loading our knowledge corpus (i.e. the ray documentation webpages that we've downloaded and parsed previously)."
   ]
  },
  {
   "cell_type": "code",
   "execution_count": null,
   "id": "21078dd5-f719-4445-82d4-21fe48432227",
   "metadata": {
    "tags": []
   },
   "outputs": [],
   "source": [
    "from pathlib import Path\n",
    "\n",
    "DATASETS_DIRECTORY = Path(\"/efs/shared_storage/simon/datasets\")"
   ]
  },
  {
   "cell_type": "code",
   "execution_count": null,
   "id": "19e6f02c-8855-4452-878e-ba42cafc5d4f",
   "metadata": {
    "tags": []
   },
   "outputs": [],
   "source": [
    "import json\n",
    "from llama_index.schema import Document\n",
    "\n",
    "def read_json(filename):\n",
    "    with open(filename, 'r') as f:\n",
    "        data = json.load(f)\n",
    "    return data\n",
    "\n",
    "def to_doc(entry_dict):\n",
    "    return Document(text=entry_dict['text'], metadata={'source': entry_dict['source']}) \n",
    "\n",
    "def load_corpus(filename):\n",
    "    sections = read_json(filename)\n",
    "    docs = [to_doc(dict_) for dict_ in sections]\n",
    "    return docs"
   ]
  },
  {
   "cell_type": "code",
   "execution_count": null,
   "id": "e0ed5169-3fb5-4e18-b51b-662c9d3f94ac",
   "metadata": {
    "tags": []
   },
   "outputs": [],
   "source": [
    "docs = load_corpus(DATASETS_DIRECTORY / 'eval_full_corpus.json')"
   ]
  },
  {
   "cell_type": "markdown",
   "id": "007dc69e-a871-45fa-a005-0cfc481ab916",
   "metadata": {},
   "source": [
    "Now, we split the documents into chunks. The main considerations on the chunk size here are:\n",
    "1. need to fit into the context window of the embedding model that we want to finetune (512 for the sentence transformer model that we selected, similar to most open source models.)\n",
    "2. should be close to the chunk size we want to use at retrieval time (so it's best to run some experiments to determine the best chunk size for your application first, see strategy 1). "
   ]
  },
  {
   "cell_type": "code",
   "execution_count": null,
   "id": "0535a133-5ff4-4c91-a255-a068c03de951",
   "metadata": {
    "tags": []
   },
   "outputs": [],
   "source": [
    "from llama_index.node_parser import SimpleNodeParser\n",
    "\n",
    "parser = SimpleNodeParser.from_defaults(chunk_size=FINETUNE_CHUNK_SIZE)\n",
    "nodes = parser.get_nodes_from_documents(docs, show_progress=True)\n",
    "print('Parsed {} docs into {} nodes'.format(len(docs), len(nodes)))"
   ]
  },
  {
   "cell_type": "markdown",
   "id": "fd7a2551-9c0a-4d32-8262-188da2e07fcf",
   "metadata": {},
   "source": [
    "### Subsample and create train/validation split"
   ]
  },
  {
   "cell_type": "code",
   "execution_count": null,
   "id": "35e7da8f-4766-4060-8ce8-5a8abb01c9e9",
   "metadata": {
    "tags": []
   },
   "outputs": [],
   "source": [
    "from utils import train_test_split, subsample"
   ]
  },
  {
   "cell_type": "code",
   "execution_count": null,
   "id": "8269e608-370b-4dd2-9ad7-0e83b77abb70",
   "metadata": {
    "tags": []
   },
   "outputs": [],
   "source": [
    "train_nodes, val_nodes = train_test_split(nodes)\n",
    "print('Split dataset into: {} train nodes, {} val nodes'.format(len(train_nodes), len(val_nodes)))"
   ]
  },
  {
   "cell_type": "code",
   "execution_count": null,
   "id": "f409e028-0363-4a19-8378-a2f3ceb3dace",
   "metadata": {
    "tags": []
   },
   "outputs": [],
   "source": [
    "train_nodes = subsample(train_nodes, SUBSAMPLE_RATIO)\n",
    "val_nodes = subsample(val_nodes, SUBSAMPLE_RATIO)\n",
    "print('Subsampled dataset into: {} train nodes, {} val nodes'.format(len(train_nodes), len(val_nodes)))"
   ]
  },
  {
   "cell_type": "markdown",
   "id": "3305f44d-b49d-4dd1-b3bb-c9622927ce55",
   "metadata": {},
   "source": [
    "### Generate synthetic dataset"
   ]
  },
  {
   "cell_type": "markdown",
   "id": "95a7e80a-f36b-4622-9696-373ce7a06e72",
   "metadata": {},
   "source": [
    "Now, we will generate a synthetic dataset of question, \"golden\" context, and \"golden\" answer dataset by leveraing an LLM (by default using gpt-3.5-turbo from OpenAI)"
   ]
  },
  {
   "cell_type": "code",
   "execution_count": null,
   "id": "a0cc7562-65f1-4670-b6d3-23129a031700",
   "metadata": {
    "tags": []
   },
   "outputs": [],
   "source": [
    "from llama_index.finetuning import generate_qa_embedding_pairs\n",
    "\n",
    "train_dataset = generate_qa_embedding_pairs(train_nodes)\n",
    "val_dataset = generate_qa_embedding_pairs(val_nodes)"
   ]
  },
  {
   "cell_type": "markdown",
   "id": "7bdd2bc9-d71c-4461-a9ac-6bd5b348b4bb",
   "metadata": {},
   "source": [
    "Let's save the dataset for future use since it's fairly time consuming to generate."
   ]
  },
  {
   "cell_type": "code",
   "execution_count": null,
   "id": "648de625-9676-49b9-b141-a157c6535f70",
   "metadata": {
    "tags": []
   },
   "outputs": [],
   "source": [
    "train_dataset.save_json(Path(ROOT_DIR, \"finetune/synthetic_train_dataset.json\"))\n",
    "val_dataset.save_json(Path(ROOT_DIR, \"finetune/synthetic_val_dataset.json\"))"
   ]
  },
  {
   "cell_type": "markdown",
   "id": "a373622f-ba1e-468b-946f-82d94082ca50",
   "metadata": {
    "tags": []
   },
   "source": [
    "### Run embedding finetuning"
   ]
  },
  {
   "cell_type": "markdown",
   "id": "41d1c718-75d5-4f40-9547-6e76b8b9740e",
   "metadata": {},
   "source": [
    "Now, we are ready to fine-tune our embedding model!"
   ]
  },
  {
   "cell_type": "code",
   "execution_count": null,
   "id": "e611c7c7-51b8-42d4-9cdb-94fc2b4d1ea8",
   "metadata": {
    "tags": []
   },
   "outputs": [],
   "source": [
    "from llama_index.finetuning import EmbeddingQAFinetuneDataset"
   ]
  },
  {
   "cell_type": "code",
   "execution_count": null,
   "id": "3b869fd8-34f1-4f9a-91c9-47b36024b248",
   "metadata": {
    "tags": []
   },
   "outputs": [],
   "source": [
    "train_dataset = EmbeddingQAFinetuneDataset.from_json(Path(ROOT_DIR, \"finetune/synthetic_train_dataset.json\"))\n",
    "val_dataset = EmbeddingQAFinetuneDataset.from_json(Path(ROOT_DIR, \"finetune/synthetic_val_dataset.json\"))"
   ]
  },
  {
   "cell_type": "markdown",
   "id": "079210b6-bbc1-4277-bb44-a41409771cec",
   "metadata": {},
   "source": [
    "We can construct a fine-tune engine, which is an easy to use interface for running fine-tuning jobs (either locally or via a API-based service).\n",
    "\n",
    "Here, we use the sentence transformer fine-tuning engine to run fine-tuning locally on the ray cluster."
   ]
  },
  {
   "cell_type": "code",
   "execution_count": null,
   "id": "405e5e63-61ef-4920-ba1e-b9e7ee052dce",
   "metadata": {
    "tags": []
   },
   "outputs": [],
   "source": [
    "from llama_index.finetuning import SentenceTransformersFinetuneEngine\n",
    "\n",
    "finetune_engine = SentenceTransformersFinetuneEngine(\n",
    "    train_dataset,\n",
    "    model_id=\"thenlper/gte-base\",\n",
    "    model_output_path=\"../finetune/exp_finetune_test\",\n",
    "    val_dataset=val_dataset,\n",
    "    epochs=1,\n",
    ")"
   ]
  },
  {
   "cell_type": "markdown",
   "id": "fdad2de8-7ee7-447a-905c-9e27681e9b8f",
   "metadata": {},
   "source": [
    "For demonstration purpose, we will run the fine-tuning job for 2 epoches over our synthetic dataset.\n",
    "In practice, you should use the validation loss to determine how many epochs to fine-tune the embedding model for."
   ]
  },
  {
   "cell_type": "code",
   "execution_count": null,
   "id": "03a4347c-819b-4673-b03d-e950261e9fe9",
   "metadata": {
    "tags": []
   },
   "outputs": [],
   "source": [
    "finetune_engine.finetune()"
   ]
  },
  {
   "cell_type": "markdown",
   "id": "4705c2b6-f3d2-4404-8d41-4db76b3e600d",
   "metadata": {},
   "source": [
    "After the fine-tuning job finishes, we can easy get a referene to the fine-tuned model to be used in our LlamaIndex application."
   ]
  },
  {
   "cell_type": "code",
   "execution_count": null,
   "id": "ecfeecc2-e3e2-4313-9c3d-3c0153799948",
   "metadata": {
    "tags": []
   },
   "outputs": [],
   "source": [
    "embed_model = finetune_engine.get_finetuned_model()"
   ]
  },
  {
   "cell_type": "markdown",
   "id": "0bc3bf8b-1943-4bbb-9166-5b068d7c179e",
   "metadata": {},
   "source": [
    "### Evaluate our fine-tuned embedding model"
   ]
  },
  {
   "cell_type": "markdown",
   "id": "f36776fa-ba10-4d3b-993c-d0f2842feaf6",
   "metadata": {},
   "source": [
    "Now, we will leverage the retrieval evaluation process we built out in [part 2](www.google.com) to assess the quality of our fine-tuned embedding model."
   ]
  },
  {
   "cell_type": "code",
   "execution_count": null,
   "id": "23b36038-21c4-4e87-83ab-f58cc49ee200",
   "metadata": {
    "tags": []
   },
   "outputs": [],
   "source": [
    "import re\n",
    "import json\n",
    "from pathlib import Path\n",
    "\n",
    "# Load labeled eval dataset\n",
    "golden_dataset_path = Path(\"../datasets/eval-dataset-v1.jsonl\")\n",
    "\n",
    "with open(golden_dataset_path, \"r\") as f:\n",
    "    test_dataset = [json.loads(item) for item in list(f)]\n",
    "    \n",
    "len(test_dataset)"
   ]
  },
  {
   "cell_type": "code",
   "execution_count": null,
   "id": "b9f2b3e4-3ed7-4607-a325-e577c7db1b09",
   "metadata": {
    "tags": []
   },
   "outputs": [],
   "source": [
    "test_dataset[:5]"
   ]
  },
  {
   "cell_type": "code",
   "execution_count": null,
   "id": "4bca6da6-c5a7-4c75-97ff-7732146de50a",
   "metadata": {
    "tags": []
   },
   "outputs": [],
   "source": [
    "queries = [item['question'] for item in test_dataset]\n",
    "golden_sources = [item['source'] for item in test_dataset]"
   ]
  },
  {
   "cell_type": "markdown",
   "id": "53472a36-e93f-4756-8b61-1fd30bc94295",
   "metadata": {
    "tags": []
   },
   "source": [
    "Now, we can build index with our fine-tuned embedding."
   ]
  },
  {
   "cell_type": "code",
   "execution_count": null,
   "id": "9c7221e3-c54b-4661-9daf-8668ec058bbf",
   "metadata": {
    "tags": []
   },
   "outputs": [],
   "source": [
    "from llama_index import VectorStoreIndex, ServiceContext"
   ]
  },
  {
   "cell_type": "code",
   "execution_count": null,
   "id": "8ca6eeb7-dde7-4036-b38f-c4fb27159c9f",
   "metadata": {
    "tags": []
   },
   "outputs": [],
   "source": [
    "service_context = ServiceContext.from_defaults(\n",
    "    embed_model=embed_model,\n",
    "    chunk_size=512,\n",
    ")\n",
    "\n",
    "index = VectorStoreIndex.from_documents(\n",
    "    docs, \n",
    "    service_context=service_context, \n",
    "    show_progress=True\n",
    ")"
   ]
  },
  {
   "cell_type": "code",
   "execution_count": null,
   "id": "5cdba926-1fd2-429d-83b4-1375638f9dbe",
   "metadata": {
    "tags": []
   },
   "outputs": [],
   "source": [
    "retriever = index.as_retriever(similarity_top_k=5)"
   ]
  },
  {
   "cell_type": "markdown",
   "id": "2748abe7-9a68-4116-aaad-f4912c04581e",
   "metadata": {
    "tags": []
   },
   "source": [
    "### Run retrieval evaluation "
   ]
  },
  {
   "cell_type": "code",
   "execution_count": null,
   "id": "6dab2c5f-2e7a-420c-bbec-6d7992242cfb",
   "metadata": {
    "tags": []
   },
   "outputs": [],
   "source": [
    "from eval import evaluate_retrieval\n",
    "\n",
    "results = evaluate_retrieval(retriever, queries, golden_sources)"
   ]
  },
  {
   "cell_type": "code",
   "execution_count": null,
   "id": "f9fa5c8c-60c2-45fa-9f6b-abc357824afe",
   "metadata": {
    "tags": []
   },
   "outputs": [],
   "source": [
    "total_hits = sum(result[\"is_hit\"] for result in results)\n",
    "hit_percentage = total_hits / len(results)\n",
    "hit_percentage"
   ]
  },
  {
   "cell_type": "code",
   "execution_count": null,
   "id": "7ff61817-13a0-44cc-866a-1947f61bd420",
   "metadata": {
    "tags": []
   },
   "outputs": [],
   "source": [
    "average_score = sum(result[\"score\"] for result in results) / len(results)\n",
    "average_score"
   ]
  }
 ],
 "metadata": {
  "kernelspec": {
   "display_name": "Python 3 (ipykernel)",
   "language": "python",
   "name": "python3"
  },
  "language_info": {
   "codemirror_mode": {
    "name": "ipython",
    "version": 3
   },
   "file_extension": ".py",
   "mimetype": "text/x-python",
   "name": "python",
   "nbconvert_exporter": "python",
   "pygments_lexer": "ipython3",
   "version": "3.10.8"
  }
 },
 "nbformat": 4,
 "nbformat_minor": 5
}
