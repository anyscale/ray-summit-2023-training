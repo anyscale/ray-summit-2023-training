{
 "cells": [
  {
   "cell_type": "markdown",
   "id": "597c13c0",
   "metadata": {},
   "source": [
    "# Serving Dreambooth with Ray Serve\n",
    "---\n",
    "\n",
    "This notebook will guide you through the process of deploying and managing your fine-tuned Stable Diffusion model using Ray Serve. Ray Serve is a powerful framework designed for scalable serving, and it eases the transition from development to production-grade deployment.\n",
    "\n",
    "**Table of Contents**\n",
    "\n",
    "1. [Introduction to Ray Serve](#1.-introduction-to-ray-serve)\n",
    "    * Key components\n",
    "2. [How to Create a Basic Service](#2.-how-to-create-a-basic-service)\n",
    "    * Hello world!\n",
    "3. [Deploying Dreambooth](#3.-deploying-dreambooth)\n",
    "    * Defining deployments\n",
    "        * Resource management and autoscaling\n",
    "    * Binding deployments\n",
    "    * Running Ray Serve\n",
    "4. [Making Requests to the Endpoint](#4-make-requests-to-the-endpoint)\n"
   ]
  },
  {
   "cell_type": "markdown",
   "id": "bc644b9e",
   "metadata": {},
   "source": [
    "## 1. Introduction to Ray Serve\n",
    "\n",
    "[Ray Serve](https://docs.ray.io/en/latest/serve/index.html) is a framework for serving machine learning systems. With features like autoscaling, services composition, and response streaming, it offers efficient, high-performance serving for Large Language Model and Generative AI applications.\n",
    "\n",
    "Built on top of Ray, it abstracts away the infrastructure complexities while inheriting the performance capabilities of the core distributed runtime. As a Ray AI Library, Serve extends the workflow from Ray Data, Train, and Tune to provide a cohesive end-to-end development to production experience. \n",
    "\n",
    "### Key Components\n",
    "\n",
    "|<img src='https://technical-training-assets.s3.us-west-2.amazonaws.com/Ray_Serve/serve_architecture.png' width=\"100%\" loading=\"lazy\">|\n",
    "|:-:|\n",
    "|Ray Serve can independently scale replicas, deployments, and nodes allowing for flexible and dynamic adjustment to incoming request load.|\n",
    "\n",
    "1. **Deployment**: A deployment is the fundamental user-facing unit in Ray Serve. Within a deployment are a number of replicas, which are copies of a class or function started in separate Ray Actors, and during runtime, these replicas can be autoscaled to match request traffic.\n",
    "\n",
    "    a. **Ingress Deployment (HTTP Handling)**: The ingress deployment serves as the entry point for all traffic. It defines the HTTP handling logic for the application, with the `__call__` method of the class handling incoming requests. Serve also integrates with FastAPI for expressive API definitions.\n",
    "\n",
    "2.  **ServeHandle (Composing Deployments)**: A ServeHandle is a bound deployment and allows multiple independent deployments to call into each other. In this way, it facilitates flexible and complex model composition where bound deployments can reference other bound deployments. At runtime, these references become ServeHandles for querying.\n",
    "\n",
    "3. **Application**: An application is composed of one or more deployments and can be accessed via HTTP routes or Python handles."
   ]
  },
  {
   "cell_type": "markdown",
   "id": "0202b382",
   "metadata": {},
   "source": [
    "## 2. How to Create a Basic Service"
   ]
  },
  {
   "cell_type": "code",
   "execution_count": null,
   "id": "3ed93c2d",
   "metadata": {},
   "outputs": [],
   "source": [
    "import ray\n",
    "\n",
    "from ray import serve"
   ]
  },
  {
   "cell_type": "code",
   "execution_count": null,
   "id": "89b67b15",
   "metadata": {},
   "outputs": [],
   "source": [
    "# Define a deployment by using `serve.deployment` decorator on a Python class or function.\n",
    "@serve.deployment\n",
    "class MyFirstDeployment:\n",
    "    # Take the message to return as an argument to the constructor.\n",
    "    def __init__(self, msg):\n",
    "        self.msg = msg\n",
    "\n",
    "    def __call__(self):\n",
    "        return self.msg"
   ]
  },
  {
   "cell_type": "code",
   "execution_count": null,
   "id": "5db9df65",
   "metadata": {},
   "outputs": [],
   "source": [
    "# The `.bind()` method binds the deployment with the arguments to the constructor.\n",
    "# This returns a `ServeHandle` that can be passed to other deployments or used to start a service.\n",
    "my_first_deployment = MyFirstDeployment.bind(\"Hello world!\")\n",
    "\n",
    "# Start a service.\n",
    "handle = serve.run(my_first_deployment)"
   ]
  },
  {
   "cell_type": "code",
   "execution_count": null,
   "id": "d93eef64",
   "metadata": {},
   "outputs": [],
   "source": [
    "print(ray.get(handle.remote())) # \"Hello world!\""
   ]
  },
  {
   "cell_type": "code",
   "execution_count": null,
   "id": "2e43b314",
   "metadata": {},
   "outputs": [],
   "source": [
    "serve.shutdown() # Deletes all applications and shuts down Serve system actors."
   ]
  },
  {
   "cell_type": "markdown",
   "id": "520ef4d7",
   "metadata": {},
   "source": [
    "## 3. Deploying Dreambooth\n",
    "\n",
    "Let's now move beyond a basic service and deploy our fine-tuned model from the previous notebook. We'll follow the same pattern as the \"Hello world!\" example, but use Serve's [intergration with FastAPI](https://docs.ray.io/en/master/serve/http-guide.html#fastapi-http-deployments) for more expressive HTTP handling.\n",
    "\n",
    "<!-- Consider rewriting the below: -->\n",
    "\n",
    "Using deployments and binding mechanisms allows you to define complex web service architectures where classes can communicate with each other, and are exposed through HTTP endpoints. Ray Serve manages the deployment, scaling, and routing of these microservices, enabling efficient and scalable serving for machine learning applications."
   ]
  },
  {
   "cell_type": "markdown",
   "id": "030af6d3-11c4-4281-a7aa-56fd3ebac466",
   "metadata": {},
   "source": [
    "|<img src=\"https://technical-training-assets.s3.us-west-2.amazonaws.com/genai/genai-deployment.jpg\" width=\"100%\" loading=\"lazy\">|\n",
    "|:-:|\n",
    "|Data Flow of the Dreambooth application. Stable Diffusion model is deployed on the GPU instance, and accepts requests via APIIngress.|"
   ]
  },
  {
   "cell_type": "code",
   "execution_count": null,
   "id": "9e684cba",
   "metadata": {},
   "outputs": [],
   "source": [
    "import torch\n",
    "\n",
    "from diffusers import DiffusionPipeline\n",
    "from fastapi import FastAPI\n",
    "from fastapi.responses import Response\n",
    "from io import BytesIO"
   ]
  },
  {
   "cell_type": "code",
   "execution_count": null,
   "id": "90eca147",
   "metadata": {
    "tags": []
   },
   "outputs": [],
   "source": [
    "# This is the same fine-tuned model you just created in the previous notebook.\n",
    "fine_tuned_model_path = \"/mnt/cluster_storage/fine-tuned-model\""
   ]
  },
  {
   "cell_type": "markdown",
   "id": "fb6871db",
   "metadata": {},
   "source": [
    "### Define a `StableDiffusion` class for Serve deployment\n",
    "\n",
    "The `@serve.deployment` decorator is used to define a deployable unit for Ray Serve. When applied to a class, this decorator specifices that instances of this class can be deployed as microservices that can be accessed through HTTP requests."
   ]
  },
  {
   "cell_type": "code",
   "execution_count": null,
   "id": "b063fade",
   "metadata": {},
   "outputs": [],
   "source": [
    "@serve.deployment(\n",
    "    autoscaling_config={\n",
    "        'min_replicas': 0,\n",
    "        'initial_replicas': 1,\n",
    "        'max_replicas': 2 # We have 2 GPUs available.\n",
    "    },\n",
    "    ray_actor_options={\"num_gpus\": 1}, # Each replica should have access to 1 GPU\n",
    ")\n",
    "class StableDiffusion:\n",
    "    def __init__(self):\n",
    "        # Load the DiffusionPipeline model from the fine-tuned model path\n",
    "        self.pipeline = DiffusionPipeline.from_pretrained(\n",
    "            fine_tuned_model_path, torch_dtype=torch.float16\n",
    "        )\n",
    "        self.pipeline.set_progress_bar_config(disable=True)\n",
    "        self.pipeline.to(\"cuda\") # Ray will let us guarantee a GPU is available.\n",
    "\n",
    "    # Generate images for each prompt.\n",
    "    def generate(self, prompt: str, img_size: int = 512):\n",
    "        return self.pipeline(prompt, height=img_size, width=img_size).images[0]"
   ]
  },
  {
   "cell_type": "markdown",
   "id": "866565ed",
   "metadata": {},
   "source": [
    "### Replicas and autoscaling\n",
    "\n",
    "In Ray's Serve, you can manage resources and enable autoscaling for your deployments using the `ray_actor_options` parameter and related decorators.\n",
    "\n",
    "Resources like `num_cpus`, `num_gpus`, and custom resources can be specified for each deployment using the `ray_actor_options` parameter which allows Ray to efficiently allocate code to suitable nodes in a heterogeneous cluster.:\n",
    "\n",
    "```python\n",
    "@serve.deployment(ray_actor_options={'num_cpus': 2, 'num_gpus': 2, 'resources': {\"my_accelerator\": 1}})\n",
    "class Demo:\n",
    "    ...\n",
    "```\n",
    "\n",
    "More details: [Resource Management in Ray Serve](https://docs.ray.io/en/latest/serve/scaling-and-resource-allocation.html#resource-management-cpus-gpus)\n",
    "\n",
    "Deployments can have individual resource management and autoscaling configurations:\n",
    "\n",
    "1. For a fixed number of replicas, use `num_replicas`:\n",
    "```python\n",
    "@serve.deployment(num_replicas=3)\n",
    "```\n",
    "\n",
    "2. For autoscaling, use `autoscaling_config` with various options:\n",
    "```python\n",
    "@serve.deployment(\n",
    "    autoscaling_config={\n",
    "        'min_replicas': 1,\n",
    "        'initial_replicas': 2,\n",
    "        'max_replicas': 5,\n",
    "        'target_ongoing_requests_per_replica': 10,\n",
    "    }\n",
    ")\n",
    "```\n",
    "\n",
    "You can even set `min_replicas` to zero for a \"serverless\" design, which doesn't reserve resources during startup."
   ]
  },
  {
   "cell_type": "markdown",
   "id": "0134aa54",
   "metadata": {},
   "source": [
    "### Define the `APIIngress` Serve deployment\n",
    "\n",
    "Next, we'll define the actual API endpoint to live at `/dreambooth`.\n",
    "\n",
    "The `@serve.deployment` decorator indicates that instances of this class will be deployable units. Every service needs an entry point, and we specify this with the `@serve.ingress(app)` decorator. HTTP requests to the FastAPI routes will be directed to methods of the `APIIngress` class."
   ]
  },
  {
   "cell_type": "code",
   "execution_count": null,
   "id": "6f80fee2",
   "metadata": {},
   "outputs": [],
   "source": [
    "# Create a FastAPI application that will be used to define the endpoints for the API.\n",
    "app = FastAPI()\n",
    "\n",
    "\n",
    "@serve.deployment(num_replicas=1)  # Specify that instances of this class should be deployed by Ray Serve as a microservice with one replica.\n",
    "@serve.ingress(app)                # Indicates that this class will serve as the entry point for incoming requests to the Fast API application;\n",
    "                                   # Links the FastAPI app to this Ray Serve deployment.\n",
    "class APIIngress:\n",
    "    def __init__(self, diffusion_model_handle) -> None:\n",
    "        self.handle = diffusion_model_handle\n",
    "\n",
    "    # The `@app.get` tells FastAPI that the function below is in charge of handling requests.\n",
    "    @app.get(\n",
    "        \"/dreambooth\",\n",
    "        responses={200: {\"content\": {\"image/png\": {}}}},\n",
    "        response_class=Response,\n",
    "    )\n",
    "    async def entry(self, prompt: str, img_size: int = 512):\n",
    "        assert len(prompt), \"You need to supply a prompt.\"\n",
    "\n",
    "        # First await the remote object reference, then retrieve the image.\n",
    "        image = await (await self.handle.generate.remote(prompt, img_size=img_size))\n",
    "\n",
    "        file_stream = BytesIO()\n",
    "        image.save(file_stream, \"PNG\")\n",
    "        return Response(content=file_stream.getvalue(), media_type=\"image/png\")"
   ]
  },
  {
   "cell_type": "markdown",
   "id": "61b8916d",
   "metadata": {},
   "source": [
    "### Binding Serve deployments\n",
    "\n",
    "Now, let's deploy the Ray Serve application locally at `http://localhost:8000/dreambooth`.\n",
    "\n",
    "Here the `APIIngress` is bound to the `StableDiffusion` deployment so that incoming requests to the FastAPI routes will be processed by the methods in the `APIIngress`, and when the `generate` method is called, it will internally call the `generate` method of the `StableDiffusion` instances."
   ]
  },
  {
   "cell_type": "code",
   "execution_count": null,
   "id": "dfc2e244",
   "metadata": {
    "scrolled": true
   },
   "outputs": [],
   "source": [
    "port = 8000\n",
    "entrypoint = APIIngress.bind(StableDiffusion.bind())\n",
    "\n",
    "# Shutdown any lingering deployments, if any.\n",
    "serve.shutdown()"
   ]
  },
  {
   "cell_type": "markdown",
   "id": "2455f254",
   "metadata": {},
   "source": [
    "### Running Ray Serve\n",
    "\n",
    "This line starts the deployment of both the `StableDiffusion` and `APIIngress` classes. The specified `entrypoint` defines how the request processing flows between these deployments."
   ]
  },
  {
   "cell_type": "code",
   "execution_count": null,
   "id": "6c2dac72",
   "metadata": {},
   "outputs": [],
   "source": [
    "serve.run(entrypoint, port=port, name=\"dreambooth\")\n",
    "print(\"Done setting up replicas! Now accepting requests...\")"
   ]
  },
  {
   "cell_type": "markdown",
   "id": "757678cc",
   "metadata": {},
   "source": [
    "## 4. Make Requests to the Endpoint\n",
    "\n",
    "Next, we'll build a simple client to submit prompts as HTTP requests to the local endpoint at `http://localhost:8000/dreambooth`."
   ]
  },
  {
   "cell_type": "code",
   "execution_count": null,
   "id": "98426e86",
   "metadata": {},
   "outputs": [],
   "source": [
    "import datetime\n",
    "import os\n",
    "import requests\n",
    "\n",
    "from utils import show_images"
   ]
  },
  {
   "cell_type": "code",
   "execution_count": null,
   "id": "2d2a95f8",
   "metadata": {},
   "outputs": [],
   "source": [
    "endpoint = f\"http://localhost:{port}/dreambooth\""
   ]
  },
  {
   "cell_type": "code",
   "execution_count": null,
   "id": "370d6cd2",
   "metadata": {},
   "outputs": [],
   "source": [
    "@ray.remote(num_cpus=0)\n",
    "def make_request(prompt, image_size):\n",
    "    resp = requests.get(endpoint, params={\"prompt\": prompt, \"img_size\": image_size})\n",
    "    return resp.content"
   ]
  },
  {
   "cell_type": "code",
   "execution_count": null,
   "id": "85b9d699",
   "metadata": {},
   "outputs": [],
   "source": [
    "num_images = 4\n",
    "image_size = 512\n",
    "num_images_per_prompt = 4\n",
    "prompt = \"photo of unqtkn dog having breakfast\""
   ]
  },
  {
   "cell_type": "markdown",
   "id": "2a018c30",
   "metadata": {},
   "source": [
    "Below, once the Stable Diffusion model finishes generating your image(s), it will be included in the HTTP response body. The client saves all the images in a local directory for you to view, and they'll also show up in the notebook cell."
   ]
  },
  {
   "cell_type": "code",
   "execution_count": null,
   "id": "95d04989",
   "metadata": {},
   "outputs": [],
   "source": [
    "images = ray.get([make_request.remote(prompt, image_size) for _ in range(num_images)])"
   ]
  },
  {
   "cell_type": "code",
   "execution_count": null,
   "id": "5649667b",
   "metadata": {},
   "outputs": [],
   "source": [
    "# Create a directory with the formatted date and time\n",
    "current_datetime = datetime.datetime.now()\n",
    "serve_images_dir = current_datetime.strftime(\"%Y-%m-%d_%H-%M-%S\")\n",
    "os.makedirs(serve_images_dir)\n",
    "\n",
    "# Save images\n",
    "filenames = []\n",
    "for i, image in enumerate(images):\n",
    "    filename = os.path.join(serve_images_dir, f\"{i}.png\")\n",
    "    with open(filename, \"wb\") as f:\n",
    "        f.write(image)\n",
    "    filenames.append(filename)\n",
    "\n",
    "show_images(filenames)"
   ]
  },
  {
   "cell_type": "code",
   "execution_count": null,
   "id": "ec0049af",
   "metadata": {},
   "outputs": [],
   "source": [
    "# Shut down the model replicas once you're done!\n",
    "serve.shutdown()"
   ]
  },
  {
   "cell_type": "markdown",
   "id": "dc08370f",
   "metadata": {},
   "source": [
    "> **Exercise**\n",
    ">\n",
    "> Try to change the `autoscaling_config` defined in the Stable Diffusion deployment to further specify resource management. You can:\n",
    "> 1. Specify the number of CPUs, GPUs, and custom resources.\n",
    "> 2. Fix the number of replicas.\n",
    "> 3. Check out [Resource Management in Ray Serve](https://docs.ray.io/en/latest/serve/scaling-and-resource-allocation.html#resource-management-cpus-gpus) for more details.\n",
    ">\n",
    "> After each change, go to the Ray Dashboard to see active Serve deployments.\n",
    "\n",
    "> **Exercise**\n",
    ">\n",
    "> We can compose multiple deployments together. You already experimented with this by binding an `Ingress` deployment with the `StableDiffusion` deployment. See if you can add in another deployment. Some ideas include:\n",
    "> 1. Add in a filter that screens out grayscale and/or censored images.\n",
    "> 2. Prompt engineer before the image gets generated to encourage a diversity of results.\n",
    "> 3. Use the base model for prompts unrelated to the subject matter and the fine-tuned model for unique subject matter prompts.\n",
    ">"
   ]
  }
 ],
 "metadata": {
  "kernelspec": {
   "display_name": "Python 3 (ipykernel)",
   "language": "python",
   "name": "python3"
  },
  "language_info": {
   "codemirror_mode": {
    "name": "ipython",
    "version": 3
   },
   "file_extension": ".py",
   "mimetype": "text/x-python",
   "name": "python",
   "nbconvert_exporter": "python",
   "pygments_lexer": "ipython3",
   "version": "3.9.13"
  },
  "vscode": {
   "interpreter": {
    "hash": "265d195fda5292fe8f69c6e37c435a5634a1ed3b6799724e66a975f68fa21517"
   }
  }
 },
 "nbformat": 4,
 "nbformat_minor": 5
}
