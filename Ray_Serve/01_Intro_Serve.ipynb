{
 "cells": [
  {
   "cell_type": "code",
   "execution_count": null,
   "id": "8dcad6b2-7dfd-4824-9ba9-8ceaf0598e52",
   "metadata": {
    "tags": []
   },
   "outputs": [],
   "source": [
    "import json\n",
    "import ray\n",
    "import requests\n",
    "from ray import serve\n",
    "from ray import tune\n",
    "from ray.train import ScalingConfig, RunConfig\n",
    "from ray.train.xgboost import XGBoostTrainer\n",
    "from ray.tune import Tuner, TuneConfig\n",
    "from starlette.requests import Request"
   ]
  },
  {
   "cell_type": "markdown",
   "id": "682e224e-1bb9-470c-b363-386ede0785a4",
   "metadata": {},
   "source": [
    "# Ray Serve\n",
    "\n",
    "<div class=\"alert alert-block alert-info\">\n",
    "    \n",
    "__Roadmap to Serve introduction__\n",
    "\n",
    "1. See Serve in the context of Ray AI libraries\n",
    "1. Implement a simple service\n",
    "1. Understand key concepts of Ray Serve including __deployments__\n",
    "1. Observe a running Serve __application__\n",
    "</div>\n",
    "\n",
    "### Context: Ray libraries\n",
    "\n",
    "Ray includes set of high-level easy-to-use APIs for\n",
    "ingesting data, training models – including reinforcement learning\n",
    "models – tuning those models and then serving them.\n",
    "\n",
    "<img src=\"https://technical-training-assets.s3.us-west-2.amazonaws.com/Introduction_to_Ray_AIR/e2e_air.png\" width=600 loading=\"lazy\"/>\n",
    "\n",
    "Key principles behind Ray and its libraires are\n",
    "* Performance\n",
    "* Developer experience and simplicity"
   ]
  },
  {
   "cell_type": "markdown",
   "id": "27b27dc7-cc6c-4e7c-b437-fd5e99ab81a9",
   "metadata": {},
   "source": [
    "__Read, preprocess with Ray Data__"
   ]
  },
  {
   "cell_type": "code",
   "execution_count": null,
   "id": "d24ad975-2ee2-4a62-a694-fc3431ad177d",
   "metadata": {
    "tags": []
   },
   "outputs": [],
   "source": [
    "dataset = ray.data.read_parquet(\"s3://anonymous@anyscale-training-data/intro-to-ray-air/nyc_taxi_2021.parquet\").repartition(16)\n",
    "\n",
    "train_dataset, valid_dataset = dataset.train_test_split(test_size=0.3)"
   ]
  },
  {
   "cell_type": "markdown",
   "id": "d385f5e5-83e3-4bbe-ac35-a16d9de033e8",
   "metadata": {
    "tags": []
   },
   "source": [
    "__Fit model with Ray Train__"
   ]
  },
  {
   "cell_type": "code",
   "execution_count": null,
   "id": "4a9a523f-9d53-4071-9d5f-2fc4703b98fb",
   "metadata": {
    "tags": []
   },
   "outputs": [],
   "source": [
    "trainer = XGBoostTrainer(\n",
    "    label_column=\"is_big_tip\",\n",
    "    scaling_config=ScalingConfig(num_workers=4, use_gpu=False),\n",
    "    params={ \"objective\": \"binary:logistic\", },\n",
    "    datasets={\"train\": train_dataset, \"valid\": valid_dataset},\n",
    "    run_config=RunConfig(storage_path='/mnt/cluster_storage/')\n",
    ")\n",
    "\n",
    "result = trainer.fit()"
   ]
  },
  {
   "cell_type": "markdown",
   "id": "7b49c472-054b-4821-a027-e75828a40122",
   "metadata": {},
   "source": [
    "__Optimize hyperparams with Ray Tune__"
   ]
  },
  {
   "cell_type": "code",
   "execution_count": null,
   "id": "5e422bdb-5151-4d08-b546-3aaebb59f591",
   "metadata": {
    "tags": []
   },
   "outputs": [],
   "source": [
    "tuner = Tuner(trainer, \n",
    "            param_space={'params' : {'max_depth': tune.randint(2, 12)}},\n",
    "            tune_config=TuneConfig(num_samples=3, metric='train-logloss', mode='min'),\n",
    "            run_config=RunConfig(storage_path='/mnt/cluster_storage/'))\n",
    "\n",
    "checkpoint = tuner.fit().get_best_result().checkpoint"
   ]
  },
  {
   "cell_type": "markdown",
   "id": "e5e9fc8c-4c35-4401-9b88-c6d59947d834",
   "metadata": {},
   "source": [
    "__Batch prediction__"
   ]
  },
  {
   "cell_type": "code",
   "execution_count": null,
   "id": "3122bfb0-5f11-417b-a0a9-ef37d870b4a4",
   "metadata": {
    "tags": []
   },
   "outputs": [],
   "source": [
    "class OfflinePredictor:\n",
    "    def __init__(self):\n",
    "        import xgboost\n",
    "        self._model = xgboost.Booster()\n",
    "        self._model.load_model(checkpoint.path + '/model.json')\n",
    "\n",
    "    def __call__(self, batch):\n",
    "        import xgboost\n",
    "        import pandas as pd\n",
    "        dmatrix = xgboost.DMatrix(pd.DataFrame(batch))    \n",
    "        outputs = self._model.predict(dmatrix)\n",
    "        return {\"prediction\": outputs}"
   ]
  },
  {
   "cell_type": "code",
   "execution_count": null,
   "id": "1eeb3e3f-59c5-4e4e-817a-255516089e6d",
   "metadata": {
    "tags": []
   },
   "outputs": [],
   "source": [
    "predicted_probabilities = valid_dataset.drop_columns(['is_big_tip']).map_batches(OfflinePredictor, compute=ray.data.ActorPoolStrategy(size=2))"
   ]
  },
  {
   "cell_type": "code",
   "execution_count": null,
   "id": "69951313-9bf2-4ab4-9468-e94dae547cc2",
   "metadata": {
    "tags": []
   },
   "outputs": [],
   "source": [
    "predicted_probabilities.take_batch()"
   ]
  },
  {
   "cell_type": "markdown",
   "id": "7afb7984-d36d-4632-8fab-55006daebb09",
   "metadata": {},
   "source": [
    "__Online prediction with Ray Serve__"
   ]
  },
  {
   "cell_type": "code",
   "execution_count": null,
   "id": "e052912a-b700-4367-9e75-afc886f4b6d9",
   "metadata": {
    "tags": []
   },
   "outputs": [],
   "source": [
    "@serve.deployment\n",
    "class OnlinePredictor:\n",
    "    def __init__(self, checkpoint):\n",
    "        import xgboost\n",
    "        self._model = xgboost.Booster()\n",
    "        self._model.load_model(checkpoint.path + '/model.json')        \n",
    "        \n",
    "    async def __call__(self, request: Request) -> dict:\n",
    "        data = await request.json()\n",
    "        data = json.loads(data)\n",
    "        return {\"prediction\": self.get_response(data) }\n",
    "    \n",
    "    def get_response(self, data):\n",
    "        import xgboost\n",
    "        import pandas as pd\n",
    "        dmatrix = xgboost.DMatrix(pd.DataFrame(data, index=[0])) \n",
    "        return self._model.predict(dmatrix)\n",
    "\n",
    "handle = serve.run(OnlinePredictor.bind(checkpoint=checkpoint))"
   ]
  },
  {
   "cell_type": "code",
   "execution_count": null,
   "id": "d0a6c3f0-fb64-468b-8925-5f348391a50e",
   "metadata": {
    "tags": []
   },
   "outputs": [],
   "source": [
    "sample_input = valid_dataset.take(1)[0]\n",
    "del(sample_input['is_big_tip'])\n",
    "del(sample_input['__index_level_0__'])\n",
    "\n",
    "requests.post(\"http://localhost:8000/\", json=json.dumps(sample_input)).json()"
   ]
  },
  {
   "cell_type": "code",
   "execution_count": null,
   "id": "a22eb534-f335-40a6-b535-aa8433e700ba",
   "metadata": {
    "tags": []
   },
   "outputs": [],
   "source": [
    "serve.shutdown()"
   ]
  },
  {
   "cell_type": "markdown",
   "id": "7250cc03-e52c-4e30-a262-8d8e0a5a0837",
   "metadata": {},
   "source": [
    "# Ray Serve\n",
    "\n",
    "Serve is a framework for serving ML applications\n",
    "\n",
    "<img src='https://technical-training-assets.s3.us-west-2.amazonaws.com/Ray_Serve/serve_architecture.png' width=700/>\n",
    "\n",
    "# Deployments\n",
    "\n",
    "`Deployment` is the fundamental developer-facing element of serve.\n",
    "\n",
    "<img src='https://technical-training-assets.s3.us-west-2.amazonaws.com/Ray_Serve/deployment.png' width=600/>\n",
    "\n",
    "<div class=\"alert alert-block alert-info\">\n",
    "    \n",
    "__Roadmap to initial chat app on serve__\n",
    "    \n",
    "1. Discover serve deployments via Hello World example\n",
    "1. Replace placeholder \"Hello World\" logic with Huggingface transformers chatbot\n",
    "1. Reserve GPU resources for our chatbot service\n",
    "</div>\n",
    "\n",
    "## Our First Service\n",
    "\n",
    "Let’s jump right in and get something simple up and running on Ray\n",
    "Serve."
   ]
  },
  {
   "cell_type": "code",
   "execution_count": null,
   "id": "14fb17a6-a71c-4a11-8ea8-b1b350a5fa1c",
   "metadata": {
    "tags": []
   },
   "outputs": [],
   "source": [
    "@serve.deployment\n",
    "class Chat:\n",
    "    def __init__(self, msg: str):\n",
    "        self._msg = msg # initial state\n",
    "\n",
    "    async def __call__(self, request: Request) -> dict:\n",
    "        data = await request.json()\n",
    "        data = json.loads(data)\n",
    "        return {\"result\": self.get_response(data['input']) }\n",
    "    \n",
    "    def get_response(self, message: str) -> str:\n",
    "        return self._msg + message\n",
    "\n",
    "handle = serve.run(Chat.bind(msg=\"Yes... \"), name='hello_world')"
   ]
  },
  {
   "cell_type": "markdown",
   "id": "5f4a0cdb-822a-4439-aeab-9916dd8d059c",
   "metadata": {},
   "source": [
    "We can test it as an HTTP endpoint"
   ]
  },
  {
   "cell_type": "code",
   "execution_count": null,
   "id": "1c0a80e9-c26f-48d2-8985-ef4eab4dc580",
   "metadata": {
    "tags": []
   },
   "outputs": [],
   "source": [
    "sample_json = '{ \"input\" : \"hello\" }'\n",
    "requests.post(\"http://localhost:8000/\", json = sample_json).json()"
   ]
  },
  {
   "cell_type": "markdown",
   "id": "75fde48c-a97f-425e-b304-cf455bc07737",
   "metadata": {},
   "source": [
    "<div class=\"alert alert-block alert-success\">\n",
    "    \n",
    "__Lab activity: implement a web service with Ray Serve__\n",
    "    \n",
    "The following function will calculate the approximate loan payment for a car.\n",
    "    \n",
    "```python\n",
    " def monthly_payment(total_price, rate, years_of_loan):\n",
    "    n = 365.25 # compounding periods\n",
    "    total_paid = total_price * (((1 + ((rate/100.0)/n)) ** (n*years_of_loan)))\n",
    "    per_month = total_paid / (12 * years_of_loan)\n",
    "    return per_month\n",
    "```\n",
    "   \n",
    "<br/>\n",
    "Deploy this calculator as a web service with Ray Serve!\n",
    "    \n",
    "</div>\n"
   ]
  },
  {
   "cell_type": "markdown",
   "id": "c1598e24-bf7f-47dc-96bc-10a7397490ef",
   "metadata": {},
   "source": [
    "## Key APIs and concepts\n",
    "\n",
    "Using Ray Serve, a single Ray cluster can host a __service__ made up of one or more __applications__\n",
    "\n",
    "__Applications__ are coarse-grained chunks of functionality *which can be independently upgraded* (i.e., without impacting other applications on the same cluster)\n",
    "\n",
    "An __application__ is made up of one or more __deployments__\n",
    "\n",
    "A __deployment__ is a smaller component which can\n",
    "* specify its own hardware are other resource requirements (like GPUs)\n",
    "* specify its own runtime environments (like libraries)\n",
    "* scale independently (including autoscaling)\n",
    "* maintain state (e.g., models)\n",
    "\n",
    "We can use __deployments__ to achieve *separation of concerns* -- e.g., separating different models, chunks of business logic, or data conversion\n",
    "\n",
    "__Ingress deployments__ are typically accessed via HTTP, while other supporting deployments are typically accessed at runtime via a Python `ServeHandle` -- allowing any Serve component (or Ray code) to interact directly with other components as needed\n",
    "\n",
    "We create a __deployment__ by applying the `@serve.deployment` decorator to a regular Python class or function. We create and start an __application__ by calling `serve.run` on a deployment (typically an ingress deployment)."
   ]
  },
  {
   "cell_type": "markdown",
   "id": "3d06905e-d1cf-43a2-9ada-d8ebea204e6c",
   "metadata": {},
   "source": [
    "### Demo: calling a component from Python via a ServeHandle "
   ]
  },
  {
   "cell_type": "code",
   "execution_count": null,
   "id": "6e5a2710-b219-47b5-84a4-ca702eee270d",
   "metadata": {
    "tags": []
   },
   "outputs": [],
   "source": [
    "response = handle.get_response.remote('hello')\n",
    "response"
   ]
  },
  {
   "cell_type": "markdown",
   "id": "f6b55aee-36cf-4685-add1-17bb60f4ebcc",
   "metadata": {},
   "source": [
    "In order to support maximal performance, values from remote calls, such as our response string here, are returned as object references (a bit like futures or promises in some frameworks). If we want to block, wait for the result to be ready, and retrieve it, we can use `ray.get(...)`"
   ]
  },
  {
   "cell_type": "code",
   "execution_count": null,
   "id": "20d2254f-f336-4772-8cb4-438edbea1f9d",
   "metadata": {
    "tags": []
   },
   "outputs": [],
   "source": [
    "ray.get(response)"
   ]
  },
  {
   "cell_type": "markdown",
   "id": "4c49bf50-a248-42dc-ad54-424cc186c842",
   "metadata": {},
   "source": [
    "### Demo: observing application and deployment status"
   ]
  },
  {
   "cell_type": "code",
   "execution_count": null,
   "id": "572f10df-9bf3-4ffb-8e57-1c9b8cac058c",
   "metadata": {
    "tags": []
   },
   "outputs": [],
   "source": [
    "! serve status"
   ]
  },
  {
   "cell_type": "code",
   "execution_count": null,
   "id": "2cc43ed1-fcd1-4df7-8d40-e85d7347d658",
   "metadata": {
    "tags": []
   },
   "outputs": [],
   "source": [
    "serve.status()"
   ]
  },
  {
   "cell_type": "markdown",
   "id": "ca5ccabd-571f-40db-b163-327891ff3edf",
   "metadata": {},
   "source": [
    "Check the Ray dashboard as well to see more information"
   ]
  },
  {
   "cell_type": "code",
   "execution_count": null,
   "id": "4a6e8484-50d1-401c-96c5-1e4247ecb7de",
   "metadata": {
    "tags": []
   },
   "outputs": [],
   "source": [
    "serve.delete('hello_world')"
   ]
  }
 ],
 "metadata": {
  "kernelspec": {
   "display_name": "Python 3 (ipykernel)",
   "language": "python",
   "name": "python3"
  },
  "language_info": {
   "codemirror_mode": {
    "name": "ipython",
    "version": 3
   },
   "file_extension": ".py",
   "mimetype": "text/x-python",
   "name": "python",
   "nbconvert_exporter": "python",
   "pygments_lexer": "ipython3",
   "version": "3.10.8"
  }
 },
 "nbformat": 4,
 "nbformat_minor": 5
}
