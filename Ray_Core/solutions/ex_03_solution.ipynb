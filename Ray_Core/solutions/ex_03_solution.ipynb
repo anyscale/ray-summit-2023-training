{
 "cells": [
  {
   "cell_type": "code",
   "execution_count": null,
   "id": "b456a148-3f34-468f-a889-3f319489444b",
   "metadata": {},
   "outputs": [],
   "source": [
    "import logging\n",
    "import time\n",
    "import os\n",
    "import math\n",
    "import ray\n",
    "import random\n",
    "import tqdm\n",
    "from typing import Dict, Tuple, List\n",
    "from random import randint\n",
    "import numpy as np"
   ]
  },
  {
   "cell_type": "code",
   "execution_count": null,
   "id": "834f3f49-5ce3-4942-a8d2-7aa490fdb73b",
   "metadata": {},
   "outputs": [],
   "source": [
    "if ray.is_initialized:\n",
    "    ray.shutdown()\n",
    "ray.init(logging_level=logging.ERROR)"
   ]
  },
  {
   "cell_type": "code",
   "execution_count": null,
   "id": "1098ee33-9bec-4345-ba87-4a1ed9b87437",
   "metadata": {},
   "outputs": [],
   "source": [
    "class ActorCls:\n",
    "    def __init__(self, name: str):\n",
    "        self.name = name\n",
    "        self.method_calls = {\"method\": 0}\n",
    "\n",
    "    def method(self, **args) -> None:\n",
    "        # Overwrite this method in the subclass\n",
    "        pass\n",
    "\n",
    "    def get_all_method_calls(self) -> Tuple[str, Dict[str, int]]:\n",
    "        return self.get_name(), self.method_calls\n",
    "    \n",
    "    def get_name(self) -> str:\n",
    "        return self.name"
   ]
  },
  {
   "cell_type": "code",
   "execution_count": null,
   "id": "5ce35e3d-566e-493a-99c1-560eb1ca0788",
   "metadata": {},
   "outputs": [],
   "source": [
    "@ray.remote\n",
    "class ActorClsOne(ActorCls):\n",
    "    \n",
    "    def __init__(self, name: str):\n",
    "        super().__init__(name)\n",
    "        \n",
    "    def method(self, **args) -> None:\n",
    "        # do something with kwargs here\n",
    "        time.sleep(args[\"timeout\"])\n",
    "        \n",
    "        # update the respective counter\n",
    "        self.method_calls[\"method\"] += 1"
   ]
  },
  {
   "cell_type": "code",
   "execution_count": null,
   "id": "93940068-fde2-48da-9621-c7bb769cf300",
   "metadata": {},
   "outputs": [],
   "source": [
    "@ray.remote\n",
    "class ActorClsTwo(ActorCls):\n",
    "    \n",
    "    def __init__(self, name: str):\n",
    "         super().__init__(name)\n",
    "        \n",
    "    def method(self, **args) -> None:\n",
    "        # do something with kwargs here\n",
    "        time.sleep(args[\"timeout\"])\n",
    "        \n",
    "        # update the respective counter\n",
    "        self.method_calls[\"method\"] += 1"
   ]
  },
  {
   "cell_type": "code",
   "execution_count": null,
   "id": "42b7346a-e3e0-4074-a426-8753b1df687e",
   "metadata": {},
   "outputs": [],
   "source": [
    "@ray.remote\n",
    "class ActorClsThree(ActorCls):\n",
    "    \n",
    "    def __init__(self, name: str):\n",
    "         super().__init__(name)\n",
    "        \n",
    "    def method(self, **args) -> None:\n",
    "        # do something with kwargs here\n",
    "        time.sleep(args[\"timeout\"])\n",
    "        \n",
    "        # update the respective counter\n",
    "        self.method_calls[\"method\"] += 1"
   ]
  },
  {
   "cell_type": "code",
   "execution_count": null,
   "id": "8aa5fc45-b15b-4c2d-aec1-9c051d37c423",
   "metadata": {},
   "outputs": [],
   "source": [
    "actor_one = ActorClsOne.remote(\"ActorClsOne\")\n",
    "actor_two = ActorClsTwo.remote(\"ActorClsTwo\")\n",
    "actor_three = ActorClsTwo.remote(\"ActorClsThree\")"
   ]
  },
  {
   "cell_type": "code",
   "execution_count": null,
   "id": "c30cb397-2f64-491c-9a34-60f3687e9b5d",
   "metadata": {},
   "outputs": [],
   "source": [
    "# A list of Actor classes\n",
    "CALLERS_NAMES = [\"ActorClsOne\", \"ActorClsTwo\", \"ActorClsThree\"]\n",
    "\n",
    "# A dictionary of Actor instances\n",
    "CALLERS_CLS_DICT = {\"ActorClsOne\": actor_one, \n",
    "                    \"ActorClsTwo\": actor_two,\n",
    "                    \"ActorClsThree\": actor_three}"
   ]
  },
  {
   "cell_type": "code",
   "execution_count": null,
   "id": "22a4f44a-77b2-4459-a863-84b986eb5a1b",
   "metadata": {},
   "outputs": [],
   "source": [
    "count_dict = {\"ActorClsOne\": 0, \"ActorClsTwo\": 0, \"ActorClsThree\": 0}\n",
    "for _ in range(len(CALLERS_NAMES)): \n",
    "    for _ in range(15):\n",
    "        name = random.choice(CALLERS_NAMES)\n",
    "        count_dict[name] += 1 \n",
    "        CALLERS_CLS_DICT[name].method.remote(timeout=1, store=\"mongo_db\") if name == \"ActorClsOne\" else CALLERS_CLS_DICT[name].method.remote(timeout=1.5, store=\"delta\")\n",
    "        \n",
    "    print(f\"State of counts in this execution: {count_dict}\")\n",
    "    time.sleep(0.5)"
   ]
  },
  {
   "cell_type": "code",
   "execution_count": null,
   "id": "a2897704-2400-4731-b6e9-44164aa46db8",
   "metadata": {},
   "outputs": [],
   "source": [
    "print(ray.get([CALLERS_CLS_DICT[name].get_all_method_calls.remote() for name in CALLERS_NAMES]))"
   ]
  },
  {
   "cell_type": "code",
   "execution_count": null,
   "id": "8a2d525b-da65-41b2-bf32-f950926bbd31",
   "metadata": {},
   "outputs": [],
   "source": [
    "ray.shutdown()"
   ]
  }
 ],
 "metadata": {
  "kernelspec": {
   "display_name": "Python 3 (ipykernel)",
   "language": "python",
   "name": "python3"
  },
  "language_info": {
   "codemirror_mode": {
    "name": "ipython",
    "version": 3
   },
   "file_extension": ".py",
   "mimetype": "text/x-python",
   "name": "python",
   "nbconvert_exporter": "python",
   "pygments_lexer": "ipython3",
   "version": "3.8.13"
  }
 },
 "nbformat": 4,
 "nbformat_minor": 5
}
