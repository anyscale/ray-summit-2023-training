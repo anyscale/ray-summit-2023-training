{
 "cells": [
  {
   "cell_type": "markdown",
   "id": "cc0bde7d-8e4d-4fae-98c6-463c55566e41",
   "metadata": {},
   "source": [
    "## Topics\n",
    "\n",
    "- Context of Ray Serve\n",
    "- Deployments\n",
    "- Service resources (e.g., CPU/GPU/...)\n",
    "- Runtime environments and dependencies\n",
    "- Imperative pattern for service composition\n",
    "- Declarative (graph) pattern for service composition\n",
    "- Architecture / Under-the-hood\n",
    "- Scaling and Performance\n",
    "- Request batching\n",
    "- Additional production tools, tips, and patterns\n",
    "\n",
    "### Our example scenario: multilingual LLM chat\n",
    "\n",
    "For our example use case, we’ll see how to leverage Ray Serve to host a LLM Chat\n",
    "model and how to enhance it using additional services for multilingual\n",
    "interactions.\n"
   ]
  },
  {
   "cell_type": "code",
   "execution_count": null,
   "id": "d5959375-2d59-4f94-b456-fd2a9c087a0e",
   "metadata": {},
   "outputs": [],
   "source": []
  }
 ],
 "metadata": {
  "kernelspec": {
   "display_name": "Python 3 (ipykernel)",
   "language": "python",
   "name": "python3"
  },
  "language_info": {
   "codemirror_mode": {
    "name": "ipython",
    "version": 3
   },
   "file_extension": ".py",
   "mimetype": "text/x-python",
   "name": "python",
   "nbconvert_exporter": "python",
   "pygments_lexer": "ipython3",
   "version": "3.9.15"
  }
 },
 "nbformat": 4,
 "nbformat_minor": 5
}
