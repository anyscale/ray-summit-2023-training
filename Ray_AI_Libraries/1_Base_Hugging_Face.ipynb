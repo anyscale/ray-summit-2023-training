{
 "cells": [
  {
   "cell_type": "markdown",
   "id": "d14912a1",
   "metadata": {},
   "source": [
    "# 1. Fine-Tune ViT for Image Classification with Hugging Face\n",
    "---\n",
    "\n",
    "**Milestone 1: Using Plain Hugging Face Transformers**\n",
    "\n",
    "In this kick-off notebook, we're jumping straight into one of the most active areas of deep learning: transformers. You've likely heard of using transformers for natural language tasks, but there's also been great strides in using this architecture for audio, visual, and other multimodal applications. Today we'll be fine-tuning Vision Transformers (ViTs) for image classification using Hugging Face, without Ray.\n",
    "\n",
    "But, this isn't just a one-and-done exercise! This initial example serves as the foundation for our subsequent notebooks, where we'll gently weave in the capabilities of Ray Train, Ray Data, and Ray Serve for scalable machine learning. So, let's get familiar with the base logic here so that we can hit the ground running in the next notebook.\n",
    "\n",
    "Credit: This notebook is based on Nate Raw's blog [\"Fine-Tune ViT for Image Classification with 🤗 Transformers\"](https://huggingface.co/blog/fine-tune-vit).\n",
    "\n",
    "**Featured Libraries**\n",
    "* [Hugging Face `transformers`](https://huggingface.co/docs/transformers/index)\n",
    "    * A popular library for working with transformer models, which we will use for accessing and fine-tuning a pretrained Vision Transformer.\n",
    "* [Hugging Face `datasets`](https://huggingface.co/docs/datasets/index)\n",
    "    * Useful for accessing and sharing datasets with the larger AI community; usually much cleaner than real-world data.\n",
    "\n",
    "**Table of Contents**\n",
    "1. [Set-Up](#1-set-up)\n",
    "    * Load the dataset\n",
    "    * Load the feature extractor\n",
    "    * Load the model\n",
    "2. [Image Processing](#2-image-processing)\n",
    "3. [Establish Training Logic](#3-establish-training-logic)\n",
    "    * Define data collector\n",
    "    * Define evaluation metric\n",
    "    * Define training arguments\n",
    "4. [Launch Fine-Tuning](#4-launch-fine-tuning)"
   ]
  },
  {
   "cell_type": "markdown",
   "id": "e83b63a4",
   "metadata": {},
   "source": [
    "## 1. Set-up <a class=\"anchor\" id=\"1-set-up\"></a>\n",
    "\n",
    "The Vision Transformer, or ViT for short, was introduced in a groundbreaking paper by researchers at Google Brain in [June 2021](https://arxiv.org/abs/2010.11929). This innovation explores the concept of tokenizing images, similar to how we tokenize sentences in NLP, enabling us to leverage transformer models for image-related tasks.\n",
    "\n",
    "![ViT Architecture](https://huggingface.co/blog/assets/51_fine_tune_vit/vit-figure.jpg)\n",
    "\n",
    "This approach can be summarized in three major steps:\n",
    "\n",
    "1. **Image Tokenization**: Images are divided into a grid of sub-image patches.\n",
    "\n",
    "2. **Linear Projection**: Each patch is embedded using a linear projection, effectively converting visual content into numerical representations.\n",
    "\n",
    "3. **Tokenized Sequence**: These embedded patches are treated as tokens, forming a sequence that can be processed by transformer models."
   ]
  },
  {
   "cell_type": "markdown",
   "id": "318af072",
   "metadata": {},
   "source": [
    "### Imports\n",
    "\n",
    "As mentioned above, the focus areas here will be using Hugging Face's `datasets` and `transformers` libraries to fine-tune our Vision Transformer."
   ]
  },
  {
   "cell_type": "code",
   "execution_count": null,
   "id": "3a76c85f-b220-4ea1-a0e4-3b23a50468e8",
   "metadata": {
    "tags": []
   },
   "outputs": [],
   "source": [
    "import torch\n",
    "import numpy as np\n",
    "\n",
    "from datasets import load_dataset, load_metric\n",
    "from transformers import ViTFeatureExtractor, ViTForImageClassification, TrainingArguments, Trainer"
   ]
  },
  {
   "cell_type": "markdown",
   "id": "29e7b503",
   "metadata": {},
   "source": [
    "### Load the Hugging Face dataset\n",
    "\n",
    "For ease of start-up, we'll use the [`beans` dataset](https://huggingface.co/datasets/beans) which contains ~1000 images of bean leaves with the intention of classifying healthy and diseased plants.\n",
    "\n",
    "Note: Later on, we'll replace this dataset a form you'll likely encounter in a real pipeline, like reading from an S3 bucket."
   ]
  },
  {
   "cell_type": "code",
   "execution_count": null,
   "id": "8057ff74-0b84-4604-8dce-ce99cf3f6d2d",
   "metadata": {
    "tags": []
   },
   "outputs": [],
   "source": [
    "ds = load_dataset('beans', cache_dir='/mnt/local_storage')"
   ]
  },
  {
   "cell_type": "markdown",
   "id": "21c7e0a0",
   "metadata": {},
   "source": [
    "### Load the ViT feature extractor\n",
    "\n",
    "Each Hugging Face transformer model has an associated `FeatureExtractor` which crystallizes the logic for transforming raw data into a format suited for that particular model."
   ]
  },
  {
   "cell_type": "code",
   "execution_count": null,
   "id": "645b5c15-94ed-412e-b4c0-38f7db6cf2e6",
   "metadata": {
    "tags": []
   },
   "outputs": [],
   "source": [
    "model_name_or_path = 'google/vit-base-patch16-224-in21k'\n",
    "feature_extractor = ViTFeatureExtractor.from_pretrained(model_name_or_path)"
   ]
  },
  {
   "cell_type": "markdown",
   "id": "044f0db1",
   "metadata": {},
   "source": [
    "### Load the ViT model\n",
    "\n",
    "We'll fetch the pretrained model from the Hugging Face Hub, and importantly, specify `num_labels` to set the correct dimensions for the classification head (should be 2 for binary classification).\n",
    "\n",
    "The mapping of `id2label` and `label2id` just translates between indices and human-readable labels"
   ]
  },
  {
   "cell_type": "code",
   "execution_count": null,
   "id": "f81a37c5",
   "metadata": {},
   "outputs": [],
   "source": [
    "labels = ds['train'].features['labels'].names\n",
    "\n",
    "model = ViTForImageClassification.from_pretrained(\n",
    "    model_name_or_path,\n",
    "    num_labels=len(labels),\n",
    "    id2label={str(i): c for i, c in enumerate(labels)},\n",
    "    label2id={c: str(i) for i, c in enumerate(labels)}\n",
    ")"
   ]
  },
  {
   "cell_type": "markdown",
   "id": "b8b5c51c",
   "metadata": {},
   "source": [
    "## 2. Image Processing <a class=\"anchor\" id=\"2-image-processing\"></a>\n",
    "\n",
    "With the feature extractor we loaded, let's transform the `beans` dataset in preparation for training."
   ]
  },
  {
   "cell_type": "code",
   "execution_count": null,
   "id": "1325ca28-ecda-4075-8433-2e61da64c5ed",
   "metadata": {
    "tags": []
   },
   "outputs": [],
   "source": [
    "def transform(example_batch):\n",
    "    # Take a list of PIL images and turn them to pixel values as torch tensors.\n",
    "    inputs = feature_extractor([x for x in example_batch['image']], return_tensors='pt')\n",
    "\n",
    "    # Don't forget to include the labels!\n",
    "    inputs['labels'] = example_batch['labels']\n",
    "    return inputs"
   ]
  },
  {
   "cell_type": "code",
   "execution_count": null,
   "id": "2eb36a69",
   "metadata": {},
   "outputs": [],
   "source": [
    "prepared_ds = ds.with_transform(transform)"
   ]
  },
  {
   "cell_type": "markdown",
   "id": "a3e2f61a",
   "metadata": {},
   "source": [
    "## 3. Establish Training Logic <a class=\"anchor\" id=\"3-establish-training-logic\"></a>\n",
    "\n",
    "In this section, we'll prepare all of the necessary logic to feed into the Hugging Face `Trainer` that executes our fine-tuning step."
   ]
  },
  {
   "cell_type": "markdown",
   "id": "f9868fe5",
   "metadata": {},
   "source": [
    "### Define the data collector\n",
    "\n",
    "This `collate` function unpacks and stacks batches from lists of dicts to batch tensors."
   ]
  },
  {
   "cell_type": "code",
   "execution_count": null,
   "id": "477199dd-f817-448f-8605-a583d1967918",
   "metadata": {
    "tags": []
   },
   "outputs": [],
   "source": [
    "def collate_fn(batch):\n",
    "    return {\n",
    "        'pixel_values': torch.stack([x['pixel_values'] for x in batch]),\n",
    "        'labels': torch.tensor([x['labels'] for x in batch])\n",
    "    }"
   ]
  },
  {
   "cell_type": "markdown",
   "id": "a5eb34df",
   "metadata": {},
   "source": [
    "### Define an evaluation metric\n",
    "\n",
    "With a classification task, we can just compare the ground truth labels with the predictions to get a first-order evaluation metric."
   ]
  },
  {
   "cell_type": "code",
   "execution_count": null,
   "id": "ca9eacad-bb6b-4c57-978e-bcf3efa5e542",
   "metadata": {
    "tags": []
   },
   "outputs": [],
   "source": [
    "metric = load_metric(\"accuracy\")\n",
    "\n",
    "def compute_metrics(p):\n",
    "    return metric.compute(predictions=np.argmax(p.predictions, axis=1), references=p.label_ids)"
   ]
  },
  {
   "cell_type": "markdown",
   "id": "a9166b80",
   "metadata": {},
   "source": [
    "### Set-up `TrainingArguments`\n",
    "\n",
    "In the `transformers` library, you can specify a variety of hyperparameters, optimizers, and other options in your [`TrainingArguments` configuration](https://huggingface.co/docs/transformers/v4.16.2/en/main_classes/trainer#transformers.TrainingArguments). One to call out here is `remove_unused_columns=False` which preserves our \"unused\" image because it is necessary for generating pixel values."
   ]
  },
  {
   "cell_type": "code",
   "execution_count": null,
   "id": "363a9657-9d88-471a-a116-4d83d8cf5411",
   "metadata": {
    "tags": []
   },
   "outputs": [],
   "source": [
    "training_args = TrainingArguments(\n",
    "  output_dir=\"/mnt/local_storage/vit-base-beans-demo-v5\",\n",
    "  per_device_train_batch_size=16,\n",
    "  evaluation_strategy=\"steps\",\n",
    "  num_train_epochs=4,\n",
    "  fp16=True,\n",
    "  save_steps=100,\n",
    "  eval_steps=100,\n",
    "  logging_steps=10,\n",
    "  learning_rate=2e-4,\n",
    "  save_total_limit=2,\n",
    "  remove_unused_columns=False,\n",
    "  push_to_hub=False,\n",
    "  report_to='tensorboard',\n",
    "  load_best_model_at_end=True,\n",
    ")"
   ]
  },
  {
   "cell_type": "markdown",
   "id": "a2b16518",
   "metadata": {},
   "source": [
    "### Construct the Trainer"
   ]
  },
  {
   "cell_type": "code",
   "execution_count": null,
   "id": "1fe47e52-7efb-481e-82fb-a1a84c1fc873",
   "metadata": {
    "tags": []
   },
   "outputs": [],
   "source": [
    "trainer = Trainer(\n",
    "    model=model,\n",
    "    args=training_args,\n",
    "    data_collator=collate_fn,\n",
    "    compute_metrics=compute_metrics,\n",
    "    train_dataset=prepared_ds[\"train\"],\n",
    "    eval_dataset=prepared_ds[\"validation\"],\n",
    "    tokenizer=feature_extractor,\n",
    ")"
   ]
  },
  {
   "cell_type": "markdown",
   "id": "f97330d3",
   "metadata": {},
   "source": [
    "## 4. Launch Fine-Tuning <a class=\"anchor\" id=\"4-launch-fine-tuning\"></a>"
   ]
  },
  {
   "cell_type": "code",
   "execution_count": null,
   "id": "894a471a-f35d-421c-9fe7-631584d5decd",
   "metadata": {
    "tags": []
   },
   "outputs": [],
   "source": [
    "train_results = trainer.train()\n",
    "\n",
    "trainer.save_model()\n",
    "trainer.log_metrics(\"train\", train_results.metrics)\n",
    "trainer.save_metrics(\"train\", train_results.metrics)\n",
    "trainer.save_state()"
   ]
  },
  {
   "cell_type": "markdown",
   "id": "75b30cd7",
   "metadata": {},
   "source": [
    "Alright, now that we have the basic flow, let's go to the next notebook to see how to adapt the fine-tuning step with Ray Train to take advantage of a cluster!"
   ]
  }
 ],
 "metadata": {
  "kernelspec": {
   "display_name": "Python 3 (ipykernel)",
   "language": "python",
   "name": "python3"
  },
  "language_info": {
   "codemirror_mode": {
    "name": "ipython",
    "version": 3
   },
   "file_extension": ".py",
   "mimetype": "text/x-python",
   "name": "python",
   "nbconvert_exporter": "python",
   "pygments_lexer": "ipython3",
   "version": "3.10.8"
  }
 },
 "nbformat": 4,
 "nbformat_minor": 5
}
